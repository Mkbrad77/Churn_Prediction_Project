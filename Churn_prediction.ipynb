{
  "cells": [
    {
      "cell_type": "markdown",
      "metadata": {
        "id": "0AWKFAoAtlVV"
      },
      "source": [
        "# Projet : Analyse et prédiction des churns dans un service d'abonnement Internet."
      ]
    },
    {
      "cell_type": "markdown",
      "metadata": {
        "id": "IDfGxrUSt0iL"
      },
      "source": [
        "Dans un premier temps nous allons importer nos données"
      ]
    },
    {
      "cell_type": "code",
      "execution_count": null,
      "metadata": {
        "colab": {
          "base_uri": "https://localhost:8080/"
        },
        "id": "Na96ORvsh8Mm",
        "outputId": "05a48e18-7ad2-4d5e-d4b4-7f2fceaaff8c"
      },
      "outputs": [
        {
          "name": "stdout",
          "output_type": "stream",
          "text": [
            "Requirement already satisfied: datasets in /usr/local/lib/python3.10/dist-packages (2.19.2)\n",
            "Requirement already satisfied: filelock in /usr/local/lib/python3.10/dist-packages (from datasets) (3.14.0)\n",
            "Requirement already satisfied: numpy>=1.17 in /usr/local/lib/python3.10/dist-packages (from datasets) (1.25.2)\n",
            "Requirement already satisfied: pyarrow>=12.0.0 in /usr/local/lib/python3.10/dist-packages (from datasets) (14.0.2)\n",
            "Requirement already satisfied: pyarrow-hotfix in /usr/local/lib/python3.10/dist-packages (from datasets) (0.6)\n",
            "Requirement already satisfied: dill<0.3.9,>=0.3.0 in /usr/local/lib/python3.10/dist-packages (from datasets) (0.3.8)\n",
            "Requirement already satisfied: pandas in /usr/local/lib/python3.10/dist-packages (from datasets) (2.0.3)\n",
            "Requirement already satisfied: requests>=2.32.1 in /usr/local/lib/python3.10/dist-packages (from datasets) (2.32.3)\n",
            "Requirement already satisfied: tqdm>=4.62.1 in /usr/local/lib/python3.10/dist-packages (from datasets) (4.66.4)\n",
            "Requirement already satisfied: xxhash in /usr/local/lib/python3.10/dist-packages (from datasets) (3.4.1)\n",
            "Requirement already satisfied: multiprocess in /usr/local/lib/python3.10/dist-packages (from datasets) (0.70.16)\n",
            "Requirement already satisfied: fsspec[http]<=2024.3.1,>=2023.1.0 in /usr/local/lib/python3.10/dist-packages (from datasets) (2023.6.0)\n",
            "Requirement already satisfied: aiohttp in /usr/local/lib/python3.10/dist-packages (from datasets) (3.9.5)\n",
            "Requirement already satisfied: huggingface-hub>=0.21.2 in /usr/local/lib/python3.10/dist-packages (from datasets) (0.23.2)\n",
            "Requirement already satisfied: packaging in /usr/local/lib/python3.10/dist-packages (from datasets) (24.0)\n",
            "Requirement already satisfied: pyyaml>=5.1 in /usr/local/lib/python3.10/dist-packages (from datasets) (6.0.1)\n",
            "Requirement already satisfied: aiosignal>=1.1.2 in /usr/local/lib/python3.10/dist-packages (from aiohttp->datasets) (1.3.1)\n",
            "Requirement already satisfied: attrs>=17.3.0 in /usr/local/lib/python3.10/dist-packages (from aiohttp->datasets) (23.2.0)\n",
            "Requirement already satisfied: frozenlist>=1.1.1 in /usr/local/lib/python3.10/dist-packages (from aiohttp->datasets) (1.4.1)\n",
            "Requirement already satisfied: multidict<7.0,>=4.5 in /usr/local/lib/python3.10/dist-packages (from aiohttp->datasets) (6.0.5)\n",
            "Requirement already satisfied: yarl<2.0,>=1.0 in /usr/local/lib/python3.10/dist-packages (from aiohttp->datasets) (1.9.4)\n",
            "Requirement already satisfied: async-timeout<5.0,>=4.0 in /usr/local/lib/python3.10/dist-packages (from aiohttp->datasets) (4.0.3)\n",
            "Requirement already satisfied: typing-extensions>=3.7.4.3 in /usr/local/lib/python3.10/dist-packages (from huggingface-hub>=0.21.2->datasets) (4.12.1)\n",
            "Requirement already satisfied: charset-normalizer<4,>=2 in /usr/local/lib/python3.10/dist-packages (from requests>=2.32.1->datasets) (3.3.2)\n",
            "Requirement already satisfied: idna<4,>=2.5 in /usr/local/lib/python3.10/dist-packages (from requests>=2.32.1->datasets) (3.7)\n",
            "Requirement already satisfied: urllib3<3,>=1.21.1 in /usr/local/lib/python3.10/dist-packages (from requests>=2.32.1->datasets) (2.0.7)\n",
            "Requirement already satisfied: certifi>=2017.4.17 in /usr/local/lib/python3.10/dist-packages (from requests>=2.32.1->datasets) (2024.6.2)\n",
            "Requirement already satisfied: python-dateutil>=2.8.2 in /usr/local/lib/python3.10/dist-packages (from pandas->datasets) (2.8.2)\n",
            "Requirement already satisfied: pytz>=2020.1 in /usr/local/lib/python3.10/dist-packages (from pandas->datasets) (2023.4)\n",
            "Requirement already satisfied: tzdata>=2022.1 in /usr/local/lib/python3.10/dist-packages (from pandas->datasets) (2024.1)\n",
            "Requirement already satisfied: six>=1.5 in /usr/local/lib/python3.10/dist-packages (from python-dateutil>=2.8.2->pandas->datasets) (1.16.0)\n"
          ]
        }
      ],
      "source": [
        "!pip install datasets"
      ]
    },
    {
      "cell_type": "code",
      "execution_count": null,
      "metadata": {
        "colab": {
          "base_uri": "https://localhost:8080/"
        },
        "id": "imM88oDbhUt_",
        "outputId": "2c5311b8-18e2-429a-8d85-6656688fcece"
      },
      "outputs": [
        {
          "name": "stderr",
          "output_type": "stream",
          "text": [
            "/usr/local/lib/python3.10/dist-packages/huggingface_hub/utils/_token.py:89: UserWarning: \n",
            "The secret `HF_TOKEN` does not exist in your Colab secrets.\n",
            "To authenticate with the Hugging Face Hub, create a token in your settings tab (https://huggingface.co/settings/tokens), set it as secret in your Google Colab and restart your session.\n",
            "You will be able to reuse this secret in all of your notebooks.\n",
            "Please note that authentication is recommended but still optional to access public models or datasets.\n",
            "  warnings.warn(\n"
          ]
        }
      ],
      "source": [
        "from datasets import load_dataset\n",
        "\n",
        "dataset = load_dataset(\"d0r1h/customer_churn\")"
      ]
    },
    {
      "cell_type": "markdown",
      "metadata": {
        "id": "wZOl527eHXdQ"
      },
      "source": [
        "# Traitement des données\n"
      ]
    },
    {
      "cell_type": "markdown",
      "metadata": {
        "id": "Gt6uOrMBuBqj"
      },
      "source": [
        "Affichons nos données et stockons les dans un dataframe Spark"
      ]
    },
    {
      "cell_type": "code",
      "execution_count": null,
      "metadata": {
        "colab": {
          "base_uri": "https://localhost:8080/"
        },
        "id": "fmndJf1VjvrO",
        "outputId": "0cd7592d-4fc7-40e7-be57-d5055a62fe06"
      },
      "outputs": [
        {
          "name": "stdout",
          "output_type": "stream",
          "text": [
            "DatasetDict({\n",
            "    train: Dataset({\n",
            "        features: ['age', 'gender', 'security_no', 'region_category', 'membership_category', 'joining_date', 'joined_through_referral', 'referral_id', 'preferred_offer_types', 'medium_of_operation', 'internet_option', 'last_visit_time', 'days_since_last_login', 'avg_time_spent', 'avg_transaction_value', 'avg_frequency_login_days', 'points_in_wallet', 'used_special_discount', 'offer_application_preference', 'past_complaint', 'complaint_status', 'feedback', 'churn_risk_score'],\n",
            "        num_rows: 36992\n",
            "    })\n",
            "})\n"
          ]
        }
      ],
      "source": [
        "print(dataset)"
      ]
    },
    {
      "cell_type": "code",
      "execution_count": null,
      "metadata": {
        "colab": {
          "base_uri": "https://localhost:8080/"
        },
        "id": "seNO8jmBrF1z",
        "outputId": "57ae3513-e327-46b8-9d75-5d44106a80cc"
      },
      "outputs": [
        {
          "data": {
            "text/plain": [
              "DatasetDict({\n",
              "    train: Dataset({\n",
              "        features: ['age', 'gender', 'security_no', 'region_category', 'membership_category', 'joining_date', 'joined_through_referral', 'referral_id', 'preferred_offer_types', 'medium_of_operation', 'internet_option', 'last_visit_time', 'days_since_last_login', 'avg_time_spent', 'avg_transaction_value', 'avg_frequency_login_days', 'points_in_wallet', 'used_special_discount', 'offer_application_preference', 'past_complaint', 'complaint_status', 'feedback', 'churn_risk_score'],\n",
              "        num_rows: 36992\n",
              "    })\n",
              "})"
            ]
          },
          "execution_count": 4,
          "metadata": {},
          "output_type": "execute_result"
        }
      ],
      "source": [
        "dataset"
      ]
    },
    {
      "cell_type": "code",
      "execution_count": null,
      "metadata": {
        "colab": {
          "base_uri": "https://localhost:8080/"
        },
        "id": "_2VXiVaXrbKa",
        "outputId": "c6146de5-988f-4f2e-ecf8-7b9c0a975eb5"
      },
      "outputs": [
        {
          "data": {
            "text/plain": [
              "datasets.dataset_dict.DatasetDict"
            ]
          },
          "execution_count": 5,
          "metadata": {},
          "output_type": "execute_result"
        }
      ],
      "source": [
        "type(dataset)"
      ]
    },
    {
      "cell_type": "code",
      "execution_count": null,
      "metadata": {
        "colab": {
          "base_uri": "https://localhost:8080/"
        },
        "id": "379EZpXMpbXB",
        "outputId": "c2594dd9-a16f-4e1c-e210-aa7d6859802a"
      },
      "outputs": [
        {
          "name": "stdout",
          "output_type": "stream",
          "text": [
            "Requirement already satisfied: pyspark in /usr/local/lib/python3.10/dist-packages (3.5.1)\n",
            "Requirement already satisfied: py4j==0.10.9.7 in /usr/local/lib/python3.10/dist-packages (from pyspark) (0.10.9.7)\n"
          ]
        }
      ],
      "source": [
        "!pip install pyspark"
      ]
    },
    {
      "cell_type": "code",
      "execution_count": null,
      "metadata": {
        "colab": {
          "base_uri": "https://localhost:8080/"
        },
        "id": "H63DTdmRVAhv",
        "outputId": "d2d1ad11-7133-41dd-cebf-064fad3fb2c4"
      },
      "outputs": [
        {
          "name": "stdout",
          "output_type": "stream",
          "text": [
            "+---+------------------------+--------------+---------------------+----------------+--------------------+---------------------+--------------------+------+---------------+-----------------------+------------+---------------+-------------------+-------------------+----------------------------+--------------+----------------+---------------------+-----------+---------------+-----------+---------------------+\n",
            "|age|avg_frequency_login_days|avg_time_spent|avg_transaction_value|churn_risk_score|    complaint_status|days_since_last_login|            feedback|gender|internet_option|joined_through_referral|joining_date|last_visit_time|medium_of_operation|membership_category|offer_application_preference|past_complaint|points_in_wallet|preferred_offer_types|referral_id|region_category|security_no|used_special_discount|\n",
            "+---+------------------------+--------------+---------------------+----------------+--------------------+---------------------+--------------------+------+---------------+-----------------------+------------+---------------+-------------------+-------------------+----------------------------+--------------+----------------+---------------------+-----------+---------------+-----------+---------------------+\n",
            "| 18|                      17|        300.63|             53005.25|               0|      Not Applicable|                   17|Products always i...|     F|          Wi-Fi|                     No|  17-08-2017|       16:08:02|                  ?|Platinum Membership|                         Yes|            No|          781.75| Gift Vouchers/Cou...|   xxxxxxxx|        Village|    XW0DQ7H|                  Yes|\n",
            "| 32|                      10|        306.34|             12838.38|               0|              Solved|                   16|Quality Customer ...|     F|    Mobile_Data|                      ?|  28-08-2017|       12:38:13|            Desktop| Premium Membership|                          No|           Yes|            NULL| Gift Vouchers/Cou...|   CID21329|           City|    5K0N3X1|                  Yes|\n",
            "| 44|                      22|        516.16|              21027.0|               1| Solved in Follow-up|                   14|        Poor Website|     F|          Wi-Fi|                    Yes|  11-11-2016|       22:53:21|            Desktop|      No Membership|                         Yes|           Yes|          500.69| Gift Vouchers/Cou...|   CID12313|           Town|    1F2TCL3|                   No|\n",
            "| 37|                       6|         53.27|             25239.56|               1|            Unsolved|                   11|        Poor Website|     M|    Mobile_Data|                    Yes|  29-10-2016|       15:57:50|            Desktop|      No Membership|                         Yes|           Yes|          567.66| Gift Vouchers/Cou...|    CID3793|           City|    VJGJ33N|                   No|\n",
            "| 31|                      16|        113.13|             24483.66|               1|              Solved|                   20|        Poor Website|     F|    Mobile_Data|                     No|  12-09-2017|       15:46:44|         Smartphone|      No Membership|                         Yes|           Yes|          663.06| Credit/Debit Card...|   xxxxxxxx|           City|    SVZXCWB|                   No|\n",
            "| 13|                      24|        433.62|             13884.77|               0|            Unsolved|                   23| No reason specified|     M|          Wi-Fi|                     No|  08-01-2016|        6:46:07|                  ?|    Gold Membership|                          No|           Yes|          722.27| Gift Vouchers/Cou...|   xxxxxxxx|           City|    PSG1LGF|                  Yes|\n",
            "| 21|                      28|         55.38|               8982.5|               0| Solved in Follow-up|                   10| No reason specified|     M|    Mobile_Data|                    Yes|  19-03-2015|       11:40:04|            Desktop|    Gold Membership|                          No|           Yes|          756.21| Gift Vouchers/Cou...|   CID24708|           Town|    R3CX1EA|                  Yes|\n",
            "| 42|                      24|        429.11|             44554.82|               1|            Unsolved|                   19|Poor Product Quality|     M|    Fiber_Optic|                      ?|  12-07-2016|        7:52:43|               Both|      No Membership|                         Yes|           Yes|          568.08| Credit/Debit Card...|   CID56614|           NULL|    4UJ1551|                   No|\n",
            "| 44|                      20|        191.07|             18362.31|               0| Solved in Follow-up|                   15|Poor Customer Ser...|     M|    Fiber_Optic|                     No|  14-12-2016|        6:50:10|         Smartphone|  Silver Membership|                          No|           Yes|            NULL|       Without Offers|   xxxxxxxx|        Village|    0481QNQ|                  Yes|\n",
            "| 45|                      28|         97.31|             19244.16|               1|No Information Av...|                   10|Poor Customer Ser...|     F|          Wi-Fi|                     No|  30-11-2016|       19:10:16|                  ?|      No Membership|                         Yes|           Yes|          706.23| Gift Vouchers/Cou...|   xxxxxxxx|           Town|    ZHP4MCR|                   No|\n",
            "| 25|                       8|        570.23|             35119.93|               1|      Not Applicable|                   14|Poor Product Quality|     F|          Wi-Fi|                    Yes|  22-05-2016|        5:57:20|               Both|   Basic Membership|                         Yes|            No|           699.7| Gift Vouchers/Cou...|   CID19275|        Village|    OKZ6GDD|                  Yes|\n",
            "| 60|             33.02434314|         55.53|             41672.02|               0|      Not Applicable|                   14|        Too many ads|     M|          Wi-Fi|                     No|  13-01-2016|       11:56:11|         Smartphone|    Gold Membership|                          No|            No|          798.12| Gift Vouchers/Cou...|   xxxxxxxx|           City|    KPI9DD5|                  Yes|\n",
            "| 11|                      18|         41.09|             44007.18|               1|            Unsolved|                   13|Poor Customer Ser...|     M|    Fiber_Optic|                     No|  31-01-2015|        4:42:50|         Smartphone|      No Membership|                          No|           Yes|          608.26| Credit/Debit Card...|   xxxxxxxx|           Town|    G2FTZTL|                  Yes|\n",
            "| 34|                       6|         89.76|             21318.19|               1|      Not Applicable|                   10|Poor Product Quality|     M|    Fiber_Optic|                    Yes|  07-12-2016|        8:35:05|         Smartphone|   Basic Membership|                         Yes|            No|            NULL| Gift Vouchers/Cou...|   CID10856|           City|    S71G75R|                   No|\n",
            "| 40|                      26|        100.59|             14842.62|               0|      Not Applicable|                   20|        Poor Website|     M|    Fiber_Optic|                     No|  19-11-2016|       21:01:43|                  ?| Premium Membership|                         Yes|            No|            NULL|       Without Offers|   xxxxxxxx|           City|    QAL9ZY2|                   No|\n",
            "| 16|                       7|         30.14|             18792.31|               1|            Unsolved|                 -999|        Too many ads|     F|    Fiber_Optic|                      ?|  09-07-2017|       13:48:22|         Smartphone|   Basic Membership|                          No|           Yes|     141.5132013| Credit/Debit Card...|   CID35062|           Town|    YTBUOEE|                  Yes|\n",
            "| 57|                       8|        333.34|             47241.32|               1| Solved in Follow-up|                    5|        Too many ads|     F|          Wi-Fi|                     No|  27-01-2016|       20:58:28|                  ?|      No Membership|                         Yes|           Yes|            NULL|       Without Offers|   xxxxxxxx|           City|    RZ6TPTR|                  Yes|\n",
            "| 11|                      26|        275.13|             29072.86|               0|      Not Applicable|                   12|Poor Customer Ser...|     M|          Wi-Fi|                    Yes|  02-01-2017|        3:42:26|                  ?|  Silver Membership|                          No|            No|          733.97| Gift Vouchers/Cou...|   CID22930|           Town|    3GHN9RC|                  Yes|\n",
            "| 39|                       6|        241.74|             33170.16|               1|No Information Av...|                    9| No reason specified|     M|    Fiber_Optic|                     No|  01-11-2017|       15:39:05|         Smartphone|      No Membership|                          No|           Yes|          551.11| Credit/Debit Card...|   xxxxxxxx|           Town|    DYK6E24|                  Yes|\n",
            "| 45|                       8|         31.15|             66982.61|               0|            Unsolved|                   14|Products always i...|     M|    Mobile_Data|                     No|  03-02-2016|       11:46:54|                  ?| Premium Membership|                          No|           Yes|      164.800769|       Without Offers|   xxxxxxxx|           City|    XYB1CDG|                  Yes|\n",
            "+---+------------------------+--------------+---------------------+----------------+--------------------+---------------------+--------------------+------+---------------+-----------------------+------------+---------------+-------------------+-------------------+----------------------------+--------------+----------------+---------------------+-----------+---------------+-----------+---------------------+\n",
            "only showing top 20 rows\n",
            "\n"
          ]
        }
      ],
      "source": [
        "from pyspark.sql import SparkSession\n",
        "\n",
        "spark = SparkSession.builder \\\n",
        "    .master(\"local[*]\") \\\n",
        "    .appName(\"taxi-ex1\") \\\n",
        "    .config(\"spark.jars.packages\", \"com.crealytics:spark-excel_2.11:0.12.2\") \\\n",
        "    .config(\"spark.driver.memory\", \"6g\") \\\n",
        "    .getOrCreate()\n",
        "\n",
        "df_spark = spark.createDataFrame(dataset['train'])\n",
        "df_spark.show()"
      ]
    },
    {
      "cell_type": "markdown",
      "metadata": {
        "id": "qgeuQl5yoM4z"
      },
      "source": [
        "On a donc un premier aperçu de nos données possèdant 36992 lignes.\n",
        "\n",
        "On va maintenant chercher à savoir combien de valeurs None possèdons-nous."
      ]
    },
    {
      "cell_type": "code",
      "execution_count": null,
      "metadata": {
        "colab": {
          "base_uri": "https://localhost:8080/"
        },
        "id": "M0ST97FMVKGC",
        "outputId": "5eb80063-3c99-49ce-b0ef-54f794695b97"
      },
      "outputs": [
        {
          "name": "stdout",
          "output_type": "stream",
          "text": [
            "Column 'points_in_wallet' has 3443 null values.\n",
            "Column 'preferred_offer_types' has 288 null values.\n",
            "Column 'region_category' has 5428 null values.\n"
          ]
        }
      ],
      "source": [
        "from pyspark.sql.functions import col, sum\n",
        "\n",
        "null_counts = df_spark.select([sum(col(c).isNull().cast(\"int\")).alias(c) for c in df_spark.columns])\n",
        "# convertion de null_counts en dictionnaire\n",
        "null_counts_dict = null_counts.collect()[0].asDict()\n",
        "# affichage des colonnes avec des nb de valeurs nulles > 0\n",
        "columns_with_nulls = {k: v for k, v in null_counts_dict.items() if v > 0}\n",
        "\n",
        "for column, count in columns_with_nulls.items():\n",
        "    print(f\"Column '{column}' has {count} null values.\")"
      ]
    },
    {
      "cell_type": "markdown",
      "metadata": {
        "id": "E3wj6ADGurIJ"
      },
      "source": [
        "Dans le but de connaitre nos données, nous affichons toutes les valeurs que possède chaque feature"
      ]
    },
    {
      "cell_type": "code",
      "execution_count": null,
      "metadata": {
        "colab": {
          "base_uri": "https://localhost:8080/"
        },
        "id": "1-hqoN0MVULI",
        "outputId": "685b109a-49c6-4a0e-b0b4-2eac92a30ceb"
      },
      "outputs": [
        {
          "name": "stdout",
          "output_type": "stream",
          "text": [
            "+---+\n",
            "|age|\n",
            "+---+\n",
            "| 29|\n",
            "| 26|\n",
            "| 19|\n",
            "| 54|\n",
            "| 22|\n",
            "| 34|\n",
            "| 50|\n",
            "| 57|\n",
            "| 32|\n",
            "| 43|\n",
            "| 31|\n",
            "| 39|\n",
            "| 25|\n",
            "| 58|\n",
            "| 27|\n",
            "| 63|\n",
            "| 51|\n",
            "| 56|\n",
            "| 52|\n",
            "| 17|\n",
            "+---+\n",
            "only showing top 20 rows\n",
            "\n",
            "+------------------------+\n",
            "|avg_frequency_login_days|\n",
            "+------------------------+\n",
            "|            -4.403913767|\n",
            "|            -9.154338862|\n",
            "|            -16.54721087|\n",
            "|            -20.12755411|\n",
            "|            -9.638801336|\n",
            "|                       7|\n",
            "|             33.46020535|\n",
            "|             46.06644526|\n",
            "|            -9.618914459|\n",
            "|            -12.70666601|\n",
            "|             -10.2117474|\n",
            "|             44.67577891|\n",
            "|              28.1915704|\n",
            "|            -20.76148832|\n",
            "|             55.12785548|\n",
            "|            -7.044123324|\n",
            "|             46.38772405|\n",
            "|             39.63339862|\n",
            "|             39.14831789|\n",
            "|            -11.51593981|\n",
            "+------------------------+\n",
            "only showing top 20 rows\n",
            "\n",
            "+--------------+\n",
            "|avg_time_spent|\n",
            "+--------------+\n",
            "|  -705.3118262|\n",
            "|   1189.848916|\n",
            "|   -814.380249|\n",
            "|  -1088.197461|\n",
            "|   1362.009408|\n",
            "|  -945.8935506|\n",
            "|  -975.3154566|\n",
            "|         30.49|\n",
            "|         77.19|\n",
            "|        239.34|\n",
            "|        126.86|\n",
            "|        323.06|\n",
            "|        689.47|\n",
            "|        116.04|\n",
            "|         58.92|\n",
            "|         206.4|\n",
            "|         70.07|\n",
            "|        483.74|\n",
            "|         73.73|\n",
            "|        224.75|\n",
            "+--------------+\n",
            "only showing top 20 rows\n",
            "\n",
            "+---------------------+\n",
            "|avg_transaction_value|\n",
            "+---------------------+\n",
            "|              3888.65|\n",
            "|             12574.16|\n",
            "|             46167.97|\n",
            "|              1100.15|\n",
            "|              2327.58|\n",
            "|             28732.55|\n",
            "|              7287.92|\n",
            "|             94592.05|\n",
            "|             40204.24|\n",
            "|             35572.07|\n",
            "|              27210.0|\n",
            "|               5983.0|\n",
            "|             40012.47|\n",
            "|              18651.9|\n",
            "|             90094.88|\n",
            "|             52129.52|\n",
            "|             19673.83|\n",
            "|             32355.77|\n",
            "|              3164.35|\n",
            "|             22476.51|\n",
            "+---------------------+\n",
            "only showing top 20 rows\n",
            "\n",
            "+----------------+\n",
            "|churn_risk_score|\n",
            "+----------------+\n",
            "|               0|\n",
            "|               1|\n",
            "+----------------+\n",
            "\n",
            "+--------------------+\n",
            "|    complaint_status|\n",
            "+--------------------+\n",
            "|No Information Av...|\n",
            "|            Unsolved|\n",
            "|              Solved|\n",
            "| Solved in Follow-up|\n",
            "|      Not Applicable|\n",
            "+--------------------+\n",
            "\n",
            "+---------------------+\n",
            "|days_since_last_login|\n",
            "+---------------------+\n",
            "|                   26|\n",
            "|                   19|\n",
            "|                   22|\n",
            "|                    7|\n",
            "|                   25|\n",
            "|                    6|\n",
            "|                    9|\n",
            "|                   17|\n",
            "|                    5|\n",
            "|                    1|\n",
            "|                   10|\n",
            "|                 -999|\n",
            "|                    3|\n",
            "|                   12|\n",
            "|                    8|\n",
            "|                   11|\n",
            "|                    2|\n",
            "|                    4|\n",
            "|                   13|\n",
            "|                   18|\n",
            "+---------------------+\n",
            "only showing top 20 rows\n",
            "\n",
            "+--------------------+\n",
            "|            feedback|\n",
            "+--------------------+\n",
            "|Poor Product Quality|\n",
            "|        Poor Website|\n",
            "|Quality Customer ...|\n",
            "| No reason specified|\n",
            "|Products always i...|\n",
            "|        Too many ads|\n",
            "|Poor Customer Ser...|\n",
            "|    Reasonable Price|\n",
            "|User Friendly Web...|\n",
            "+--------------------+\n",
            "\n",
            "+-------+\n",
            "| gender|\n",
            "+-------+\n",
            "|      F|\n",
            "|      M|\n",
            "|Unknown|\n",
            "+-------+\n",
            "\n",
            "+---------------+\n",
            "|internet_option|\n",
            "+---------------+\n",
            "|          Wi-Fi|\n",
            "|    Fiber_Optic|\n",
            "|    Mobile_Data|\n",
            "+---------------+\n",
            "\n",
            "+-----------------------+\n",
            "|joined_through_referral|\n",
            "+-----------------------+\n",
            "|                     No|\n",
            "|                    Yes|\n",
            "|                      ?|\n",
            "+-----------------------+\n",
            "\n",
            "+------------+\n",
            "|joining_date|\n",
            "+------------+\n",
            "|  01-11-2015|\n",
            "|  23-04-2017|\n",
            "|  13-03-2015|\n",
            "|  22-10-2015|\n",
            "|  18-09-2017|\n",
            "|  06-02-2017|\n",
            "|  15-07-2016|\n",
            "|  30-08-2015|\n",
            "|  29-01-2016|\n",
            "|  19-08-2015|\n",
            "|  20-06-2017|\n",
            "|  22-06-2017|\n",
            "|  07-04-2016|\n",
            "|  26-12-2016|\n",
            "|  05-09-2017|\n",
            "|  30-01-2015|\n",
            "|  29-03-2017|\n",
            "|  15-02-2017|\n",
            "|  30-12-2015|\n",
            "|  12-06-2015|\n",
            "+------------+\n",
            "only showing top 20 rows\n",
            "\n",
            "+---------------+\n",
            "|last_visit_time|\n",
            "+---------------+\n",
            "|       19:10:16|\n",
            "|       11:46:54|\n",
            "|        1:07:51|\n",
            "|       14:06:41|\n",
            "|        2:28:15|\n",
            "|       22:21:17|\n",
            "|        4:45:47|\n",
            "|       11:53:32|\n",
            "|        9:50:09|\n",
            "|       18:45:44|\n",
            "|        0:28:28|\n",
            "|       15:41:46|\n",
            "|       11:56:36|\n",
            "|        2:22:08|\n",
            "|       19:41:08|\n",
            "|        1:07:18|\n",
            "|       23:18:41|\n",
            "|        7:15:35|\n",
            "|       12:45:09|\n",
            "|       22:31:44|\n",
            "+---------------+\n",
            "only showing top 20 rows\n",
            "\n",
            "+-------------------+\n",
            "|medium_of_operation|\n",
            "+-------------------+\n",
            "|               Both|\n",
            "|            Desktop|\n",
            "|                  ?|\n",
            "|         Smartphone|\n",
            "+-------------------+\n",
            "\n",
            "+-------------------+\n",
            "|membership_category|\n",
            "+-------------------+\n",
            "| Premium Membership|\n",
            "|    Gold Membership|\n",
            "|   Basic Membership|\n",
            "|  Silver Membership|\n",
            "|Platinum Membership|\n",
            "|      No Membership|\n",
            "+-------------------+\n",
            "\n",
            "+----------------------------+\n",
            "|offer_application_preference|\n",
            "+----------------------------+\n",
            "|                          No|\n",
            "|                         Yes|\n",
            "+----------------------------+\n",
            "\n",
            "+--------------+\n",
            "|past_complaint|\n",
            "+--------------+\n",
            "|            No|\n",
            "|           Yes|\n",
            "+--------------+\n",
            "\n",
            "+----------------+\n",
            "|points_in_wallet|\n",
            "+----------------+\n",
            "|          706.23|\n",
            "|     330.5707099|\n",
            "|      469.664788|\n",
            "|     1069.596472|\n",
            "|     459.3948422|\n",
            "|     195.1252275|\n",
            "|    -0.788907058|\n",
            "|     381.9258315|\n",
            "|     270.1667348|\n",
            "|     1147.860011|\n",
            "|     27.29260758|\n",
            "|     219.2493641|\n",
            "|      402.634305|\n",
            "|     367.8471754|\n",
            "|     972.7142746|\n",
            "|     138.9683514|\n",
            "|     397.2658314|\n",
            "|          742.41|\n",
            "|           733.6|\n",
            "|          678.77|\n",
            "+----------------+\n",
            "only showing top 20 rows\n",
            "\n",
            "+---------------------+\n",
            "|preferred_offer_types|\n",
            "+---------------------+\n",
            "| Credit/Debit Card...|\n",
            "|       Without Offers|\n",
            "| Gift Vouchers/Cou...|\n",
            "|                 NULL|\n",
            "+---------------------+\n",
            "\n",
            "+-----------+\n",
            "|referral_id|\n",
            "+-----------+\n",
            "|   CID47070|\n",
            "|    CID8840|\n",
            "|   CID51049|\n",
            "|   CID38414|\n",
            "|   CID20697|\n",
            "|   CID37855|\n",
            "|   CID22811|\n",
            "|   CID20043|\n",
            "|    CID8897|\n",
            "|   CID10583|\n",
            "|   CID34612|\n",
            "|   CID45298|\n",
            "|   CID29776|\n",
            "|   CID45821|\n",
            "|   CID36192|\n",
            "|   CID50379|\n",
            "|     CID749|\n",
            "|   CID23175|\n",
            "|   CID47674|\n",
            "|   CID33531|\n",
            "+-----------+\n",
            "only showing top 20 rows\n",
            "\n",
            "+---------------+\n",
            "|region_category|\n",
            "+---------------+\n",
            "|        Village|\n",
            "|           Town|\n",
            "|           City|\n",
            "|           NULL|\n",
            "+---------------+\n",
            "\n",
            "+-----------+\n",
            "|security_no|\n",
            "+-----------+\n",
            "|    ZHP4MCR|\n",
            "|    26RJY6I|\n",
            "|    62JGFV8|\n",
            "|    PWABBP6|\n",
            "|    2VTGAH9|\n",
            "|    KBTGCPT|\n",
            "|    1SL61XM|\n",
            "|    4F1IQ7K|\n",
            "|    AHOAZRX|\n",
            "|    FY744M3|\n",
            "|    LK0GWWN|\n",
            "|    6SRR9V3|\n",
            "|    XXQB1U9|\n",
            "|    O2N53Y3|\n",
            "|    MRUY9ZD|\n",
            "|    BWWVGAV|\n",
            "|    UIZMK17|\n",
            "|    K1JCG7T|\n",
            "|    9Y2SWT4|\n",
            "|    0KHQ07W|\n",
            "+-----------+\n",
            "only showing top 20 rows\n",
            "\n",
            "+---------------------+\n",
            "|used_special_discount|\n",
            "+---------------------+\n",
            "|                   No|\n",
            "|                  Yes|\n",
            "+---------------------+\n",
            "\n"
          ]
        }
      ],
      "source": [
        "#affichier les valeurs uniques de chaque colonne\n",
        "for column in df_spark.columns:\n",
        "    unique_values = df_spark.select(column).distinct().show()"
      ]
    },
    {
      "cell_type": "markdown",
      "metadata": {
        "id": "Ziem5rmuozpa"
      },
      "source": [
        "On affiche également notre schéma toujours dans l'objectif de connaitre nos données."
      ]
    },
    {
      "cell_type": "code",
      "execution_count": null,
      "metadata": {
        "colab": {
          "base_uri": "https://localhost:8080/"
        },
        "id": "FqI_QdOOha0f",
        "outputId": "2f608d9a-12c1-494e-e6a0-f43c0c1d6607"
      },
      "outputs": [
        {
          "name": "stdout",
          "output_type": "stream",
          "text": [
            "root\n",
            " |-- age: long (nullable = true)\n",
            " |-- avg_frequency_login_days: string (nullable = true)\n",
            " |-- avg_time_spent: double (nullable = true)\n",
            " |-- avg_transaction_value: double (nullable = true)\n",
            " |-- churn_risk_score: long (nullable = true)\n",
            " |-- complaint_status: string (nullable = true)\n",
            " |-- days_since_last_login: long (nullable = true)\n",
            " |-- feedback: string (nullable = true)\n",
            " |-- gender: string (nullable = true)\n",
            " |-- internet_option: string (nullable = true)\n",
            " |-- joined_through_referral: string (nullable = true)\n",
            " |-- joining_date: string (nullable = true)\n",
            " |-- last_visit_time: string (nullable = true)\n",
            " |-- medium_of_operation: string (nullable = true)\n",
            " |-- membership_category: string (nullable = true)\n",
            " |-- offer_application_preference: string (nullable = true)\n",
            " |-- past_complaint: string (nullable = true)\n",
            " |-- points_in_wallet: double (nullable = true)\n",
            " |-- preferred_offer_types: string (nullable = true)\n",
            " |-- referral_id: string (nullable = true)\n",
            " |-- region_category: string (nullable = true)\n",
            " |-- security_no: string (nullable = true)\n",
            " |-- used_special_discount: string (nullable = true)\n",
            "\n"
          ]
        }
      ],
      "source": [
        "df_spark.printSchema()"
      ]
    },
    {
      "cell_type": "markdown",
      "metadata": {
        "id": "UYgRwbcVvWvn"
      },
      "source": [
        "On va donc commencer notre nétoyage de données.\n",
        "\n",
        "Dans un premier temps nous allons enlever les valeurs incohérentes dans les colonnes. Certaines de nos features possèdent des valeurs \"None\" et \"Error\", nous les rendons alors None."
      ]
    },
    {
      "cell_type": "code",
      "execution_count": null,
      "metadata": {
        "id": "Wa9ZLQkRN-l1"
      },
      "outputs": [],
      "source": [
        "from pyspark.sql.functions import when, col, StringType\n",
        "\n",
        "missing_values = [\"None\", \"Error\"]\n",
        "# dans toutes les colonnes, on remplace les missing_values par la valeur null\n",
        "df_spark_new = df_spark.replace(missing_values, [None for _ in missing_values])"
      ]
    },
    {
      "cell_type": "markdown",
      "metadata": {
        "id": "hrJ4Z57Lvu2M"
      },
      "source": [
        "On obtient alors plus de valeurs None dans notre DataFrame, nous les affichons de nouveau."
      ]
    },
    {
      "cell_type": "code",
      "execution_count": null,
      "metadata": {
        "colab": {
          "base_uri": "https://localhost:8080/"
        },
        "id": "Al4zHbIAQ80x",
        "outputId": "e3f80317-740f-48c7-efc8-fe6602039ebc"
      },
      "outputs": [
        {
          "name": "stdout",
          "output_type": "stream",
          "text": [
            "Column 'avg_frequency_login_days' has 3522 null values.\n",
            "Column 'points_in_wallet' has 3443 null values.\n",
            "Column 'preferred_offer_types' has 288 null values.\n",
            "Column 'region_category' has 5428 null values.\n"
          ]
        }
      ],
      "source": [
        "null_counts_new = df_spark_new.select([sum(col(c).isNull().cast(\"int\")).alias(c) for c in df_spark_new.columns])\n",
        "null_counts_new_dict = null_counts_new.collect()[0].asDict()\n",
        "columns_with_nulls_new = {k: v for k, v in null_counts_new_dict.items() if v > 0}\n",
        "\n",
        "for column, count in columns_with_nulls_new.items():\n",
        "    print(f\"Column '{column}' has {count} null values.\")"
      ]
    },
    {
      "cell_type": "markdown",
      "metadata": {
        "id": "0lnfqJ14wVqI"
      },
      "source": [
        "Nous avons également constaté des valeurs abérantes dans nos données chiffrés: certaines valeurs sont négatives, cela n'est pas cohérent pour des nombres de jours par exemple. De plus il n'est pas possible de faire une moyenne de plus de 31 jours dans un mois."
      ]
    },
    {
      "cell_type": "code",
      "execution_count": null,
      "metadata": {
        "id": "NM197keQR7oa"
      },
      "outputs": [],
      "source": [
        "# Filtrer les lignes avec des valeurs négatives dans les colonnes spécifiées\n",
        "df_spark_new = df_spark_new.filter(\n",
        "    (col(\"days_since_last_login\") >= 0) &\n",
        "    (col(\"points_in_wallet\") >= 0) &\n",
        "    (col(\"avg_frequency_login_days\") >= 0.01) &\n",
        "    (col(\"avg_frequency_login_days\") <= 31.01) &\n",
        "    (col(\"avg_time_spent\") >= 0)\n",
        ")"
      ]
    },
    {
      "cell_type": "markdown",
      "metadata": {
        "id": "rO_tsHBQw4Qc"
      },
      "source": [
        "Dans un but de confidencialité et de performance de notre modèle, nous supprimons ces 2 colonnes qui sont des données privées des utilisateurs et qui de plus ont aucune influence sur la prédiction du risque de désabonnemnt."
      ]
    },
    {
      "cell_type": "code",
      "execution_count": null,
      "metadata": {
        "id": "U_qKufwbzdsx"
      },
      "outputs": [],
      "source": [
        "#Supprimer colonnes inutiles\n",
        "df_spark_clean = df_spark_new.drop(\"security_no\", \"referral_id\")"
      ]
    },
    {
      "cell_type": "markdown",
      "metadata": {
        "id": "VegqPsnIxEto"
      },
      "source": [
        "On va donc maintenant gérer nos valeurs None. Pour les String nous allons définir les valeurs abérantes et None en 'Unknown'"
      ]
    },
    {
      "cell_type": "code",
      "execution_count": null,
      "metadata": {
        "id": "h3D4niVYSLmp"
      },
      "outputs": [],
      "source": [
        "# Met en 'Not spcified' donnees None\n",
        "from pyspark.sql.functions import when\n",
        "\n",
        "# Remplacer les valeurs '?' par 'Unknown' dans les colonnes 'joined_through_referral' et 'medium_of_operation'\n",
        "df_spark_clean = df_spark_clean.withColumn(\"joined_through_referral\", when(col(\"joined_through_referral\") == \"?\", \"Unknown\").otherwise(col(\"joined_through_referral\")))\n",
        "df_spark_clean = df_spark_clean.withColumn(\"medium_of_operation\", when(col(\"medium_of_operation\") == \"?\", \"Unknown\").otherwise(col(\"medium_of_operation\")))\n",
        "\n",
        "# met les valeurs None en \"Unknown\"\n",
        "df_spark_clean = df_spark_clean.withColumn(\"medium_of_operation\", when(col(\"medium_of_operation\").isNull(), \"Unknown\").otherwise(col(\"medium_of_operation\")))\n",
        "df_spark_clean = df_spark_clean.withColumn(\"region_category\", when(col(\"region_category\").isNull(), \"Unknown\").otherwise(col(\"region_category\")))\n",
        "df_spark_clean = df_spark_clean.withColumn(\"preferred_offer_types\", when(col(\"preferred_offer_types\").isNull(), \"Unknown\").otherwise(col(\"preferred_offer_types\")))"
      ]
    },
    {
      "cell_type": "markdown",
      "metadata": {
        "id": "zG9cyA8ixhow"
      },
      "source": [
        "On va donc vérifier maintenant si nous possèdons encore des valeurs None. Résultat = Non -> Super !"
      ]
    },
    {
      "cell_type": "code",
      "execution_count": null,
      "metadata": {
        "id": "tM8R7vhIz5r5"
      },
      "outputs": [],
      "source": [
        "null_counts_clean = df_spark_clean.select([sum(col(c).isNull().cast(\"int\")).alias(c) for c in df_spark_clean.columns])\n",
        "null_counts_dict_clean = null_counts_clean.collect()[0].asDict()\n",
        "columns_with_nulls_clean = {k: v for k, v in null_counts_dict_clean.items() if v > 0}\n",
        "\n",
        "for column, count in columns_with_nulls_clean.items():\n",
        "    print(f\"Column '{column}' has {count} null values.\")"
      ]
    },
    {
      "cell_type": "markdown",
      "metadata": {
        "id": "vqC1uqWZxwRw"
      },
      "source": [
        "Nous constatons que notre colonne joining_date sera difficile à analyser. Nous avons donc eu 2 idées que nous avons implémentés :\n",
        "- Colonne du mois du début d'abonnement : dans le but de détecter des achats compulsif du à des soldes ou des fêtes notamment Noël\n",
        "- Nombre de mois depuis le début d'abonnement"
      ]
    },
    {
      "cell_type": "code",
      "execution_count": null,
      "metadata": {
        "id": "0i6on7mTcOmk"
      },
      "outputs": [],
      "source": [
        "# Creation de 2 colonnes à la place de joining_date\n",
        "from pyspark.sql.functions import substring\n",
        "from pyspark.sql.functions import datediff, months_between, to_date, lit, abs\n",
        "from pyspark.sql.functions import month\n",
        "from pyspark.sql.types import IntegerType\n",
        "\n",
        "# Nous avons choisie une date fixe à notre entrainement pour éviter que celle-ci change les performances à chaque run\n",
        "date_const = lit(\"2024-06-01\")\n",
        "# On convertie notre colonne en date\n",
        "df_spark_clean = df_spark_clean.withColumn(\"joining_date\", to_date(\"joining_date\", \"dd-MM-yyyy\"))\n",
        "\n",
        "# On crée notre colonne donnant le mois de l'abonnement\n",
        "df_spark_clean = df_spark_clean.withColumn(\"month_joining_date\", month(col(\"joining_date\")).cast(IntegerType()))\n",
        "\n",
        "# On calcule depuis quand l'utilisateur est abonné\n",
        "df_spark_clean = df_spark_clean.withColumn(\"joining_date\", abs(months_between(\"joining_date\", date_const)))\n"
      ]
    },
    {
      "cell_type": "markdown",
      "metadata": {
        "id": "ncinNaAVysa8"
      },
      "source": [
        "Autre changement que nous avons apporté : changer le temps passé lors de la dernière visite en nombre de minutes passées dans le but de facilité les comparaisons"
      ]
    },
    {
      "cell_type": "code",
      "execution_count": null,
      "metadata": {
        "id": "3y-CGcs8kDGF"
      },
      "outputs": [],
      "source": [
        "from pyspark.sql.functions import split, col, expr\n",
        "\n",
        "# On divise les valeurs de la colonne last_visit_time en heures, minutes et secondes\n",
        "time_components = split(col(\"last_visit_time\"), \":\")\n",
        "hours = time_components.getItem(0).cast(\"int\")\n",
        "minutes = time_components.getItem(1).cast(\"int\")\n",
        "seconds = time_components.getItem(2).cast(\"int\")\n",
        "\n",
        "# Calcule le nombre de minutes\n",
        "total_minutes = hours * 60 + minutes + seconds / 60\n",
        "\n",
        "# On affecte à notre colonne\n",
        "df_spark_clean = df_spark_clean.withColumn(\"last_visit_time\", total_minutes)\n"
      ]
    },
    {
      "cell_type": "markdown",
      "metadata": {
        "id": "t8EnnAPczAOp"
      },
      "source": [
        "Voici ainsi notre DataFrame Propore et au complet"
      ]
    },
    {
      "cell_type": "code",
      "execution_count": null,
      "metadata": {
        "colab": {
          "base_uri": "https://localhost:8080/"
        },
        "id": "Lu3rMGEWodCK",
        "outputId": "14918586-fe2a-4379-9693-81672152f4c5"
      },
      "outputs": [
        {
          "name": "stdout",
          "output_type": "stream",
          "text": [
            "+---+------------------------+--------------+---------------------+----------------+--------------------+---------------------+--------------------+------+---------------+-----------------------+------------+------------------+-------------------+-------------------+----------------------------+--------------+----------------+---------------------+---------------+---------------------+------------------+\n",
            "|age|avg_frequency_login_days|avg_time_spent|avg_transaction_value|churn_risk_score|    complaint_status|days_since_last_login|            feedback|gender|internet_option|joined_through_referral|joining_date|   last_visit_time|medium_of_operation|membership_category|offer_application_preference|past_complaint|points_in_wallet|preferred_offer_types|region_category|used_special_discount|month_joining_date|\n",
            "+---+------------------------+--------------+---------------------+----------------+--------------------+---------------------+--------------------+------+---------------+-----------------------+------------+------------------+-------------------+-------------------+----------------------------+--------------+----------------+---------------------+---------------+---------------------+------------------+\n",
            "| 18|                      17|        300.63|             53005.25|               0|      Not Applicable|                   17|Products always i...|     F|          Wi-Fi|                     No| 81.48387097| 968.0333333333333|            Unknown|Platinum Membership|                         Yes|            No|          781.75| Gift Vouchers/Cou...|        Village|                  Yes|                 8|\n",
            "| 44|                      22|        516.16|              21027.0|               1| Solved in Follow-up|                   14|        Poor Website|     F|          Wi-Fi|                    Yes| 90.67741935|           1373.35|            Desktop|      No Membership|                         Yes|           Yes|          500.69| Gift Vouchers/Cou...|           Town|                   No|                11|\n",
            "| 37|                       6|         53.27|             25239.56|               1|            Unsolved|                   11|        Poor Website|     M|    Mobile_Data|                    Yes| 91.09677419| 957.8333333333334|            Desktop|      No Membership|                         Yes|           Yes|          567.66| Gift Vouchers/Cou...|           City|                   No|                10|\n",
            "| 31|                      16|        113.13|             24483.66|               1|              Solved|                   20|        Poor Website|     F|    Mobile_Data|                     No| 80.64516129| 946.7333333333333|         Smartphone|      No Membership|                         Yes|           Yes|          663.06| Credit/Debit Card...|           City|                   No|                 9|\n",
            "| 13|                      24|        433.62|             13884.77|               0|            Unsolved|                   23| No reason specified|     M|          Wi-Fi|                     No|100.77419355| 406.1166666666667|            Unknown|    Gold Membership|                          No|           Yes|          722.27| Gift Vouchers/Cou...|           City|                  Yes|                 1|\n",
            "| 21|                      28|         55.38|               8982.5|               0| Solved in Follow-up|                   10| No reason specified|     M|    Mobile_Data|                    Yes|110.41935484| 700.0666666666667|            Desktop|    Gold Membership|                          No|           Yes|          756.21| Gift Vouchers/Cou...|           Town|                  Yes|                 3|\n",
            "| 42|                      24|        429.11|             44554.82|               1|            Unsolved|                   19|Poor Product Quality|     M|    Fiber_Optic|                Unknown| 94.64516129|472.71666666666664|               Both|      No Membership|                         Yes|           Yes|          568.08| Credit/Debit Card...|        Unknown|                   No|                 7|\n",
            "| 45|                      28|         97.31|             19244.16|               1|No Information Av...|                   10|Poor Customer Ser...|     F|          Wi-Fi|                     No| 90.06451613|1150.2666666666667|            Unknown|      No Membership|                         Yes|           Yes|          706.23| Gift Vouchers/Cou...|           Town|                   No|                11|\n",
            "| 25|                       8|        570.23|             35119.93|               1|      Not Applicable|                   14|Poor Product Quality|     F|          Wi-Fi|                    Yes| 96.32258065| 357.3333333333333|               Both|   Basic Membership|                         Yes|            No|           699.7| Gift Vouchers/Cou...|        Village|                  Yes|                 5|\n",
            "| 11|                      18|         41.09|             44007.18|               1|            Unsolved|                   13|Poor Customer Ser...|     M|    Fiber_Optic|                     No|112.03225806| 282.8333333333333|         Smartphone|      No Membership|                          No|           Yes|          608.26| Credit/Debit Card...|           Town|                  Yes|                 1|\n",
            "| 11|                      26|        275.13|             29072.86|               0|      Not Applicable|                   12|Poor Customer Ser...|     M|          Wi-Fi|                    Yes| 88.96774194|222.43333333333334|            Unknown|  Silver Membership|                          No|            No|          733.97| Gift Vouchers/Cou...|           Town|                  Yes|                 1|\n",
            "| 39|                       6|        241.74|             33170.16|               1|No Information Av...|                    9| No reason specified|     M|    Fiber_Optic|                     No|        79.0| 939.0833333333334|         Smartphone|      No Membership|                          No|           Yes|          551.11| Credit/Debit Card...|           Town|                  Yes|                11|\n",
            "| 45|                       8|         31.15|             66982.61|               0|            Unsolved|                   14|Products always i...|     M|    Mobile_Data|                     No| 99.93548387|             706.9|            Unknown| Premium Membership|                          No|           Yes|      164.800769|       Without Offers|           City|                  Yes|                 2|\n",
            "| 33|                      25|         49.86|             44289.97|               1|      Not Applicable|                   15|Poor Customer Ser...|     M|          Wi-Fi|                     No|101.93548387|1130.5833333333333|            Desktop|      No Membership|                          No|            No|          703.96|       Without Offers|        Village|                  Yes|                12|\n",
            "| 30|                      23|         30.37|             49404.86|               1|No Information Av...|                   21|        Poor Website|     M|    Mobile_Data|                    Yes| 94.09677419|             535.8|         Smartphone|      No Membership|                          No|           Yes|          630.61| Gift Vouchers/Cou...|        Village|                  Yes|                 7|\n",
            "| 19|                       3|        483.03|             52702.67|               0|No Information Av...|                   15|User Friendly Web...|     F|    Mobile_Data|                     No| 88.32258065|1384.6666666666667|            Unknown|Platinum Membership|                         Yes|           Yes|     389.3564432| Gift Vouchers/Cou...|           Town|                   No|                 1|\n",
            "| 48|             3.207385793|         72.52|             15860.41|               0|      Not Applicable|                   12| No reason specified|     M|    Fiber_Optic|                    Yes| 78.70967742|1150.4833333333333|         Smartphone|   Basic Membership|                         Yes|            No|          529.03|       Without Offers|           Town|                   No|                11|\n",
            "| 43|                      21|         108.3|             21725.57|               1|      Not Applicable|                   17|        Poor Website|     M|    Fiber_Optic|                     No|105.58064516|383.03333333333336|            Desktop|      No Membership|                         Yes|            No|     225.0044276| Credit/Debit Card...|           City|                   No|                 8|\n",
            "| 29|                       7|        300.38|             12069.06|               0|      Not Applicable|                   18|        Too many ads|     F|    Fiber_Optic|                     No| 97.74193548|1256.3333333333333|            Desktop|  Silver Membership|                         Yes|            No|          777.31|       Without Offers|           Town|                   No|                 4|\n",
            "| 10|                       6|        100.65|               8515.5|               0|      Not Applicable|                    1| No reason specified|     M|          Wi-Fi|                    Yes|102.70967742|1045.6333333333334|            Unknown|    Gold Membership|                          No|            No|           757.7| Credit/Debit Card...|           City|                  Yes|                11|\n",
            "+---+------------------------+--------------+---------------------+----------------+--------------------+---------------------+--------------------+------+---------------+-----------------------+------------+------------------+-------------------+-------------------+----------------------------+--------------+----------------+---------------------+---------------+---------------------+------------------+\n",
            "only showing top 20 rows\n",
            "\n"
          ]
        }
      ],
      "source": [
        "df_spark_clean.show()"
      ]
    },
    {
      "cell_type": "markdown",
      "metadata": {
        "id": "H_C51KhEzE4S"
      },
      "source": [
        "Dans l'objectif de mettre en place une matrice de corrélation, nous allons crée un second dataframe uniquement remplit de données numériques. Pour cela nous avons stocké nos données String dans une bibliothèque à l'aide d'int"
      ]
    },
    {
      "cell_type": "code",
      "execution_count": null,
      "metadata": {
        "colab": {
          "base_uri": "https://localhost:8080/"
        },
        "id": "6UhVPF71SD8R",
        "outputId": "947953d5-5c7b-4f99-e38d-77afd625e17a"
      },
      "outputs": [
        {
          "name": "stdout",
          "output_type": "stream",
          "text": [
            "{'complaint_status': {'No Information Available': 0, 'Unsolved': 1, 'Solved': 2, 'Solved in Follow-up': 3, 'Not Applicable': 4}, 'feedback': {'Poor Product Quality': 0, 'Poor Website': 1, 'Quality Customer Care': 2, 'No reason specified': 3, 'Products always in Stock': 4, 'Too many ads': 5, 'Poor Customer Service': 6, 'Reasonable Price': 7, 'User Friendly Website': 8}, 'internet_option': {'Wi-Fi': 0, 'Fiber_Optic': 1, 'Mobile_Data': 2}, 'medium_of_operation': {'Unknown': 0, 'Both': 1, 'Desktop': 2, 'Smartphone': 3}, 'membership_category': {'Premium Membership': 0, 'Gold Membership': 1, 'Basic Membership': 2, 'Silver Membership': 3, 'Platinum Membership': 4, 'No Membership': 5}, 'preferred_offer_types': {'Credit/Debit Card Offers': 0, 'Without Offers': 1, 'Unknown': 2, 'Gift Vouchers/Coupons': 3}, 'region_category': {'Unknown': 0, 'Village': 1, 'Town': 2, 'City': 3}, 'joined_through_referral': {'Unknown': 0, 'No': 1, 'Yes': 2}, 'gender': {'F': 0, 'M': 1, 'Unknown': 2}}\n",
            "+---+------------------------+--------------+---------------------+----------------+----------------+---------------------+--------+------+---------------+-----------------------+------------+------------------+-------------------+-------------------+----------------------------+--------------+----------------+---------------------+---------------+---------------------+------------------+\n",
            "|age|avg_frequency_login_days|avg_time_spent|avg_transaction_value|churn_risk_score|complaint_status|days_since_last_login|feedback|gender|internet_option|joined_through_referral|joining_date|   last_visit_time|medium_of_operation|membership_category|offer_application_preference|past_complaint|points_in_wallet|preferred_offer_types|region_category|used_special_discount|month_joining_date|\n",
            "+---+------------------------+--------------+---------------------+----------------+----------------+---------------------+--------+------+---------------+-----------------------+------------+------------------+-------------------+-------------------+----------------------------+--------------+----------------+---------------------+---------------+---------------------+------------------+\n",
            "| 18|                      17|        300.63|             53005.25|               0|               4|                   17|       4|     0|              0|                      1| 81.48387097| 968.0333333333333|                  0|                  4|                           1|             0|          781.75|                    3|              1|                    1|                 8|\n",
            "| 44|                      22|        516.16|              21027.0|               1|               3|                   14|       1|     0|              0|                      2| 90.67741935|           1373.35|                  2|                  5|                           1|             1|          500.69|                    3|              2|                    0|                11|\n",
            "| 37|                       6|         53.27|             25239.56|               1|               1|                   11|       1|     1|              2|                      2| 91.09677419| 957.8333333333334|                  2|                  5|                           1|             1|          567.66|                    3|              3|                    0|                10|\n",
            "| 31|                      16|        113.13|             24483.66|               1|               2|                   20|       1|     0|              2|                      1| 80.64516129| 946.7333333333333|                  3|                  5|                           1|             1|          663.06|                    0|              3|                    0|                 9|\n",
            "| 13|                      24|        433.62|             13884.77|               0|               1|                   23|       3|     1|              0|                      1|100.77419355| 406.1166666666667|                  0|                  1|                           0|             1|          722.27|                    3|              3|                    1|                 1|\n",
            "| 21|                      28|         55.38|               8982.5|               0|               3|                   10|       3|     1|              2|                      2|110.41935484| 700.0666666666667|                  2|                  1|                           0|             1|          756.21|                    3|              2|                    1|                 3|\n",
            "| 42|                      24|        429.11|             44554.82|               1|               1|                   19|       0|     1|              1|                      0| 94.64516129|472.71666666666664|                  1|                  5|                           1|             1|          568.08|                    0|              0|                    0|                 7|\n",
            "| 45|                      28|         97.31|             19244.16|               1|               0|                   10|       6|     0|              0|                      1| 90.06451613|1150.2666666666667|                  0|                  5|                           1|             1|          706.23|                    3|              2|                    0|                11|\n",
            "| 25|                       8|        570.23|             35119.93|               1|               4|                   14|       0|     0|              0|                      2| 96.32258065| 357.3333333333333|                  1|                  2|                           1|             0|           699.7|                    3|              1|                    1|                 5|\n",
            "| 11|                      18|         41.09|             44007.18|               1|               1|                   13|       6|     1|              1|                      1|112.03225806| 282.8333333333333|                  3|                  5|                           0|             1|          608.26|                    0|              2|                    1|                 1|\n",
            "| 11|                      26|        275.13|             29072.86|               0|               4|                   12|       6|     1|              0|                      2| 88.96774194|222.43333333333334|                  0|                  3|                           0|             0|          733.97|                    3|              2|                    1|                 1|\n",
            "| 39|                       6|        241.74|             33170.16|               1|               0|                    9|       3|     1|              1|                      1|        79.0| 939.0833333333334|                  3|                  5|                           0|             1|          551.11|                    0|              2|                    1|                11|\n",
            "| 45|                       8|         31.15|             66982.61|               0|               1|                   14|       4|     1|              2|                      1| 99.93548387|             706.9|                  0|                  0|                           0|             1|      164.800769|                    1|              3|                    1|                 2|\n",
            "| 33|                      25|         49.86|             44289.97|               1|               4|                   15|       6|     1|              0|                      1|101.93548387|1130.5833333333333|                  2|                  5|                           0|             0|          703.96|                    1|              1|                    1|                12|\n",
            "| 30|                      23|         30.37|             49404.86|               1|               0|                   21|       1|     1|              2|                      2| 94.09677419|             535.8|                  3|                  5|                           0|             1|          630.61|                    3|              1|                    1|                 7|\n",
            "| 19|                       3|        483.03|             52702.67|               0|               0|                   15|       8|     0|              2|                      1| 88.32258065|1384.6666666666667|                  0|                  4|                           1|             1|     389.3564432|                    3|              2|                    0|                 1|\n",
            "| 48|             3.207385793|         72.52|             15860.41|               0|               4|                   12|       3|     1|              1|                      2| 78.70967742|1150.4833333333333|                  3|                  2|                           1|             0|          529.03|                    1|              2|                    0|                11|\n",
            "| 43|                      21|         108.3|             21725.57|               1|               4|                   17|       1|     1|              1|                      1|105.58064516|383.03333333333336|                  2|                  5|                           1|             0|     225.0044276|                    0|              3|                    0|                 8|\n",
            "| 29|                       7|        300.38|             12069.06|               0|               4|                   18|       5|     0|              1|                      1| 97.74193548|1256.3333333333333|                  2|                  3|                           1|             0|          777.31|                    1|              2|                    0|                 4|\n",
            "| 10|                       6|        100.65|               8515.5|               0|               4|                    1|       3|     1|              0|                      2|102.70967742|1045.6333333333334|                  0|                  1|                           0|             0|           757.7|                    0|              3|                    1|                11|\n",
            "+---+------------------------+--------------+---------------------+----------------+----------------+---------------------+--------+------+---------------+-----------------------+------------+------------------+-------------------+-------------------+----------------------------+--------------+----------------+---------------------+---------------+---------------------+------------------+\n",
            "only showing top 20 rows\n",
            "\n"
          ]
        }
      ],
      "source": [
        "# Mise en Int de tout les valeurs du tableau\n",
        "from pyspark.sql.functions import udf\n",
        "from pyspark.sql.types import IntegerType\n",
        "\n",
        "df_int = df_spark_clean.alias(\"df_spark_copy\")\n",
        "\n",
        "# Colonnes en String\n",
        "columns_to_map = [\"complaint_status\", \"feedback\", \"internet_option\", \"medium_of_operation\", \"membership_category\", \"preferred_offer_types\", \"region_category\", \"joined_through_referral\", \"gender\"]\n",
        "\n",
        "# Création des dictionnaires\n",
        "mappings = {}\n",
        "\n",
        "#On ajoute aux dictionnaires\n",
        "for col_name in columns_to_map:\n",
        "    unique_values = df_int.select(col_name).distinct().rdd.flatMap(lambda x: x).collect()\n",
        "    mapping_dict = {val: idx for idx, val in enumerate(unique_values)}\n",
        "    mappings[col_name] = mapping_dict\n",
        "\n",
        "print(mappings) # Affichage\n",
        "\n",
        "# Fonction pour créer un UDF à partir d'un dictionnaire de mapping\n",
        "def create_map_udf(mapping_dict):\n",
        "    return udf(lambda x: mapping_dict.get(x, -1), IntegerType())\n",
        "\n",
        "# Appliquer les mappings aux colonnes\n",
        "for col_name, mapping_dict in mappings.items():\n",
        "    map_udf = create_map_udf(mapping_dict)\n",
        "    df_int = df_int.withColumn(col_name, map_udf(col(col_name)))\n",
        "\n",
        "# Transforme Yes=1 No=0\n",
        "df_int = df_int.withColumn(\"offer_application_preference\", when(col(\"offer_application_preference\") == \"Yes\", 1).when(col(\"offer_application_preference\") == \"No\", 0))\n",
        "df_int = df_int.withColumn(\"past_complaint\", when(col(\"past_complaint\") == \"Yes\", 1).when(col(\"past_complaint\") == \"No\", 0))\n",
        "df_int = df_int.withColumn(\"used_special_discount\", when(col(\"used_special_discount\") == \"Yes\", 1).when(col(\"used_special_discount\") == \"No\", 0))\n",
        "\n",
        "# Afficher les résultats\n",
        "df_int.show()"
      ]
    },
    {
      "cell_type": "markdown",
      "metadata": {
        "id": "-2SeV-Z-z8FN"
      },
      "source": [
        "On affiche maintenant le nombre de données que présente à présent notre DataFrame"
      ]
    },
    {
      "cell_type": "code",
      "execution_count": null,
      "metadata": {
        "colab": {
          "base_uri": "https://localhost:8080/"
        },
        "id": "gjG_7Fjiq2SR",
        "outputId": "233a66ee-2389-479c-c404-3f0128866e74"
      },
      "outputs": [
        {
          "name": "stdout",
          "output_type": "stream",
          "text": [
            "26121\n"
          ]
        }
      ],
      "source": [
        "print(df_int.count())"
      ]
    },
    {
      "cell_type": "markdown",
      "metadata": {
        "id": "P6f9NuYWHoAz"
      },
      "source": [
        "# Analyse des données"
      ]
    },
    {
      "cell_type": "markdown",
      "metadata": {
        "id": "7a8ZxVZn0NT2"
      },
      "source": [
        "Dans cette partie nous allons faire des visualisations graphiques dans le but de connaitre mieux l'influence de nos features sur la prédiction du risque de désabonnement"
      ]
    },
    {
      "cell_type": "code",
      "execution_count": null,
      "metadata": {
        "colab": {
          "base_uri": "https://localhost:8080/",
          "height": 620
        },
        "id": "TR-YlFXAt-rV",
        "outputId": "c86b745a-2fbc-46bf-fe93-85d38878265c"
      },
      "outputs": [
        {
          "data": {
            "image/png": "[encoded data removed]",
            "text/plain": [
              "<Figure size 640x480 with 2 Axes>"
            ]
          },
          "metadata": {},
          "output_type": "display_data"
        }
      ],
      "source": [
        "# Matrice Correlation\n",
        "df_pandas = df_int.toPandas()\n",
        "corr_matrix = df_pandas.corr()\n",
        "import seaborn as sns\n",
        "import matplotlib.pyplot as plt\n",
        "\n",
        "# créer un heatmap à l'aide de seaborn\n",
        "sns.heatmap(corr_matrix, annot=False, cmap=\"coolwarm\")\n",
        "\n",
        "# afficher le heatmap\n",
        "plt.show()"
      ]
    },
    {
      "cell_type": "markdown",
      "metadata": {
        "id": "Bg-FU7lB0pQu"
      },
      "source": [
        "On constate que les Churns ont une coorélation plus importantes avec 5 variables : la frequence de jours de connexion, la moyenne du nombre de transactions, les feedbacks, leurs catégories d'adhésion et le nombre de points de fidelité."
      ]
    },
    {
      "cell_type": "markdown",
      "metadata": {
        "id": "CCyzdIE40eyW"
      },
      "source": [
        "Dans le but de pouvoir avoir un comparaison sur l'influence ou non d'une feature sur notre préduction, nous allons afficher la proportion de churn dans notre Dataset"
      ]
    },
    {
      "cell_type": "code",
      "execution_count": null,
      "metadata": {
        "colab": {
          "base_uri": "https://localhost:8080/",
          "height": 450
        },
        "id": "TQ45faWdY5w0",
        "outputId": "e2a16b77-c52c-4079-8445-3165ca757d15"
      },
      "outputs": [
        {
          "data": {
            "text/html": [
              "\n",
              "<div id=\"altair-viz-85017624a9df4868802cc6c8f44dcb6a\"></div>\n",
              "<script type=\"text/javascript\">\n",
              "  var VEGA_DEBUG = (typeof VEGA_DEBUG == \"undefined\") ? {} : VEGA_DEBUG;\n",
              "  (function(spec, embedOpt){\n",
              "    let outputDiv = document.currentScript.previousElementSibling;\n",
              "    if (outputDiv.id !== \"altair-viz-85017624a9df4868802cc6c8f44dcb6a\") {\n",
              "      outputDiv = document.getElementById(\"altair-viz-85017624a9df4868802cc6c8f44dcb6a\");\n",
              "    }\n",
              "    const paths = {\n",
              "      \"vega\": \"https://cdn.jsdelivr.net/npm//vega@5?noext\",\n",
              "      \"vega-lib\": \"https://cdn.jsdelivr.net/npm//vega-lib?noext\",\n",
              "      \"vega-lite\": \"https://cdn.jsdelivr.net/npm//vega-lite@4.17.0?noext\",\n",
              "      \"vega-embed\": \"https://cdn.jsdelivr.net/npm//vega-embed@6?noext\",\n",
              "    };\n",
              "\n",
              "    function maybeLoadScript(lib, version) {\n",
              "      var key = `${lib.replace(\"-\", \"\")}_version`;\n",
              "      return (VEGA_DEBUG[key] == version) ?\n",
              "        Promise.resolve(paths[lib]) :\n",
              "        new Promise(function(resolve, reject) {\n",
              "          var s = document.createElement('script');\n",
              "          document.getElementsByTagName(\"head\")[0].appendChild(s);\n",
              "          s.async = true;\n",
              "          s.onload = () => {\n",
              "            VEGA_DEBUG[key] = version;\n",
              "            return resolve(paths[lib]);\n",
              "          };\n",
              "          s.onerror = () => reject(`Error loading script: ${paths[lib]}`);\n",
              "          s.src = paths[lib];\n",
              "        });\n",
              "    }\n",
              "\n",
              "    function showError(err) {\n",
              "      outputDiv.innerHTML = `<div class=\"error\" style=\"color:red;\">${err}</div>`;\n",
              "      throw err;\n",
              "    }\n",
              "\n",
              "    function displayChart(vegaEmbed) {\n",
              "      vegaEmbed(outputDiv, spec, embedOpt)\n",
              "        .catch(err => showError(`Javascript Error: ${err.message}<br>This usually means there's a typo in your chart specification. See the javascript console for the full traceback.`));\n",
              "    }\n",
              "\n",
              "    if(typeof define === \"function\" && define.amd) {\n",
              "      requirejs.config({paths});\n",
              "      require([\"vega-embed\"], displayChart, err => showError(`Error loading script: ${err.message}`));\n",
              "    } else {\n",
              "      maybeLoadScript(\"vega\", \"5\")\n",
              "        .then(() => maybeLoadScript(\"vega-lite\", \"4.17.0\"))\n",
              "        .then(() => maybeLoadScript(\"vega-embed\", \"6\"))\n",
              "        .catch(showError)\n",
              "        .then(() => displayChart(vegaEmbed));\n",
              "    }\n",
              "  })({\"config\": {\"view\": {\"continuousWidth\": 400, \"continuousHeight\": 300}}, \"layer\": [{\"mark\": {\"type\": \"arc\", \"innerRadius\": 100, \"outerRadius\": 200, \"stroke\": \"#fff\"}, \"encoding\": {\"color\": {\"field\": \"churn_risk_score\", \"scale\": {\"domain\": [0, 1], \"range\": [\"green\", \"red\"]}, \"type\": \"nominal\"}, \"radius\": {\"field\": \"proportion\", \"scale\": {\"rangeMin\": 150, \"type\": \"sqrt\", \"zero\": true}, \"type\": \"quantitative\"}, \"theta\": {\"field\": \"proportion\", \"stack\": true, \"type\": \"quantitative\"}, \"tooltip\": [{\"field\": \"proportion\", \"type\": \"quantitative\"}, {\"field\": \"count\", \"type\": \"quantitative\"}, {\"field\": \"churn_risk_score\", \"type\": \"quantitative\"}]}, \"height\": 400, \"title\": \"Nightingale Rose Chart de la proportion du risque de d\\u00e9sabonnement\", \"width\": 400}, {\"mark\": {\"type\": \"text\", \"radiusOffset\": 20}, \"encoding\": {\"color\": {\"field\": \"churn_risk_score\", \"scale\": {\"domain\": [0, 1], \"range\": [\"green\", \"red\"]}, \"type\": \"nominal\"}, \"radius\": {\"field\": \"proportion\", \"scale\": {\"rangeMin\": 150, \"type\": \"sqrt\", \"zero\": true}, \"type\": \"quantitative\"}, \"text\": {\"field\": \"churn_risk_score\", \"format\": \".1f\", \"type\": \"quantitative\"}, \"theta\": {\"field\": \"proportion\", \"stack\": true, \"type\": \"quantitative\"}, \"tooltip\": [{\"field\": \"proportion\", \"type\": \"quantitative\"}, {\"field\": \"count\", \"type\": \"quantitative\"}, {\"field\": \"churn_risk_score\", \"type\": \"quantitative\"}]}, \"height\": 400, \"title\": \"Nightingale Rose Chart de la proportion du risque de d\\u00e9sabonnement\", \"width\": 400}], \"data\": {\"name\": \"data-959cc1204bc4c0500d3b7a1fc5997fbc\"}, \"$schema\": \"https://vega.github.io/schema/vega-lite/v4.17.0.json\", \"datasets\": {\"data-959cc1204bc4c0500d3b7a1fc5997fbc\": [{\"churn_risk_score\": 0, \"count\": 12063, \"proportion\": 46.18123349029516}, {\"churn_risk_score\": 1, \"count\": 14058, \"proportion\": 53.818766509704844}]}}, {\"mode\": \"vega-lite\"});\n",
              "</script>"
            ],
            "text/plain": [
              "alt.LayerChart(...)"
            ]
          },
          "metadata": {},
          "output_type": "display_data"
        }
      ],
      "source": [
        "from pyspark.sql.functions import avg, sum\n",
        "import pandas as pd\n",
        "import altair as alt\n",
        "\n",
        "# Nombre de churn pour chaque\n",
        "df_churn = df_spark_clean.groupBy(\"churn_risk_score\").count()\n",
        "\n",
        "# Somme total\n",
        "total_count = df_churn.select(sum(\"count\")).collect()[0][0]\n",
        "\n",
        "# Proportion de chaque valeur de churn\n",
        "df_churn = df_churn.withColumn(\"proportion\", (col(\"count\") / total_count)*100)\n",
        "\n",
        "# Convertir le DataFrame PySpark en DataFrame pandas\n",
        "data_pd = df_churn.toPandas()\n",
        "\n",
        "# couleurs personnalisées\n",
        "color_scale = alt.Scale(\n",
        "    domain=[0, 1],\n",
        "    range=['green', 'red']\n",
        ")\n",
        "\n",
        "#graphique Nightingale Rose Chart avec Altair\n",
        "base = alt.Chart(data_pd).encode(\n",
        "    theta=alt.Theta(\"proportion:Q\", stack=True),\n",
        "    radius=alt.Radius(\"proportion:Q\", scale=alt.Scale(type=\"sqrt\", zero=True, rangeMin=150)),\n",
        "    tooltip=['proportion:Q','count:Q', 'churn_risk_score:Q'],\n",
        "    color=alt.Color(\"churn_risk_score:N\", scale=color_scale)\n",
        ").properties(\n",
        "    width=400,  # Taille du graphique\n",
        "    height=400,\n",
        "    title=\"Nightingale Rose Chart de la proportion du risque de désabonnement\"  # Titre du graphique\n",
        ")\n",
        "\n",
        "# Ajouter les arcs et les étiquettes\n",
        "c1 = base.mark_arc(innerRadius=100, outerRadius=200, stroke=\"#fff\")\n",
        "c2 = base.mark_text(radiusOffset=20).encode(text=alt.Text(\"churn_risk_score:Q\", format=\".1f\"))\n",
        "\n",
        "# Afficher le graphique\n",
        "chart = c1 + c2\n",
        "chart.display()\n"
      ]
    },
    {
      "cell_type": "markdown",
      "metadata": {
        "id": "jED-hSAu17y3"
      },
      "source": [
        "Dans un second temps nous allons regardé si l'age d'une personne à une influence sur le désabonnement et nous affichons la couleur avec la proportion de personnes."
      ]
    },
    {
      "cell_type": "code",
      "execution_count": null,
      "metadata": {
        "colab": {
          "base_uri": "https://localhost:8080/",
          "height": 485
        },
        "id": "g-xRYSwf4H3V",
        "outputId": "de45cc77-50c8-46a8-9690-fe9698dab796"
      },
      "outputs": [
        {
          "data": {
            "text/html": [
              "\n",
              "<div id=\"altair-viz-cdea7504c9cf4b5197a53881332b847a\"></div>\n",
              "<script type=\"text/javascript\">\n",
              "  var VEGA_DEBUG = (typeof VEGA_DEBUG == \"undefined\") ? {} : VEGA_DEBUG;\n",
              "  (function(spec, embedOpt){\n",
              "    let outputDiv = document.currentScript.previousElementSibling;\n",
              "    if (outputDiv.id !== \"altair-viz-cdea7504c9cf4b5197a53881332b847a\") {\n",
              "      outputDiv = document.getElementById(\"altair-viz-cdea7504c9cf4b5197a53881332b847a\");\n",
              "    }\n",
              "    const paths = {\n",
              "      \"vega\": \"https://cdn.jsdelivr.net/npm//vega@5?noext\",\n",
              "      \"vega-lib\": \"https://cdn.jsdelivr.net/npm//vega-lib?noext\",\n",
              "      \"vega-lite\": \"https://cdn.jsdelivr.net/npm//vega-lite@4.17.0?noext\",\n",
              "      \"vega-embed\": \"https://cdn.jsdelivr.net/npm//vega-embed@6?noext\",\n",
              "    };\n",
              "\n",
              "    function maybeLoadScript(lib, version) {\n",
              "      var key = `${lib.replace(\"-\", \"\")}_version`;\n",
              "      return (VEGA_DEBUG[key] == version) ?\n",
              "        Promise.resolve(paths[lib]) :\n",
              "        new Promise(function(resolve, reject) {\n",
              "          var s = document.createElement('script');\n",
              "          document.getElementsByTagName(\"head\")[0].appendChild(s);\n",
              "          s.async = true;\n",
              "          s.onload = () => {\n",
              "            VEGA_DEBUG[key] = version;\n",
              "            return resolve(paths[lib]);\n",
              "          };\n",
              "          s.onerror = () => reject(`Error loading script: ${paths[lib]}`);\n",
              "          s.src = paths[lib];\n",
              "        });\n",
              "    }\n",
              "\n",
              "    function showError(err) {\n",
              "      outputDiv.innerHTML = `<div class=\"error\" style=\"color:red;\">${err}</div>`;\n",
              "      throw err;\n",
              "    }\n",
              "\n",
              "    function displayChart(vegaEmbed) {\n",
              "      vegaEmbed(outputDiv, spec, embedOpt)\n",
              "        .catch(err => showError(`Javascript Error: ${err.message}<br>This usually means there's a typo in your chart specification. See the javascript console for the full traceback.`));\n",
              "    }\n",
              "\n",
              "    if(typeof define === \"function\" && define.amd) {\n",
              "      requirejs.config({paths});\n",
              "      require([\"vega-embed\"], displayChart, err => showError(`Error loading script: ${err.message}`));\n",
              "    } else {\n",
              "      maybeLoadScript(\"vega\", \"5\")\n",
              "        .then(() => maybeLoadScript(\"vega-lite\", \"4.17.0\"))\n",
              "        .then(() => maybeLoadScript(\"vega-embed\", \"6\"))\n",
              "        .catch(showError)\n",
              "        .then(() => displayChart(vegaEmbed));\n",
              "    }\n",
              "  })({\"config\": {\"view\": {\"continuousWidth\": 400, \"continuousHeight\": 300}}, \"data\": {\"name\": \"data-0e3126515bd8fc6b33dd7a387fb7140b\"}, \"mark\": \"bar\", \"encoding\": {\"color\": {\"field\": \"Nombre_Clients\", \"type\": \"quantitative\"}, \"tooltip\": [{\"field\": \"age\", \"type\": \"quantitative\"}, {\"field\": \"avg_churn_percentage\", \"type\": \"quantitative\"}, {\"field\": \"Nombre_Clients\", \"type\": \"quantitative\"}], \"x\": {\"axis\": {\"title\": \"Age des clients (en ans)\"}, \"field\": \"age\", \"type\": \"quantitative\"}, \"y\": {\"axis\": {\"title\": \"Pourcentage de client avec un risque de d\\u00e9sabonnement\"}, \"field\": \"avg_churn_percentage\", \"type\": \"quantitative\"}}, \"height\": 400, \"selection\": {\"selector001\": {\"type\": \"interval\", \"bind\": \"scales\", \"encodings\": [\"x\", \"y\"]}}, \"title\": \"Histogramme du risque de d\\u00e9sabonnement selon l'age\", \"width\": 800, \"$schema\": \"https://vega.github.io/schema/vega-lite/v4.17.0.json\", \"datasets\": {\"data-0e3126515bd8fc6b33dd7a387fb7140b\": [{\"age\": 10, \"avg_churn_percentage\": 53.813559322033896, \"Nombre_Clients\": 472}, {\"age\": 11, \"avg_churn_percentage\": 55.70175438596491, \"Nombre_Clients\": 456}, {\"age\": 12, \"avg_churn_percentage\": 54.166666666666664, \"Nombre_Clients\": 480}, {\"age\": 13, \"avg_churn_percentage\": 52.43362831858407, \"Nombre_Clients\": 452}, {\"age\": 14, \"avg_churn_percentage\": 53.441295546558706, \"Nombre_Clients\": 494}, {\"age\": 15, \"avg_churn_percentage\": 52.28758169934641, \"Nombre_Clients\": 459}, {\"age\": 16, \"avg_churn_percentage\": 52.09923664122137, \"Nombre_Clients\": 524}, {\"age\": 17, \"avg_churn_percentage\": 54.680851063829785, \"Nombre_Clients\": 470}, {\"age\": 18, \"avg_churn_percentage\": 53.5796766743649, \"Nombre_Clients\": 433}, {\"age\": 19, \"avg_churn_percentage\": 54.48577680525164, \"Nombre_Clients\": 457}, {\"age\": 20, \"avg_churn_percentage\": 51.19305856832972, \"Nombre_Clients\": 461}, {\"age\": 21, \"avg_churn_percentage\": 53.37423312883436, \"Nombre_Clients\": 489}, {\"age\": 22, \"avg_churn_percentage\": 52.473118279569896, \"Nombre_Clients\": 465}, {\"age\": 23, \"avg_churn_percentage\": 53.3195020746888, \"Nombre_Clients\": 482}, {\"age\": 24, \"avg_churn_percentage\": 55.38461538461539, \"Nombre_Clients\": 455}, {\"age\": 25, \"avg_churn_percentage\": 54.12026726057907, \"Nombre_Clients\": 449}, {\"age\": 26, \"avg_churn_percentage\": 54.621848739495796, \"Nombre_Clients\": 476}, {\"age\": 27, \"avg_churn_percentage\": 49.7787610619469, \"Nombre_Clients\": 452}, {\"age\": 28, \"avg_churn_percentage\": 56.3894523326572, \"Nombre_Clients\": 493}, {\"age\": 29, \"avg_churn_percentage\": 52.85412262156448, \"Nombre_Clients\": 473}, {\"age\": 30, \"avg_churn_percentage\": 53.293413173652695, \"Nombre_Clients\": 501}, {\"age\": 31, \"avg_churn_percentage\": 52.81837160751566, \"Nombre_Clients\": 479}, {\"age\": 32, \"avg_churn_percentage\": 55.76131687242798, \"Nombre_Clients\": 486}, {\"age\": 33, \"avg_churn_percentage\": 54.563894523326574, \"Nombre_Clients\": 493}, {\"age\": 34, \"avg_churn_percentage\": 53.06553911205074, \"Nombre_Clients\": 473}, {\"age\": 35, \"avg_churn_percentage\": 57.324840764331206, \"Nombre_Clients\": 471}, {\"age\": 36, \"avg_churn_percentage\": 53.987730061349694, \"Nombre_Clients\": 489}, {\"age\": 37, \"avg_churn_percentage\": 56.587473002159825, \"Nombre_Clients\": 463}, {\"age\": 38, \"avg_churn_percentage\": 58.8469184890656, \"Nombre_Clients\": 503}, {\"age\": 39, \"avg_churn_percentage\": 53.2608695652174, \"Nombre_Clients\": 460}, {\"age\": 40, \"avg_churn_percentage\": 50.697674418604656, \"Nombre_Clients\": 430}, {\"age\": 41, \"avg_churn_percentage\": 54.36507936507936, \"Nombre_Clients\": 504}, {\"age\": 42, \"avg_churn_percentage\": 53.15487571701721, \"Nombre_Clients\": 523}, {\"age\": 43, \"avg_churn_percentage\": 54.505494505494504, \"Nombre_Clients\": 455}, {\"age\": 44, \"avg_churn_percentage\": 51.077586206896555, \"Nombre_Clients\": 464}, {\"age\": 45, \"avg_churn_percentage\": 54.655870445344135, \"Nombre_Clients\": 494}, {\"age\": 46, \"avg_churn_percentage\": 52.02558635394456, \"Nombre_Clients\": 469}, {\"age\": 47, \"avg_churn_percentage\": 53.359683794466406, \"Nombre_Clients\": 506}, {\"age\": 48, \"avg_churn_percentage\": 48.84210526315789, \"Nombre_Clients\": 475}, {\"age\": 49, \"avg_churn_percentage\": 57.04989154013015, \"Nombre_Clients\": 461}, {\"age\": 50, \"avg_churn_percentage\": 55.65217391304348, \"Nombre_Clients\": 460}, {\"age\": 51, \"avg_churn_percentage\": 54.505494505494504, \"Nombre_Clients\": 455}, {\"age\": 52, \"avg_churn_percentage\": 55.57894736842105, \"Nombre_Clients\": 475}, {\"age\": 53, \"avg_churn_percentage\": 53.29218106995884, \"Nombre_Clients\": 486}, {\"age\": 54, \"avg_churn_percentage\": 55.47785547785548, \"Nombre_Clients\": 429}, {\"age\": 55, \"avg_churn_percentage\": 50.73684210526316, \"Nombre_Clients\": 475}, {\"age\": 56, \"avg_churn_percentage\": 56.666666666666664, \"Nombre_Clients\": 480}, {\"age\": 57, \"avg_churn_percentage\": 55.50935550935551, \"Nombre_Clients\": 481}, {\"age\": 58, \"avg_churn_percentage\": 53.541666666666664, \"Nombre_Clients\": 480}, {\"age\": 59, \"avg_churn_percentage\": 55.2, \"Nombre_Clients\": 500}, {\"age\": 60, \"avg_churn_percentage\": 55.62130177514793, \"Nombre_Clients\": 507}, {\"age\": 61, \"avg_churn_percentage\": 48.59437751004016, \"Nombre_Clients\": 498}, {\"age\": 62, \"avg_churn_percentage\": 55.483870967741936, \"Nombre_Clients\": 465}, {\"age\": 63, \"avg_churn_percentage\": 51.30434782608696, \"Nombre_Clients\": 460}, {\"age\": 64, \"avg_churn_percentage\": 53.027139874739035, \"Nombre_Clients\": 479}]}}, {\"mode\": \"vega-lite\"});\n",
              "</script>"
            ],
            "text/plain": [
              "alt.Chart(...)"
            ]
          },
          "execution_count": 24,
          "metadata": {},
          "output_type": "execute_result"
        }
      ],
      "source": [
        "# Churn en fct de l'age\n",
        "from pyspark.sql.functions import avg, col, count\n",
        "df_churn_age = df_spark_clean.groupBy(\"age\").agg((avg(\"churn_risk_score\") * 100).alias(\"avg_churn_percentage\"), count(\"churn_risk_score\").alias(\"Nombre_Clients\"))\n",
        "df_churn_age = df_churn_age.orderBy('age')\n",
        "\n",
        "# Importation le package Altair\n",
        "import altair as alt\n",
        "import pandas as pd\n",
        "\n",
        "# Convertir le DataFrame PySpark en DataFrame pandas\n",
        "data_pd = df_churn_age.toPandas()\n",
        "\n",
        "# Histogramme\n",
        "alt.Chart(data_pd).mark_bar().encode(\n",
        "    x=alt.X('age:Q', axis=alt.Axis(title=\"Age des clients (en ans)\")),\n",
        "    y=alt.Y('avg_churn_percentage:Q', axis=alt.Axis(title=\"Pourcentage de client avec un risque de désabonnement\")),\n",
        "    tooltip=['age:Q', 'avg_churn_percentage:Q', 'Nombre_Clients:Q'], # Afin de pouvoir avoir les informations de chaque point lorsque l'on passe notre souris\n",
        "    color = 'Nombre_Clients:Q'\n",
        ").properties(\n",
        "    width=800, # Taille du graphique\n",
        "    height=400,\n",
        "    title=\"Histogramme du risque de désabonnement selon l'age\", # Titre du graphique\n",
        ").interactive() # Pouvoir zoomer sur le graphique"
      ]
    },
    {
      "cell_type": "markdown",
      "metadata": {
        "id": "EsZFtSs73CZF"
      },
      "source": [
        "Nous constatons que l'age n'a pas réellement de grosse influance.\n",
        "\n",
        "On va donc comparer cette fois-ci avec le genre des utilisateurs"
      ]
    },
    {
      "cell_type": "code",
      "execution_count": null,
      "metadata": {
        "colab": {
          "base_uri": "https://localhost:8080/",
          "height": 524
        },
        "id": "dAGm3cCb5qLX",
        "outputId": "4d358542-0f2a-4f0d-bf12-076fdfc825e4"
      },
      "outputs": [
        {
          "data": {
            "text/html": [
              "\n",
              "<div id=\"altair-viz-ab719b508a9a410ea64ffdecbff528fb\"></div>\n",
              "<script type=\"text/javascript\">\n",
              "  var VEGA_DEBUG = (typeof VEGA_DEBUG == \"undefined\") ? {} : VEGA_DEBUG;\n",
              "  (function(spec, embedOpt){\n",
              "    let outputDiv = document.currentScript.previousElementSibling;\n",
              "    if (outputDiv.id !== \"altair-viz-ab719b508a9a410ea64ffdecbff528fb\") {\n",
              "      outputDiv = document.getElementById(\"altair-viz-ab719b508a9a410ea64ffdecbff528fb\");\n",
              "    }\n",
              "    const paths = {\n",
              "      \"vega\": \"https://cdn.jsdelivr.net/npm//vega@5?noext\",\n",
              "      \"vega-lib\": \"https://cdn.jsdelivr.net/npm//vega-lib?noext\",\n",
              "      \"vega-lite\": \"https://cdn.jsdelivr.net/npm//vega-lite@4.17.0?noext\",\n",
              "      \"vega-embed\": \"https://cdn.jsdelivr.net/npm//vega-embed@6?noext\",\n",
              "    };\n",
              "\n",
              "    function maybeLoadScript(lib, version) {\n",
              "      var key = `${lib.replace(\"-\", \"\")}_version`;\n",
              "      return (VEGA_DEBUG[key] == version) ?\n",
              "        Promise.resolve(paths[lib]) :\n",
              "        new Promise(function(resolve, reject) {\n",
              "          var s = document.createElement('script');\n",
              "          document.getElementsByTagName(\"head\")[0].appendChild(s);\n",
              "          s.async = true;\n",
              "          s.onload = () => {\n",
              "            VEGA_DEBUG[key] = version;\n",
              "            return resolve(paths[lib]);\n",
              "          };\n",
              "          s.onerror = () => reject(`Error loading script: ${paths[lib]}`);\n",
              "          s.src = paths[lib];\n",
              "        });\n",
              "    }\n",
              "\n",
              "    function showError(err) {\n",
              "      outputDiv.innerHTML = `<div class=\"error\" style=\"color:red;\">${err}</div>`;\n",
              "      throw err;\n",
              "    }\n",
              "\n",
              "    function displayChart(vegaEmbed) {\n",
              "      vegaEmbed(outputDiv, spec, embedOpt)\n",
              "        .catch(err => showError(`Javascript Error: ${err.message}<br>This usually means there's a typo in your chart specification. See the javascript console for the full traceback.`));\n",
              "    }\n",
              "\n",
              "    if(typeof define === \"function\" && define.amd) {\n",
              "      requirejs.config({paths});\n",
              "      require([\"vega-embed\"], displayChart, err => showError(`Error loading script: ${err.message}`));\n",
              "    } else {\n",
              "      maybeLoadScript(\"vega\", \"5\")\n",
              "        .then(() => maybeLoadScript(\"vega-lite\", \"4.17.0\"))\n",
              "        .then(() => maybeLoadScript(\"vega-embed\", \"6\"))\n",
              "        .catch(showError)\n",
              "        .then(() => displayChart(vegaEmbed));\n",
              "    }\n",
              "  })({\"config\": {\"view\": {\"continuousWidth\": 400, \"continuousHeight\": 300}}, \"hconcat\": [{\"layer\": [{\"mark\": {\"type\": \"arc\", \"innerRadius\": 100, \"outerRadius\": 200, \"stroke\": \"#fff\"}, \"encoding\": {\"color\": {\"field\": \"gender\", \"scale\": {\"domain\": [\"M\", \"F\", \"Unknown\"], \"range\": [\"blue\", \"red\", \"green\"]}, \"type\": \"nominal\"}, \"radius\": {\"field\": \"avg_churn_percentage\", \"scale\": {\"rangeMin\": 150, \"type\": \"sqrt\", \"zero\": true}, \"type\": \"quantitative\"}, \"theta\": {\"field\": \"avg_churn_percentage\", \"stack\": true, \"type\": \"quantitative\"}, \"tooltip\": [{\"field\": \"gender\", \"type\": \"nominal\"}, {\"field\": \"avg_churn_percentage\", \"type\": \"quantitative\"}]}, \"height\": 400, \"title\": \"Nightingale Rose Chart du risque de d\\u00e9sabonnement selon le genre\", \"width\": 400}, {\"mark\": {\"type\": \"text\", \"radiusOffset\": 20}, \"encoding\": {\"color\": {\"field\": \"gender\", \"scale\": {\"domain\": [\"M\", \"F\", \"Unknown\"], \"range\": [\"blue\", \"red\", \"green\"]}, \"type\": \"nominal\"}, \"radius\": {\"field\": \"avg_churn_percentage\", \"scale\": {\"rangeMin\": 150, \"type\": \"sqrt\", \"zero\": true}, \"type\": \"quantitative\"}, \"text\": {\"field\": \"avg_churn_percentage\", \"format\": \".1f\", \"type\": \"quantitative\"}, \"theta\": {\"field\": \"avg_churn_percentage\", \"stack\": true, \"type\": \"quantitative\"}, \"tooltip\": [{\"field\": \"gender\", \"type\": \"nominal\"}, {\"field\": \"avg_churn_percentage\", \"type\": \"quantitative\"}]}, \"height\": 400, \"title\": \"Nightingale Rose Chart du risque de d\\u00e9sabonnement selon le genre\", \"width\": 400}], \"data\": {\"name\": \"data-abd7bc4fbce81ff536df74bba34673c7\"}}, {\"data\": {\"name\": \"data-2fdc5665cff902b0e51ea11304484632\"}, \"mark\": \"bar\", \"encoding\": {\"color\": {\"field\": \"gender\", \"scale\": {\"domain\": [\"M\", \"F\", \"Unknown\"], \"range\": [\"blue\", \"red\", \"green\"]}, \"type\": \"nominal\"}, \"tooltip\": [{\"field\": \"gender\", \"type\": \"nominal\"}, {\"field\": \"count\", \"type\": \"quantitative\"}], \"x\": {\"axis\": {\"title\": \"Genre des clients\"}, \"field\": \"gender\", \"type\": \"nominal\"}, \"y\": {\"axis\": {\"title\": \"Nombre de clients\"}, \"field\": \"count\", \"type\": \"quantitative\"}}, \"height\": 400, \"selection\": {\"selector002\": {\"type\": \"interval\", \"bind\": \"scales\", \"encodings\": [\"x\", \"y\"]}}, \"title\": \"Histogramme du nombre de clients selon leur genre\", \"width\": 400}], \"$schema\": \"https://vega.github.io/schema/vega-lite/v4.17.0.json\", \"datasets\": {\"data-abd7bc4fbce81ff536df74bba34673c7\": [{\"gender\": \"F\", \"avg_churn_percentage\": 53.99604201552748}, {\"gender\": \"M\", \"avg_churn_percentage\": 53.64591379576703}, {\"gender\": \"Unknown\", \"avg_churn_percentage\": 51.35135135135135}], \"data-2fdc5665cff902b0e51ea11304484632\": [{\"gender\": \"F\", \"count\": 13138}, {\"gender\": \"M\", \"count\": 12946}, {\"gender\": \"Unknown\", \"count\": 37}]}}, {\"mode\": \"vega-lite\"});\n",
              "</script>"
            ],
            "text/plain": [
              "alt.HConcatChart(...)"
            ]
          },
          "metadata": {},
          "output_type": "display_data"
        }
      ],
      "source": [
        "from pyspark.sql.functions import count\n",
        "\n",
        "# pour chaque genre\n",
        "df_churn = df_spark_clean.groupBy(\"gender\").agg((avg(\"churn_risk_score\") * 100).alias(\"avg_churn_percentage\"))\n",
        "df_churn2 = df_spark_clean.groupBy(\"gender\").count()\n",
        "\n",
        "data_pd = df_churn.toPandas()\n",
        "data_pd2 = df_churn2.toPandas()\n",
        "\n",
        "# couleurs personnalisées\n",
        "color_scale = alt.Scale(\n",
        "    domain=['M', 'F', 'Unknown'],\n",
        "    range=['blue', 'red', 'green']\n",
        ")\n",
        "\n",
        "# Créer un graphique Nightingale Rose Chart avec Altair sur moyenne prédiction churn\n",
        "base = alt.Chart(data_pd).encode(\n",
        "    theta=alt.Theta(\"avg_churn_percentage:Q\", stack=True),\n",
        "    radius=alt.Radius(\"avg_churn_percentage:Q\", scale=alt.Scale(type=\"sqrt\", zero=True, rangeMin=150)),\n",
        "    tooltip=['gender:N', 'avg_churn_percentage:Q'],\n",
        "    color=alt.Color(\"gender:N\", scale=color_scale)\n",
        ").properties(\n",
        "    width=400,  # Taille du graphique\n",
        "    height=400,\n",
        "    title=\"Nightingale Rose Chart du risque de désabonnement selon le genre\"  # Titre du graphique\n",
        ")\n",
        "\n",
        "# Histogramme du nombre de clients selon leur genre\n",
        "base2 = alt.Chart(data_pd2).mark_bar().encode(\n",
        "    x=alt.X('gender:N', axis=alt.Axis(title=\"Genre des clients\")),\n",
        "    y=alt.Y('count:Q', axis=alt.Axis(title=\"Nombre de clients\")),\n",
        "    tooltip=['gender:N', 'count:Q'],  # Afin de pouvoir avoir les informations de chaque point lorsque l'on passe notre souris\n",
        "    color=alt.Color(\"gender:N\", scale=color_scale)\n",
        ").properties(\n",
        "    width=400,  # Taille du graphique\n",
        "    height=400,\n",
        "    title=\"Histogramme du nombre de clients selon leur genre\"  # Titre du graphique\n",
        ").interactive()  # Pouvoir zoomer sur le graphique\n",
        "\n",
        "# Ajouter les arcs et les étiquettes\n",
        "c1 = base.mark_arc(innerRadius=100, outerRadius=200, stroke=\"#fff\")\n",
        "c2 = base.mark_text(radiusOffset=20).encode(text=alt.Text(\"avg_churn_percentage:Q\", format=\".1f\"))\n",
        "\n",
        "# Afficher le graphique\n",
        "chart = (c1 + c2) | base2\n",
        "chart.display()\n"
      ]
    },
    {
      "cell_type": "markdown",
      "metadata": {
        "id": "LNdVVB1832iX"
      },
      "source": [
        "De même on constate que le genre n'a pas de réelle influence sur le désabonnement des clients\n",
        "\n",
        "Regardons maintenant si les utilisateurs ayant eu des achats compulsifs ont tendance à ce désabonner"
      ]
    },
    {
      "cell_type": "code",
      "execution_count": null,
      "metadata": {
        "colab": {
          "base_uri": "https://localhost:8080/",
          "height": 531
        },
        "id": "d0cRbC7HC3km",
        "outputId": "77f62bca-e8b8-429b-c992-fffa4a098b70"
      },
      "outputs": [
        {
          "data": {
            "text/html": [
              "\n",
              "<div id=\"altair-viz-05d97fe435ae4919908de660d22e803a\"></div>\n",
              "<script type=\"text/javascript\">\n",
              "  var VEGA_DEBUG = (typeof VEGA_DEBUG == \"undefined\") ? {} : VEGA_DEBUG;\n",
              "  (function(spec, embedOpt){\n",
              "    let outputDiv = document.currentScript.previousElementSibling;\n",
              "    if (outputDiv.id !== \"altair-viz-05d97fe435ae4919908de660d22e803a\") {\n",
              "      outputDiv = document.getElementById(\"altair-viz-05d97fe435ae4919908de660d22e803a\");\n",
              "    }\n",
              "    const paths = {\n",
              "      \"vega\": \"https://cdn.jsdelivr.net/npm//vega@5?noext\",\n",
              "      \"vega-lib\": \"https://cdn.jsdelivr.net/npm//vega-lib?noext\",\n",
              "      \"vega-lite\": \"https://cdn.jsdelivr.net/npm//vega-lite@4.17.0?noext\",\n",
              "      \"vega-embed\": \"https://cdn.jsdelivr.net/npm//vega-embed@6?noext\",\n",
              "    };\n",
              "\n",
              "    function maybeLoadScript(lib, version) {\n",
              "      var key = `${lib.replace(\"-\", \"\")}_version`;\n",
              "      return (VEGA_DEBUG[key] == version) ?\n",
              "        Promise.resolve(paths[lib]) :\n",
              "        new Promise(function(resolve, reject) {\n",
              "          var s = document.createElement('script');\n",
              "          document.getElementsByTagName(\"head\")[0].appendChild(s);\n",
              "          s.async = true;\n",
              "          s.onload = () => {\n",
              "            VEGA_DEBUG[key] = version;\n",
              "            return resolve(paths[lib]);\n",
              "          };\n",
              "          s.onerror = () => reject(`Error loading script: ${paths[lib]}`);\n",
              "          s.src = paths[lib];\n",
              "        });\n",
              "    }\n",
              "\n",
              "    function showError(err) {\n",
              "      outputDiv.innerHTML = `<div class=\"error\" style=\"color:red;\">${err}</div>`;\n",
              "      throw err;\n",
              "    }\n",
              "\n",
              "    function displayChart(vegaEmbed) {\n",
              "      vegaEmbed(outputDiv, spec, embedOpt)\n",
              "        .catch(err => showError(`Javascript Error: ${err.message}<br>This usually means there's a typo in your chart specification. See the javascript console for the full traceback.`));\n",
              "    }\n",
              "\n",
              "    if(typeof define === \"function\" && define.amd) {\n",
              "      requirejs.config({paths});\n",
              "      require([\"vega-embed\"], displayChart, err => showError(`Error loading script: ${err.message}`));\n",
              "    } else {\n",
              "      maybeLoadScript(\"vega\", \"5\")\n",
              "        .then(() => maybeLoadScript(\"vega-lite\", \"4.17.0\"))\n",
              "        .then(() => maybeLoadScript(\"vega-embed\", \"6\"))\n",
              "        .catch(showError)\n",
              "        .then(() => displayChart(vegaEmbed));\n",
              "    }\n",
              "  })({\"config\": {\"view\": {\"continuousWidth\": 400, \"continuousHeight\": 300}}, \"data\": {\"name\": \"data-2e6a5361c7bee16ed46c7272cc9511a1\"}, \"mark\": \"bar\", \"encoding\": {\"color\": {\"field\": \"Nombre_Clients\", \"type\": \"quantitative\"}, \"tooltip\": [{\"field\": \"Month\", \"type\": \"nominal\"}, {\"field\": \"avg_churn_percentage\", \"type\": \"quantitative\"}, {\"field\": \"Nombre_Clients\", \"type\": \"quantitative\"}], \"x\": {\"axis\": {\"title\": \"Mois d'abonnement des clients\"}, \"field\": \"Month\", \"sort\": [\"Janvier\", \"Fevrier\", \"Mars\", \"Avril\", \"Mai\", \"Juin\", \"Juillet\", \"Ao\\u00fbt\", \"Septembre\", \"Octobre\", \"Novembre\", \"D\\u00e9cembre\"], \"type\": \"nominal\"}, \"y\": {\"axis\": {\"title\": \"Pourcentage de client avec un risque de d\\u00e9sabonnement\"}, \"field\": \"avg_churn_percentage\", \"type\": \"quantitative\"}}, \"height\": 400, \"selection\": {\"selector003\": {\"type\": \"interval\", \"bind\": \"scales\", \"encodings\": [\"x\", \"y\"]}}, \"title\": \"Histogramme du risque de d\\u00e9sabonnement selon le mois d'abonnement\", \"width\": 800, \"$schema\": \"https://vega.github.io/schema/vega-lite/v4.17.0.json\", \"datasets\": {\"data-2e6a5361c7bee16ed46c7272cc9511a1\": [{\"month_joining_date\": 1, \"avg_churn_percentage\": 53.36384439359267, \"Nombre_Clients\": 2185, \"Month\": \"Janvier\"}, {\"month_joining_date\": 2, \"avg_churn_percentage\": 53.06420233463035, \"Nombre_Clients\": 2056, \"Month\": \"Fevrier\"}, {\"month_joining_date\": 3, \"avg_churn_percentage\": 54.31637890807279, \"Nombre_Clients\": 2143, \"Month\": \"Mars\"}, {\"month_joining_date\": 4, \"avg_churn_percentage\": 52.22634508348795, \"Nombre_Clients\": 2156, \"Month\": \"Avril\"}, {\"month_joining_date\": 5, \"avg_churn_percentage\": 53.72124492557511, \"Nombre_Clients\": 2217, \"Month\": \"Mai\"}, {\"month_joining_date\": 6, \"avg_churn_percentage\": 53.36405529953917, \"Nombre_Clients\": 2170, \"Month\": \"Juin\"}, {\"month_joining_date\": 7, \"avg_churn_percentage\": 53.92371766768961, \"Nombre_Clients\": 2281, \"Month\": \"Juillet\"}, {\"month_joining_date\": 8, \"avg_churn_percentage\": 55.92760180995475, \"Nombre_Clients\": 2210, \"Month\": \"Ao\\u00fbt\"}, {\"month_joining_date\": 9, \"avg_churn_percentage\": 54.0, \"Nombre_Clients\": 2150, \"Month\": \"Septembre\"}, {\"month_joining_date\": 10, \"avg_churn_percentage\": 52.87092328892972, \"Nombre_Clients\": 2177, \"Month\": \"Octobre\"}, {\"month_joining_date\": 11, \"avg_churn_percentage\": 53.33642261353104, \"Nombre_Clients\": 2158, \"Month\": \"Novembre\"}, {\"month_joining_date\": 12, \"avg_churn_percentage\": 55.59062218214608, \"Nombre_Clients\": 2218, \"Month\": \"D\\u00e9cembre\"}]}}, {\"mode\": \"vega-lite\"});\n",
              "</script>"
            ],
            "text/plain": [
              "alt.Chart(...)"
            ]
          },
          "execution_count": 26,
          "metadata": {},
          "output_type": "execute_result"
        }
      ],
      "source": [
        "# Churn en fct du mois d'abonnement\n",
        "from pyspark.sql.functions import when\n",
        "df_churn = df_spark_clean.groupBy(\"month_joining_date\").agg((avg(\"churn_risk_score\") * 100).alias(\"avg_churn_percentage\"), count(\"churn_risk_score\").alias(\"Nombre_Clients\"))\n",
        "df_churn = df_churn.withColumn(\"Month\",\n",
        "                               when(col(\"month_joining_date\") == \"01\", \"Janvier\")\n",
        "                               .when(col(\"month_joining_date\") == \"02\", \"Fevrier\")\n",
        "                               .when(col(\"month_joining_date\") == \"03\", \"Mars\")\n",
        "                               .when(col(\"month_joining_date\") == \"04\", \"Avril\")\n",
        "                               .when(col(\"month_joining_date\") == \"05\", \"Mai\")\n",
        "                               .when(col(\"month_joining_date\") == \"06\", \"Juin\")\n",
        "                               .when(col(\"month_joining_date\") == \"07\", \"Juillet\")\n",
        "                               .when(col(\"month_joining_date\") == \"08\", \"Août\")\n",
        "                               .when(col(\"month_joining_date\") == \"09\", \"Septembre\")\n",
        "                               .when(col(\"month_joining_date\") == \"10\", \"Octobre\")\n",
        "                               .when(col(\"month_joining_date\") == \"11\", \"Novembre\")\n",
        "                               .otherwise(\"Décembre\"))\n",
        "df_churn = df_churn.orderBy('month_joining_date')\n",
        "\n",
        "data_pd = df_churn.toPandas()\n",
        "\n",
        "# Définir l'ordre des mois\n",
        "month_order = [\"Janvier\", \"Fevrier\", \"Mars\", \"Avril\", \"Mai\", \"Juin\", \"Juillet\", \"Août\", \"Septembre\", \"Octobre\", \"Novembre\", \"Décembre\"]\n",
        "\n",
        "# Histogramme\n",
        "alt.Chart(data_pd).mark_bar().encode(\n",
        "    x=alt.X('Month:N', sort=month_order, axis=alt.Axis(title=\"Mois d'abonnement des clients\")),\n",
        "    y=alt.Y('avg_churn_percentage:Q', axis=alt.Axis(title=\"Pourcentage de client avec un risque de désabonnement\")),\n",
        "    tooltip=['Month:N', 'avg_churn_percentage:Q', 'Nombre_Clients:Q'], # Afin de pouvoir avoir les informations de chaque point lorsque l'on passe notre souris\n",
        "    color='Nombre_Clients:Q'\n",
        ").properties(\n",
        "    width=800, # Taille du graphique\n",
        "    height=400,\n",
        "    title=\"Histogramme du risque de désabonnement selon le mois d'abonnement\", # Titre du graphique\n",
        ").interactive() # Pouvoir zoomer sur le graphique"
      ]
    },
    {
      "cell_type": "markdown",
      "metadata": {
        "id": "chpsY0jL4eRe"
      },
      "source": [
        "Les achats compulsifs ne nous montre pas un grand impact sur le risque de désabonnement.\n",
        "\n",
        "Peut-être que la localisation du client à plus d'influence?"
      ]
    },
    {
      "cell_type": "code",
      "execution_count": null,
      "metadata": {
        "colab": {
          "base_uri": "https://localhost:8080/",
          "height": 522
        },
        "id": "xMV7r7ITh2_4",
        "outputId": "b718c7c6-1cf0-4acb-dde9-dbbefe22caa4"
      },
      "outputs": [
        {
          "data": {
            "text/html": [
              "\n",
              "<div id=\"altair-viz-38bdac9360634cb7b97da1a51f2c4340\"></div>\n",
              "<script type=\"text/javascript\">\n",
              "  var VEGA_DEBUG = (typeof VEGA_DEBUG == \"undefined\") ? {} : VEGA_DEBUG;\n",
              "  (function(spec, embedOpt){\n",
              "    let outputDiv = document.currentScript.previousElementSibling;\n",
              "    if (outputDiv.id !== \"altair-viz-38bdac9360634cb7b97da1a51f2c4340\") {\n",
              "      outputDiv = document.getElementById(\"altair-viz-38bdac9360634cb7b97da1a51f2c4340\");\n",
              "    }\n",
              "    const paths = {\n",
              "      \"vega\": \"https://cdn.jsdelivr.net/npm//vega@5?noext\",\n",
              "      \"vega-lib\": \"https://cdn.jsdelivr.net/npm//vega-lib?noext\",\n",
              "      \"vega-lite\": \"https://cdn.jsdelivr.net/npm//vega-lite@4.17.0?noext\",\n",
              "      \"vega-embed\": \"https://cdn.jsdelivr.net/npm//vega-embed@6?noext\",\n",
              "    };\n",
              "\n",
              "    function maybeLoadScript(lib, version) {\n",
              "      var key = `${lib.replace(\"-\", \"\")}_version`;\n",
              "      return (VEGA_DEBUG[key] == version) ?\n",
              "        Promise.resolve(paths[lib]) :\n",
              "        new Promise(function(resolve, reject) {\n",
              "          var s = document.createElement('script');\n",
              "          document.getElementsByTagName(\"head\")[0].appendChild(s);\n",
              "          s.async = true;\n",
              "          s.onload = () => {\n",
              "            VEGA_DEBUG[key] = version;\n",
              "            return resolve(paths[lib]);\n",
              "          };\n",
              "          s.onerror = () => reject(`Error loading script: ${paths[lib]}`);\n",
              "          s.src = paths[lib];\n",
              "        });\n",
              "    }\n",
              "\n",
              "    function showError(err) {\n",
              "      outputDiv.innerHTML = `<div class=\"error\" style=\"color:red;\">${err}</div>`;\n",
              "      throw err;\n",
              "    }\n",
              "\n",
              "    function displayChart(vegaEmbed) {\n",
              "      vegaEmbed(outputDiv, spec, embedOpt)\n",
              "        .catch(err => showError(`Javascript Error: ${err.message}<br>This usually means there's a typo in your chart specification. See the javascript console for the full traceback.`));\n",
              "    }\n",
              "\n",
              "    if(typeof define === \"function\" && define.amd) {\n",
              "      requirejs.config({paths});\n",
              "      require([\"vega-embed\"], displayChart, err => showError(`Error loading script: ${err.message}`));\n",
              "    } else {\n",
              "      maybeLoadScript(\"vega\", \"5\")\n",
              "        .then(() => maybeLoadScript(\"vega-lite\", \"4.17.0\"))\n",
              "        .then(() => maybeLoadScript(\"vega-embed\", \"6\"))\n",
              "        .catch(showError)\n",
              "        .then(() => displayChart(vegaEmbed));\n",
              "    }\n",
              "  })({\"config\": {\"view\": {\"continuousWidth\": 400, \"continuousHeight\": 300}}, \"data\": {\"name\": \"data-7c9439086adf7ff2ef1bb5a3dd98dff8\"}, \"mark\": \"bar\", \"encoding\": {\"color\": {\"field\": \"Nombre_Clients\", \"type\": \"quantitative\"}, \"tooltip\": [{\"field\": \"region_category\", \"type\": \"nominal\"}, {\"field\": \"avg_churn_percentage\", \"type\": \"quantitative\"}, {\"field\": \"Nombre_Clients\", \"type\": \"quantitative\"}], \"x\": {\"axis\": {\"title\": \"Localisation des clients\"}, \"field\": \"region_category\", \"type\": \"nominal\"}, \"y\": {\"axis\": {\"title\": \"Pourcentage de client avec un risque de d\\u00e9sabonnement\"}, \"field\": \"avg_churn_percentage\", \"type\": \"quantitative\"}}, \"height\": 400, \"selection\": {\"selector004\": {\"type\": \"interval\", \"bind\": \"scales\", \"encodings\": [\"x\", \"y\"]}}, \"title\": \"Histogramme du risque de d\\u00e9sabonnement selon la localisation des clients\", \"width\": 800, \"$schema\": \"https://vega.github.io/schema/vega-lite/v4.17.0.json\", \"datasets\": {\"data-7c9439086adf7ff2ef1bb5a3dd98dff8\": [{\"region_category\": \"Unknown\", \"avg_churn_percentage\": 53.84615384615385, \"Nombre_Clients\": 3861}, {\"region_category\": \"Village\", \"avg_churn_percentage\": 50.95351609058403, \"Nombre_Clients\": 3356}, {\"region_category\": \"Town\", \"avg_churn_percentage\": 54.06438631790744, \"Nombre_Clients\": 9940}, {\"region_category\": \"City\", \"avg_churn_percentage\": 54.607318161535034, \"Nombre_Clients\": 8964}]}}, {\"mode\": \"vega-lite\"});\n",
              "</script>"
            ],
            "text/plain": [
              "alt.Chart(...)"
            ]
          },
          "execution_count": 27,
          "metadata": {},
          "output_type": "execute_result"
        }
      ],
      "source": [
        "# Churn en fct de la localisation\n",
        "df_churn = df_spark_clean.groupBy(\"region_category\").agg((avg(\"churn_risk_score\") * 100).alias(\"avg_churn_percentage\"), count(\"churn_risk_score\").alias(\"Nombre_Clients\"))\n",
        "data_pd = df_churn.toPandas()\n",
        "\n",
        "# Histogramme\n",
        "alt.Chart(data_pd).mark_bar().encode(\n",
        "    x=alt.X('region_category:N', axis=alt.Axis(title=\"Localisation des clients\")),\n",
        "    y=alt.Y('avg_churn_percentage:Q', axis=alt.Axis(title=\"Pourcentage de client avec un risque de désabonnement\")),\n",
        "    tooltip=['region_category:N', 'avg_churn_percentage:Q', 'Nombre_Clients:Q'], # Afin de pouvoir avoir les informations de chaque point lorsque l'on passe notre souris\n",
        "    color='Nombre_Clients:Q'\n",
        ").properties(\n",
        "    width=800, # Taille du graphique\n",
        "    height=400,\n",
        "    title=\"Histogramme du risque de désabonnement selon la localisation des clients\", # Titre du graphique\n",
        ").interactive() # Pouvoir zoomer sur le graphique"
      ]
    },
    {
      "cell_type": "markdown",
      "metadata": {
        "id": "o3qoTQXC5Dfp"
      },
      "source": [
        "De même cette feature à peu d'influence.\n",
        "\n",
        "On va maintenant s'intéresser au variable avec plus de corrélation\n",
        "\n",
        "Commençons par la fréquence de jours de connexion de clients"
      ]
    },
    {
      "cell_type": "code",
      "execution_count": null,
      "metadata": {
        "colab": {
          "base_uri": "https://localhost:8080/",
          "height": 485
        },
        "id": "9VNBKLXTHFgM",
        "outputId": "c4218eaa-ab83-437e-da48-51517b071e18"
      },
      "outputs": [
        {
          "data": {
            "text/html": [
              "\n",
              "<div id=\"altair-viz-e07a0b19360e461da7bd4e1f08686246\"></div>\n",
              "<script type=\"text/javascript\">\n",
              "  var VEGA_DEBUG = (typeof VEGA_DEBUG == \"undefined\") ? {} : VEGA_DEBUG;\n",
              "  (function(spec, embedOpt){\n",
              "    let outputDiv = document.currentScript.previousElementSibling;\n",
              "    if (outputDiv.id !== \"altair-viz-e07a0b19360e461da7bd4e1f08686246\") {\n",
              "      outputDiv = document.getElementById(\"altair-viz-e07a0b19360e461da7bd4e1f08686246\");\n",
              "    }\n",
              "    const paths = {\n",
              "      \"vega\": \"https://cdn.jsdelivr.net/npm//vega@5?noext\",\n",
              "      \"vega-lib\": \"https://cdn.jsdelivr.net/npm//vega-lib?noext\",\n",
              "      \"vega-lite\": \"https://cdn.jsdelivr.net/npm//vega-lite@4.17.0?noext\",\n",
              "      \"vega-embed\": \"https://cdn.jsdelivr.net/npm//vega-embed@6?noext\",\n",
              "    };\n",
              "\n",
              "    function maybeLoadScript(lib, version) {\n",
              "      var key = `${lib.replace(\"-\", \"\")}_version`;\n",
              "      return (VEGA_DEBUG[key] == version) ?\n",
              "        Promise.resolve(paths[lib]) :\n",
              "        new Promise(function(resolve, reject) {\n",
              "          var s = document.createElement('script');\n",
              "          document.getElementsByTagName(\"head\")[0].appendChild(s);\n",
              "          s.async = true;\n",
              "          s.onload = () => {\n",
              "            VEGA_DEBUG[key] = version;\n",
              "            return resolve(paths[lib]);\n",
              "          };\n",
              "          s.onerror = () => reject(`Error loading script: ${paths[lib]}`);\n",
              "          s.src = paths[lib];\n",
              "        });\n",
              "    }\n",
              "\n",
              "    function showError(err) {\n",
              "      outputDiv.innerHTML = `<div class=\"error\" style=\"color:red;\">${err}</div>`;\n",
              "      throw err;\n",
              "    }\n",
              "\n",
              "    function displayChart(vegaEmbed) {\n",
              "      vegaEmbed(outputDiv, spec, embedOpt)\n",
              "        .catch(err => showError(`Javascript Error: ${err.message}<br>This usually means there's a typo in your chart specification. See the javascript console for the full traceback.`));\n",
              "    }\n",
              "\n",
              "    if(typeof define === \"function\" && define.amd) {\n",
              "      requirejs.config({paths});\n",
              "      require([\"vega-embed\"], displayChart, err => showError(`Error loading script: ${err.message}`));\n",
              "    } else {\n",
              "      maybeLoadScript(\"vega\", \"5\")\n",
              "        .then(() => maybeLoadScript(\"vega-lite\", \"4.17.0\"))\n",
              "        .then(() => maybeLoadScript(\"vega-embed\", \"6\"))\n",
              "        .catch(showError)\n",
              "        .then(() => displayChart(vegaEmbed));\n",
              "    }\n",
              "  })({\"config\": {\"view\": {\"continuousWidth\": 400, \"continuousHeight\": 300}}, \"data\": {\"name\": \"data-6bdefe166d26e9334301e43dd9910177\"}, \"mark\": \"bar\", \"encoding\": {\"color\": {\"field\": \"Nombre_Clients\", \"type\": \"quantitative\"}, \"tooltip\": [{\"field\": \"avg_frequency_login_days_rounded\", \"type\": \"quantitative\"}, {\"field\": \"avg_churn_percentage\", \"type\": \"quantitative\"}, {\"field\": \"Nombre_Clients\", \"type\": \"quantitative\"}], \"x\": {\"axis\": {\"title\": \"Moyenne du nombre de jours de connexion\"}, \"field\": \"avg_frequency_login_days_rounded\", \"type\": \"quantitative\"}, \"y\": {\"axis\": {\"title\": \"Pourcentage de clients avec un risque de d\\u00e9sabonnement\"}, \"field\": \"avg_churn_percentage\", \"type\": \"quantitative\"}}, \"height\": 400, \"selection\": {\"selector005\": {\"type\": \"interval\", \"bind\": \"scales\", \"encodings\": [\"x\", \"y\"]}}, \"title\": \"Histogramme du risque de d\\u00e9sabonnement selon la fr\\u00e9quence moyenne de connexion\", \"width\": 800, \"$schema\": \"https://vega.github.io/schema/vega-lite/v4.17.0.json\", \"datasets\": {\"data-6bdefe166d26e9334301e43dd9910177\": [{\"avg_frequency_login_days_rounded\": 0.0, \"avg_churn_percentage\": 71.42857142857143, \"Nombre_Clients\": 7}, {\"avg_frequency_login_days_rounded\": 1.0, \"avg_churn_percentage\": 5.286343612334802, \"Nombre_Clients\": 227}, {\"avg_frequency_login_days_rounded\": 2.0, \"avg_churn_percentage\": 4.954954954954955, \"Nombre_Clients\": 222}, {\"avg_frequency_login_days_rounded\": 3.0, \"avg_churn_percentage\": 6.25, \"Nombre_Clients\": 224}, {\"avg_frequency_login_days_rounded\": 4.0, \"avg_churn_percentage\": 2.8925619834710745, \"Nombre_Clients\": 242}, {\"avg_frequency_login_days_rounded\": 5.0, \"avg_churn_percentage\": 48.345588235294116, \"Nombre_Clients\": 1088}, {\"avg_frequency_login_days_rounded\": 6.0, \"avg_churn_percentage\": 50.45537340619308, \"Nombre_Clients\": 1098}, {\"avg_frequency_login_days_rounded\": 7.0, \"avg_churn_percentage\": 50.79217148182666, \"Nombre_Clients\": 1073}, {\"avg_frequency_login_days_rounded\": 8.0, \"avg_churn_percentage\": 51.91256830601093, \"Nombre_Clients\": 1098}, {\"avg_frequency_login_days_rounded\": 9.0, \"avg_churn_percentage\": 51.29390018484289, \"Nombre_Clients\": 1082}, {\"avg_frequency_login_days_rounded\": 10.0, \"avg_churn_percentage\": 51.02040816326531, \"Nombre_Clients\": 1078}, {\"avg_frequency_login_days_rounded\": 11.0, \"avg_churn_percentage\": 51.32223310479922, \"Nombre_Clients\": 1021}, {\"avg_frequency_login_days_rounded\": 12.0, \"avg_churn_percentage\": 54.49490268767377, \"Nombre_Clients\": 1079}, {\"avg_frequency_login_days_rounded\": 13.0, \"avg_churn_percentage\": 49.420160570918824, \"Nombre_Clients\": 1121}, {\"avg_frequency_login_days_rounded\": 14.0, \"avg_churn_percentage\": 50.67750677506775, \"Nombre_Clients\": 1107}, {\"avg_frequency_login_days_rounded\": 15.0, \"avg_churn_percentage\": 49.40202391904324, \"Nombre_Clients\": 1087}, {\"avg_frequency_login_days_rounded\": 16.0, \"avg_churn_percentage\": 50.698974836905876, \"Nombre_Clients\": 1073}, {\"avg_frequency_login_days_rounded\": 17.0, \"avg_churn_percentage\": 52.58007117437722, \"Nombre_Clients\": 1124}, {\"avg_frequency_login_days_rounded\": 18.0, \"avg_churn_percentage\": 52.93023255813954, \"Nombre_Clients\": 1075}, {\"avg_frequency_login_days_rounded\": 19.0, \"avg_churn_percentage\": 49.72375690607735, \"Nombre_Clients\": 1086}, {\"avg_frequency_login_days_rounded\": 20.0, \"avg_churn_percentage\": 63.62586605080831, \"Nombre_Clients\": 866}, {\"avg_frequency_login_days_rounded\": 21.0, \"avg_churn_percentage\": 63.097949886104786, \"Nombre_Clients\": 878}, {\"avg_frequency_login_days_rounded\": 22.0, \"avg_churn_percentage\": 63.70106761565836, \"Nombre_Clients\": 843}, {\"avg_frequency_login_days_rounded\": 23.0, \"avg_churn_percentage\": 65.50218340611353, \"Nombre_Clients\": 916}, {\"avg_frequency_login_days_rounded\": 24.0, \"avg_churn_percentage\": 63.78316032295272, \"Nombre_Clients\": 867}, {\"avg_frequency_login_days_rounded\": 25.0, \"avg_churn_percentage\": 62.59977194982896, \"Nombre_Clients\": 877}, {\"avg_frequency_login_days_rounded\": 26.0, \"avg_churn_percentage\": 64.07322654462243, \"Nombre_Clients\": 874}, {\"avg_frequency_login_days_rounded\": 27.0, \"avg_churn_percentage\": 66.66666666666666, \"Nombre_Clients\": 924}, {\"avg_frequency_login_days_rounded\": 28.0, \"avg_churn_percentage\": 65.359477124183, \"Nombre_Clients\": 918}, {\"avg_frequency_login_days_rounded\": 29.0, \"avg_churn_percentage\": 61.80631120783461, \"Nombre_Clients\": 919}, {\"avg_frequency_login_days_rounded\": 30.0, \"avg_churn_percentage\": 47.05882352941176, \"Nombre_Clients\": 17}, {\"avg_frequency_login_days_rounded\": 31.0, \"avg_churn_percentage\": 50.0, \"Nombre_Clients\": 10}]}}, {\"mode\": \"vega-lite\"});\n",
              "</script>"
            ],
            "text/plain": [
              "alt.Chart(...)"
            ]
          },
          "execution_count": 28,
          "metadata": {},
          "output_type": "execute_result"
        }
      ],
      "source": [
        "from pyspark.sql.functions import round\n",
        "\n",
        "# Arrondir les valeurs de avg_frequency_login_days et les grouper\n",
        "df_churn = df_spark_clean.withColumn(\"avg_frequency_login_days_rounded\", round(col(\"avg_frequency_login_days\")))\n",
        "df_churn = df_churn.groupBy(\"avg_frequency_login_days_rounded\").agg((avg(\"churn_risk_score\") * 100).alias(\"avg_churn_percentage\"), count(\"churn_risk_score\").alias(\"Nombre_Clients\"))\n",
        "df_churn = df_churn.orderBy('avg_frequency_login_days_rounded')\n",
        "\n",
        "data_pd = df_churn.toPandas()\n",
        "\n",
        "# Histogramme\n",
        "alt.Chart(data_pd).mark_bar().encode(\n",
        "    x=alt.X('avg_frequency_login_days_rounded:Q', axis=alt.Axis(title=\"Moyenne du nombre de jours de connexion\")),\n",
        "    y=alt.Y('avg_churn_percentage:Q', axis=alt.Axis(title=\"Pourcentage de clients avec un risque de désabonnement\")),\n",
        "    tooltip=['avg_frequency_login_days_rounded:Q', 'avg_churn_percentage:Q', 'Nombre_Clients:Q'], # Afficher les informations de chaque point au survol\n",
        "    color='Nombre_Clients:Q'\n",
        ").properties(\n",
        "    width=800, # Taille du graphique\n",
        "    height=400,\n",
        "    title=\"Histogramme du risque de désabonnement selon la fréquence moyenne de connexion\", # Titre du graphique\n",
        ").interactive() # Pouvoir zoomer sur le graphique\n"
      ]
    },
    {
      "cell_type": "markdown",
      "metadata": {
        "id": "7N2zjcZ95t3N"
      },
      "source": [
        "On constate que les clients passant le plus de temps de connexion ont tendance à vouloir résilier leur abonnement probablement pour changer d'opérateur avec un offre plus aléchante dans ce cas.\n",
        "\n",
        "Regardons cette fois-ci les feedbacks"
      ]
    },
    {
      "cell_type": "code",
      "execution_count": null,
      "metadata": {
        "colab": {
          "base_uri": "https://localhost:8080/",
          "height": 842
        },
        "id": "Lzg81v9jXt0t",
        "outputId": "8e495577-da63-4c03-e2ca-8dccc3044cc6"
      },
      "outputs": [
        {
          "name": "stdout",
          "output_type": "stream",
          "text": [
            "+--------------------+--------------------+--------------+\n",
            "|            feedback|avg_churn_percentage|Nombre_Clients|\n",
            "+--------------------+--------------------+--------------+\n",
            "|Poor Product Quality|   64.77750719504095|          4517|\n",
            "|        Poor Website|   62.81010374379793|          4434|\n",
            "|Quality Customer ...|                 0.0|           965|\n",
            "| No reason specified|   63.00182481751825|          4384|\n",
            "|Products always i...|                 0.0|           976|\n",
            "|        Too many ads|   62.35267452402539|          4412|\n",
            "|Poor Customer Ser...|  63.958474385014675|          4431|\n",
            "|    Reasonable Price|                 0.0|           998|\n",
            "|User Friendly Web...|                 0.0|          1004|\n",
            "+--------------------+--------------------+--------------+\n",
            "\n"
          ]
        },
        {
          "data": {
            "text/html": [
              "\n",
              "<div id=\"altair-viz-e4bc46d4a3af48e3816e1eae6fe2aa6d\"></div>\n",
              "<script type=\"text/javascript\">\n",
              "  var VEGA_DEBUG = (typeof VEGA_DEBUG == \"undefined\") ? {} : VEGA_DEBUG;\n",
              "  (function(spec, embedOpt){\n",
              "    let outputDiv = document.currentScript.previousElementSibling;\n",
              "    if (outputDiv.id !== \"altair-viz-e4bc46d4a3af48e3816e1eae6fe2aa6d\") {\n",
              "      outputDiv = document.getElementById(\"altair-viz-e4bc46d4a3af48e3816e1eae6fe2aa6d\");\n",
              "    }\n",
              "    const paths = {\n",
              "      \"vega\": \"https://cdn.jsdelivr.net/npm//vega@5?noext\",\n",
              "      \"vega-lib\": \"https://cdn.jsdelivr.net/npm//vega-lib?noext\",\n",
              "      \"vega-lite\": \"https://cdn.jsdelivr.net/npm//vega-lite@4.17.0?noext\",\n",
              "      \"vega-embed\": \"https://cdn.jsdelivr.net/npm//vega-embed@6?noext\",\n",
              "    };\n",
              "\n",
              "    function maybeLoadScript(lib, version) {\n",
              "      var key = `${lib.replace(\"-\", \"\")}_version`;\n",
              "      return (VEGA_DEBUG[key] == version) ?\n",
              "        Promise.resolve(paths[lib]) :\n",
              "        new Promise(function(resolve, reject) {\n",
              "          var s = document.createElement('script');\n",
              "          document.getElementsByTagName(\"head\")[0].appendChild(s);\n",
              "          s.async = true;\n",
              "          s.onload = () => {\n",
              "            VEGA_DEBUG[key] = version;\n",
              "            return resolve(paths[lib]);\n",
              "          };\n",
              "          s.onerror = () => reject(`Error loading script: ${paths[lib]}`);\n",
              "          s.src = paths[lib];\n",
              "        });\n",
              "    }\n",
              "\n",
              "    function showError(err) {\n",
              "      outputDiv.innerHTML = `<div class=\"error\" style=\"color:red;\">${err}</div>`;\n",
              "      throw err;\n",
              "    }\n",
              "\n",
              "    function displayChart(vegaEmbed) {\n",
              "      vegaEmbed(outputDiv, spec, embedOpt)\n",
              "        .catch(err => showError(`Javascript Error: ${err.message}<br>This usually means there's a typo in your chart specification. See the javascript console for the full traceback.`));\n",
              "    }\n",
              "\n",
              "    if(typeof define === \"function\" && define.amd) {\n",
              "      requirejs.config({paths});\n",
              "      require([\"vega-embed\"], displayChart, err => showError(`Error loading script: ${err.message}`));\n",
              "    } else {\n",
              "      maybeLoadScript(\"vega\", \"5\")\n",
              "        .then(() => maybeLoadScript(\"vega-lite\", \"4.17.0\"))\n",
              "        .then(() => maybeLoadScript(\"vega-embed\", \"6\"))\n",
              "        .catch(showError)\n",
              "        .then(() => displayChart(vegaEmbed));\n",
              "    }\n",
              "  })({\"config\": {\"view\": {\"continuousWidth\": 400, \"continuousHeight\": 300}}, \"data\": {\"name\": \"data-fc03257b54d6d306c3fbb94c2f23272d\"}, \"mark\": \"bar\", \"encoding\": {\"color\": {\"field\": \"feedback\", \"type\": \"nominal\"}, \"tooltip\": [{\"field\": \"feedback\", \"type\": \"nominal\"}, {\"field\": \"avg_churn_percentage\", \"type\": \"quantitative\"}, {\"field\": \"Nombre_Clients\", \"type\": \"quantitative\"}], \"x\": {\"axis\": {\"title\": \"Feedbacks des clients\"}, \"field\": \"feedback\", \"type\": \"nominal\"}, \"y\": {\"axis\": {\"title\": \"Pourcentage de client avec un risque de d\\u00e9sabonnement\"}, \"field\": \"avg_churn_percentage\", \"type\": \"quantitative\"}}, \"height\": 400, \"selection\": {\"selector006\": {\"type\": \"interval\", \"bind\": \"scales\", \"encodings\": [\"x\", \"y\"]}}, \"title\": \"Histogramme du risque de d\\u00e9sabonnement selon les feedbacks des clients\", \"width\": 800, \"$schema\": \"https://vega.github.io/schema/vega-lite/v4.17.0.json\", \"datasets\": {\"data-fc03257b54d6d306c3fbb94c2f23272d\": [{\"feedback\": \"Poor Product Quality\", \"avg_churn_percentage\": 64.77750719504095, \"Nombre_Clients\": 4517}, {\"feedback\": \"Poor Website\", \"avg_churn_percentage\": 62.81010374379793, \"Nombre_Clients\": 4434}, {\"feedback\": \"Quality Customer Care\", \"avg_churn_percentage\": 0.0, \"Nombre_Clients\": 965}, {\"feedback\": \"No reason specified\", \"avg_churn_percentage\": 63.00182481751825, \"Nombre_Clients\": 4384}, {\"feedback\": \"Products always in Stock\", \"avg_churn_percentage\": 0.0, \"Nombre_Clients\": 976}, {\"feedback\": \"Too many ads\", \"avg_churn_percentage\": 62.35267452402539, \"Nombre_Clients\": 4412}, {\"feedback\": \"Poor Customer Service\", \"avg_churn_percentage\": 63.958474385014675, \"Nombre_Clients\": 4431}, {\"feedback\": \"Reasonable Price\", \"avg_churn_percentage\": 0.0, \"Nombre_Clients\": 998}, {\"feedback\": \"User Friendly Website\", \"avg_churn_percentage\": 0.0, \"Nombre_Clients\": 1004}]}}, {\"mode\": \"vega-lite\"});\n",
              "</script>"
            ],
            "text/plain": [
              "alt.Chart(...)"
            ]
          },
          "execution_count": 29,
          "metadata": {},
          "output_type": "execute_result"
        }
      ],
      "source": [
        "df_churn = df_spark_clean.groupBy(\"feedback\").agg((avg(\"churn_risk_score\") * 100).alias(\"avg_churn_percentage\"), count(\"churn_risk_score\").alias(\"Nombre_Clients\"))\n",
        "df_churn.show()\n",
        "data_pd = df_churn.toPandas()\n",
        "\n",
        "# Histogramme\n",
        "alt.Chart(data_pd).mark_bar().encode(\n",
        "    x=alt.X('feedback:N', axis=alt.Axis(title=\"Feedbacks des clients\")),\n",
        "    y=alt.Y('avg_churn_percentage:Q', axis=alt.Axis(title=\"Pourcentage de client avec un risque de désabonnement\")),\n",
        "    tooltip=['feedback:N', 'avg_churn_percentage:Q', 'Nombre_Clients:Q'], # Afin de pouvoir avoir les informations de chaque point lorsque l'on passe notre souris\n",
        "    color='feedback:N'\n",
        ").properties(\n",
        "    width=800, # Taille du graphique\n",
        "    height=400,\n",
        "    title=\"Histogramme du risque de désabonnement selon les feedbacks des clients\", # Titre du graphique\n",
        ").interactive() # Pouvoir zoomer sur le graphique"
      ]
    },
    {
      "cell_type": "markdown",
      "metadata": {
        "id": "J-wBQr3J6Wq0"
      },
      "source": [
        "On constate que les feedbacks positives ne sont jamais prédit comment potentielle désabonnement, d'où la corrélation importante avec notre valeur à prédire\n",
        "\n",
        "Comparons cette fois avec le status d'adhésion"
      ]
    },
    {
      "cell_type": "code",
      "execution_count": null,
      "metadata": {
        "colab": {
          "base_uri": "https://localhost:8080/",
          "height": 776
        },
        "id": "cCLFyCX6fJq1",
        "outputId": "db13cb15-68c1-4c7e-b17e-328931698d68"
      },
      "outputs": [
        {
          "name": "stdout",
          "output_type": "stream",
          "text": [
            "+-------------------+--------------------+--------------+\n",
            "|membership_category|avg_churn_percentage|Nombre_Clients|\n",
            "+-------------------+--------------------+--------------+\n",
            "| Premium Membership|                 0.0|          3173|\n",
            "|    Gold Membership|  37.247973394304715|          4811|\n",
            "|   Basic Membership|   96.80712827176536|          5387|\n",
            "|  Silver Membership|   42.29777256740914|          4265|\n",
            "|Platinum Membership|                 0.0|          3066|\n",
            "|      No Membership|   96.82598265362613|          5419|\n",
            "+-------------------+--------------------+--------------+\n",
            "\n"
          ]
        },
        {
          "data": {
            "text/html": [
              "\n",
              "<div id=\"altair-viz-93f898d6f2b743958cd0e9045732818a\"></div>\n",
              "<script type=\"text/javascript\">\n",
              "  var VEGA_DEBUG = (typeof VEGA_DEBUG == \"undefined\") ? {} : VEGA_DEBUG;\n",
              "  (function(spec, embedOpt){\n",
              "    let outputDiv = document.currentScript.previousElementSibling;\n",
              "    if (outputDiv.id !== \"altair-viz-93f898d6f2b743958cd0e9045732818a\") {\n",
              "      outputDiv = document.getElementById(\"altair-viz-93f898d6f2b743958cd0e9045732818a\");\n",
              "    }\n",
              "    const paths = {\n",
              "      \"vega\": \"https://cdn.jsdelivr.net/npm//vega@5?noext\",\n",
              "      \"vega-lib\": \"https://cdn.jsdelivr.net/npm//vega-lib?noext\",\n",
              "      \"vega-lite\": \"https://cdn.jsdelivr.net/npm//vega-lite@4.17.0?noext\",\n",
              "      \"vega-embed\": \"https://cdn.jsdelivr.net/npm//vega-embed@6?noext\",\n",
              "    };\n",
              "\n",
              "    function maybeLoadScript(lib, version) {\n",
              "      var key = `${lib.replace(\"-\", \"\")}_version`;\n",
              "      return (VEGA_DEBUG[key] == version) ?\n",
              "        Promise.resolve(paths[lib]) :\n",
              "        new Promise(function(resolve, reject) {\n",
              "          var s = document.createElement('script');\n",
              "          document.getElementsByTagName(\"head\")[0].appendChild(s);\n",
              "          s.async = true;\n",
              "          s.onload = () => {\n",
              "            VEGA_DEBUG[key] = version;\n",
              "            return resolve(paths[lib]);\n",
              "          };\n",
              "          s.onerror = () => reject(`Error loading script: ${paths[lib]}`);\n",
              "          s.src = paths[lib];\n",
              "        });\n",
              "    }\n",
              "\n",
              "    function showError(err) {\n",
              "      outputDiv.innerHTML = `<div class=\"error\" style=\"color:red;\">${err}</div>`;\n",
              "      throw err;\n",
              "    }\n",
              "\n",
              "    function displayChart(vegaEmbed) {\n",
              "      vegaEmbed(outputDiv, spec, embedOpt)\n",
              "        .catch(err => showError(`Javascript Error: ${err.message}<br>This usually means there's a typo in your chart specification. See the javascript console for the full traceback.`));\n",
              "    }\n",
              "\n",
              "    if(typeof define === \"function\" && define.amd) {\n",
              "      requirejs.config({paths});\n",
              "      require([\"vega-embed\"], displayChart, err => showError(`Error loading script: ${err.message}`));\n",
              "    } else {\n",
              "      maybeLoadScript(\"vega\", \"5\")\n",
              "        .then(() => maybeLoadScript(\"vega-lite\", \"4.17.0\"))\n",
              "        .then(() => maybeLoadScript(\"vega-embed\", \"6\"))\n",
              "        .catch(showError)\n",
              "        .then(() => displayChart(vegaEmbed));\n",
              "    }\n",
              "  })({\"config\": {\"view\": {\"continuousWidth\": 400, \"continuousHeight\": 300}}, \"data\": {\"name\": \"data-f7713598f8f7bbb578e14d44644c2fd8\"}, \"mark\": \"bar\", \"encoding\": {\"color\": {\"field\": \"membership_category\", \"type\": \"nominal\"}, \"tooltip\": [{\"field\": \"membership_category\", \"type\": \"nominal\"}, {\"field\": \"avg_churn_percentage\", \"type\": \"quantitative\"}, {\"field\": \"Nombre_Clients\", \"type\": \"quantitative\"}], \"x\": {\"axis\": {\"title\": \"Cat\\u00e9gorie d'adh\\u00e9sion des clients\"}, \"field\": \"membership_category\", \"sort\": [\"No Membership\", \"Basic Membership\", \"Silver Membership\", \"Gold Membership\", \"Premium Membership\", \"Platinum Membership\"], \"type\": \"nominal\"}, \"y\": {\"axis\": {\"title\": \"Pourcentage de client avec un risque de d\\u00e9sabonnement\"}, \"field\": \"avg_churn_percentage\", \"type\": \"quantitative\"}}, \"height\": 400, \"selection\": {\"selector007\": {\"type\": \"interval\", \"bind\": \"scales\", \"encodings\": [\"x\", \"y\"]}}, \"title\": \"Histogramme du risque de d\\u00e9sabonnement selon les cat\\u00e9gories d'adh\\u00e9sion des clients\", \"width\": 800, \"$schema\": \"https://vega.github.io/schema/vega-lite/v4.17.0.json\", \"datasets\": {\"data-f7713598f8f7bbb578e14d44644c2fd8\": [{\"membership_category\": \"Premium Membership\", \"avg_churn_percentage\": 0.0, \"Nombre_Clients\": 3173}, {\"membership_category\": \"Gold Membership\", \"avg_churn_percentage\": 37.247973394304715, \"Nombre_Clients\": 4811}, {\"membership_category\": \"Basic Membership\", \"avg_churn_percentage\": 96.80712827176536, \"Nombre_Clients\": 5387}, {\"membership_category\": \"Silver Membership\", \"avg_churn_percentage\": 42.29777256740914, \"Nombre_Clients\": 4265}, {\"membership_category\": \"Platinum Membership\", \"avg_churn_percentage\": 0.0, \"Nombre_Clients\": 3066}, {\"membership_category\": \"No Membership\", \"avg_churn_percentage\": 96.82598265362613, \"Nombre_Clients\": 5419}]}}, {\"mode\": \"vega-lite\"});\n",
              "</script>"
            ],
            "text/plain": [
              "alt.Chart(...)"
            ]
          },
          "execution_count": 30,
          "metadata": {},
          "output_type": "execute_result"
        }
      ],
      "source": [
        "df_churn = df_spark_clean.groupBy(\"membership_category\").agg((avg(\"churn_risk_score\") * 100).alias(\"avg_churn_percentage\"), count(\"churn_risk_score\").alias(\"Nombre_Clients\"))\n",
        "df_churn.show()\n",
        "data_pd = df_churn.toPandas()\n",
        "\n",
        "# Définir l'ordre des mois\n",
        "ordre = [\"No Membership\", \"Basic Membership\", \"Silver Membership\", \"Gold Membership\", \"Premium Membership\", \"Platinum Membership\"]\n",
        "\n",
        "# Histogramme\n",
        "alt.Chart(data_pd).mark_bar().encode(\n",
        "    x=alt.X('membership_category:N', sort=ordre, axis=alt.Axis(title=\"Catégorie d'adhésion des clients\")),\n",
        "    y=alt.Y('avg_churn_percentage:Q', axis=alt.Axis(title=\"Pourcentage de client avec un risque de désabonnement\")),\n",
        "    tooltip=['membership_category:N', 'avg_churn_percentage:Q', 'Nombre_Clients:Q'], # Afin de pouvoir avoir les informations de chaque point lorsque l'on passe notre souris\n",
        "    color='membership_category:N'\n",
        ").properties(\n",
        "    width=800, # Taille du graphique\n",
        "    height=400,\n",
        "    title=\"Histogramme du risque de désabonnement selon les catégories d'adhésion des clients\", # Titre du graphique\n",
        ").interactive() # Pouvoir zoomer sur le graphique"
      ]
    },
    {
      "cell_type": "markdown",
      "metadata": {
        "id": "yzY8oaT26x1-"
      },
      "source": [
        "On constate que plus l'adhésion des clients est importante plus ils ont tendances à rester abonné."
      ]
    },
    {
      "cell_type": "code",
      "execution_count": null,
      "metadata": {
        "colab": {
          "base_uri": "https://localhost:8080/",
          "height": 485
        },
        "id": "wWdhprVXg6vI",
        "outputId": "8574e4cd-e68f-421e-d636-658008acf28d"
      },
      "outputs": [
        {
          "data": {
            "text/html": [
              "\n",
              "<div id=\"altair-viz-82c58c1eeeff43fc818971ba87a0041c\"></div>\n",
              "<script type=\"text/javascript\">\n",
              "  var VEGA_DEBUG = (typeof VEGA_DEBUG == \"undefined\") ? {} : VEGA_DEBUG;\n",
              "  (function(spec, embedOpt){\n",
              "    let outputDiv = document.currentScript.previousElementSibling;\n",
              "    if (outputDiv.id !== \"altair-viz-82c58c1eeeff43fc818971ba87a0041c\") {\n",
              "      outputDiv = document.getElementById(\"altair-viz-82c58c1eeeff43fc818971ba87a0041c\");\n",
              "    }\n",
              "    const paths = {\n",
              "      \"vega\": \"https://cdn.jsdelivr.net/npm//vega@5?noext\",\n",
              "      \"vega-lib\": \"https://cdn.jsdelivr.net/npm//vega-lib?noext\",\n",
              "      \"vega-lite\": \"https://cdn.jsdelivr.net/npm//vega-lite@4.17.0?noext\",\n",
              "      \"vega-embed\": \"https://cdn.jsdelivr.net/npm//vega-embed@6?noext\",\n",
              "    };\n",
              "\n",
              "    function maybeLoadScript(lib, version) {\n",
              "      var key = `${lib.replace(\"-\", \"\")}_version`;\n",
              "      return (VEGA_DEBUG[key] == version) ?\n",
              "        Promise.resolve(paths[lib]) :\n",
              "        new Promise(function(resolve, reject) {\n",
              "          var s = document.createElement('script');\n",
              "          document.getElementsByTagName(\"head\")[0].appendChild(s);\n",
              "          s.async = true;\n",
              "          s.onload = () => {\n",
              "            VEGA_DEBUG[key] = version;\n",
              "            return resolve(paths[lib]);\n",
              "          };\n",
              "          s.onerror = () => reject(`Error loading script: ${paths[lib]}`);\n",
              "          s.src = paths[lib];\n",
              "        });\n",
              "    }\n",
              "\n",
              "    function showError(err) {\n",
              "      outputDiv.innerHTML = `<div class=\"error\" style=\"color:red;\">${err}</div>`;\n",
              "      throw err;\n",
              "    }\n",
              "\n",
              "    function displayChart(vegaEmbed) {\n",
              "      vegaEmbed(outputDiv, spec, embedOpt)\n",
              "        .catch(err => showError(`Javascript Error: ${err.message}<br>This usually means there's a typo in your chart specification. See the javascript console for the full traceback.`));\n",
              "    }\n",
              "\n",
              "    if(typeof define === \"function\" && define.amd) {\n",
              "      requirejs.config({paths});\n",
              "      require([\"vega-embed\"], displayChart, err => showError(`Error loading script: ${err.message}`));\n",
              "    } else {\n",
              "      maybeLoadScript(\"vega\", \"5\")\n",
              "        .then(() => maybeLoadScript(\"vega-lite\", \"4.17.0\"))\n",
              "        .then(() => maybeLoadScript(\"vega-embed\", \"6\"))\n",
              "        .catch(showError)\n",
              "        .then(() => displayChart(vegaEmbed));\n",
              "    }\n",
              "  })({\"config\": {\"view\": {\"continuousWidth\": 400, \"continuousHeight\": 300}}, \"data\": {\"name\": \"data-7a38c26503bd0a473f3e7b76afa38bd4\"}, \"mark\": \"bar\", \"encoding\": {\"color\": {\"field\": \"Nombre_Clients\", \"type\": \"quantitative\"}, \"tooltip\": [{\"field\": \"points_in_wallet_rounded\", \"type\": \"quantitative\"}, {\"field\": \"avg_churn_percentage\", \"type\": \"quantitative\"}, {\"field\": \"Nombre_Clients\", \"type\": \"quantitative\"}], \"x\": {\"axis\": {\"title\": \"Points dans son portefeuille\"}, \"field\": \"points_in_wallet_rounded\", \"type\": \"quantitative\"}, \"y\": {\"axis\": {\"title\": \"Pourcentage de clients avec un risque de d\\u00e9sabonnement\"}, \"field\": \"avg_churn_percentage\", \"type\": \"quantitative\"}}, \"height\": 400, \"selection\": {\"selector008\": {\"type\": \"interval\", \"bind\": \"scales\", \"encodings\": [\"x\", \"y\"]}}, \"title\": \"Histogramme du risque de d\\u00e9sabonnement selon le nombre de point dans le portefeuille des clients\", \"width\": 800, \"$schema\": \"https://vega.github.io/schema/vega-lite/v4.17.0.json\", \"datasets\": {\"data-7a38c26503bd0a473f3e7b76afa38bd4\": [{\"points_in_wallet_rounded\": 0.0, \"avg_churn_percentage\": 100.0, \"Nombre_Clients\": 7}, {\"points_in_wallet_rounded\": 25.0, \"avg_churn_percentage\": 100.0, \"Nombre_Clients\": 23}, {\"points_in_wallet_rounded\": 50.0, \"avg_churn_percentage\": 88.46153846153845, \"Nombre_Clients\": 26}, {\"points_in_wallet_rounded\": 75.0, \"avg_churn_percentage\": 94.54545454545455, \"Nombre_Clients\": 55}, {\"points_in_wallet_rounded\": 100.0, \"avg_churn_percentage\": 93.61702127659575, \"Nombre_Clients\": 47}, {\"points_in_wallet_rounded\": 125.0, \"avg_churn_percentage\": 84.61538461538461, \"Nombre_Clients\": 65}, {\"points_in_wallet_rounded\": 150.0, \"avg_churn_percentage\": 83.33333333333334, \"Nombre_Clients\": 84}, {\"points_in_wallet_rounded\": 175.0, \"avg_churn_percentage\": 71.73913043478261, \"Nombre_Clients\": 92}, {\"points_in_wallet_rounded\": 200.0, \"avg_churn_percentage\": 68.75, \"Nombre_Clients\": 112}, {\"points_in_wallet_rounded\": 225.0, \"avg_churn_percentage\": 63.28125, \"Nombre_Clients\": 128}, {\"points_in_wallet_rounded\": 250.0, \"avg_churn_percentage\": 63.76811594202898, \"Nombre_Clients\": 138}, {\"points_in_wallet_rounded\": 275.0, \"avg_churn_percentage\": 64.38356164383562, \"Nombre_Clients\": 146}, {\"points_in_wallet_rounded\": 300.0, \"avg_churn_percentage\": 64.04494382022472, \"Nombre_Clients\": 178}, {\"points_in_wallet_rounded\": 325.0, \"avg_churn_percentage\": 58.27338129496403, \"Nombre_Clients\": 139}, {\"points_in_wallet_rounded\": 350.0, \"avg_churn_percentage\": 52.94117647058824, \"Nombre_Clients\": 153}, {\"points_in_wallet_rounded\": 375.0, \"avg_churn_percentage\": 54.54545454545454, \"Nombre_Clients\": 165}, {\"points_in_wallet_rounded\": 400.0, \"avg_churn_percentage\": 34.01360544217687, \"Nombre_Clients\": 147}, {\"points_in_wallet_rounded\": 425.0, \"avg_churn_percentage\": 31.666666666666664, \"Nombre_Clients\": 120}, {\"points_in_wallet_rounded\": 450.0, \"avg_churn_percentage\": 21.138211382113823, \"Nombre_Clients\": 123}, {\"points_in_wallet_rounded\": 475.0, \"avg_churn_percentage\": 8.695652173913043, \"Nombre_Clients\": 92}, {\"points_in_wallet_rounded\": 500.0, \"avg_churn_percentage\": 83.5117773019272, \"Nombre_Clients\": 467}, {\"points_in_wallet_rounded\": 525.0, \"avg_churn_percentage\": 90.82687338501292, \"Nombre_Clients\": 774}, {\"points_in_wallet_rounded\": 550.0, \"avg_churn_percentage\": 93.94703656998739, \"Nombre_Clients\": 793}, {\"points_in_wallet_rounded\": 575.0, \"avg_churn_percentage\": 96.18528610354224, \"Nombre_Clients\": 734}, {\"points_in_wallet_rounded\": 600.0, \"avg_churn_percentage\": 96.88686408504175, \"Nombre_Clients\": 1317}, {\"points_in_wallet_rounded\": 625.0, \"avg_churn_percentage\": 96.2889658584859, \"Nombre_Clients\": 2021}, {\"points_in_wallet_rounded\": 650.0, \"avg_churn_percentage\": 96.23682890115404, \"Nombre_Clients\": 1993}, {\"points_in_wallet_rounded\": 675.0, \"avg_churn_percentage\": 96.21289662231321, \"Nombre_Clients\": 1954}, {\"points_in_wallet_rounded\": 700.0, \"avg_churn_percentage\": 61.327231121281464, \"Nombre_Clients\": 2622}, {\"points_in_wallet_rounded\": 725.0, \"avg_churn_percentage\": 16.178861788617883, \"Nombre_Clients\": 2460}, {\"points_in_wallet_rounded\": 750.0, \"avg_churn_percentage\": 0.3605227579990987, \"Nombre_Clients\": 2219}, {\"points_in_wallet_rounded\": 775.0, \"avg_churn_percentage\": 0.6239600665557404, \"Nombre_Clients\": 2404}, {\"points_in_wallet_rounded\": 800.0, \"avg_churn_percentage\": 2.1075581395348837, \"Nombre_Clients\": 1376}, {\"points_in_wallet_rounded\": 825.0, \"avg_churn_percentage\": 6.791569086651054, \"Nombre_Clients\": 427}, {\"points_in_wallet_rounded\": 850.0, \"avg_churn_percentage\": 15.753424657534246, \"Nombre_Clients\": 292}, {\"points_in_wallet_rounded\": 875.0, \"avg_churn_percentage\": 91.52542372881356, \"Nombre_Clients\": 59}, {\"points_in_wallet_rounded\": 900.0, \"avg_churn_percentage\": 90.0990099009901, \"Nombre_Clients\": 101}, {\"points_in_wallet_rounded\": 925.0, \"avg_churn_percentage\": 94.3820224719101, \"Nombre_Clients\": 89}, {\"points_in_wallet_rounded\": 950.0, \"avg_churn_percentage\": 83.33333333333334, \"Nombre_Clients\": 138}, {\"points_in_wallet_rounded\": 975.0, \"avg_churn_percentage\": 70.07299270072993, \"Nombre_Clients\": 137}, {\"points_in_wallet_rounded\": 1000.0, \"avg_churn_percentage\": 66.89655172413794, \"Nombre_Clients\": 145}, {\"points_in_wallet_rounded\": 1025.0, \"avg_churn_percentage\": 52.72727272727272, \"Nombre_Clients\": 165}, {\"points_in_wallet_rounded\": 1050.0, \"avg_churn_percentage\": 53.714285714285715, \"Nombre_Clients\": 175}, {\"points_in_wallet_rounded\": 1075.0, \"avg_churn_percentage\": 48.08743169398907, \"Nombre_Clients\": 183}, {\"points_in_wallet_rounded\": 1100.0, \"avg_churn_percentage\": 48.4472049689441, \"Nombre_Clients\": 161}, {\"points_in_wallet_rounded\": 1125.0, \"avg_churn_percentage\": 41.221374045801525, \"Nombre_Clients\": 131}, {\"points_in_wallet_rounded\": 1150.0, \"avg_churn_percentage\": 47.78761061946903, \"Nombre_Clients\": 113}, {\"points_in_wallet_rounded\": 1175.0, \"avg_churn_percentage\": 44.0, \"Nombre_Clients\": 125}, {\"points_in_wallet_rounded\": 1200.0, \"avg_churn_percentage\": 35.04273504273504, \"Nombre_Clients\": 117}, {\"points_in_wallet_rounded\": 1225.0, \"avg_churn_percentage\": 31.506849315068493, \"Nombre_Clients\": 73}, {\"points_in_wallet_rounded\": 1250.0, \"avg_churn_percentage\": 28.947368421052634, \"Nombre_Clients\": 76}, {\"points_in_wallet_rounded\": 1275.0, \"avg_churn_percentage\": 12.280701754385964, \"Nombre_Clients\": 57}, {\"points_in_wallet_rounded\": 1300.0, \"avg_churn_percentage\": 10.81081081081081, \"Nombre_Clients\": 37}, {\"points_in_wallet_rounded\": 1325.0, \"avg_churn_percentage\": 4.166666666666666, \"Nombre_Clients\": 24}, {\"points_in_wallet_rounded\": 1350.0, \"avg_churn_percentage\": 8.0, \"Nombre_Clients\": 25}, {\"points_in_wallet_rounded\": 1375.0, \"avg_churn_percentage\": 28.57142857142857, \"Nombre_Clients\": 14}, {\"points_in_wallet_rounded\": 1400.0, \"avg_churn_percentage\": 55.55555555555556, \"Nombre_Clients\": 9}, {\"points_in_wallet_rounded\": 1425.0, \"avg_churn_percentage\": 60.0, \"Nombre_Clients\": 10}, {\"points_in_wallet_rounded\": 1450.0, \"avg_churn_percentage\": 62.5, \"Nombre_Clients\": 8}, {\"points_in_wallet_rounded\": 1475.0, \"avg_churn_percentage\": 63.63636363636363, \"Nombre_Clients\": 11}, {\"points_in_wallet_rounded\": 1500.0, \"avg_churn_percentage\": 33.33333333333333, \"Nombre_Clients\": 3}, {\"points_in_wallet_rounded\": 1525.0, \"avg_churn_percentage\": 40.0, \"Nombre_Clients\": 10}, {\"points_in_wallet_rounded\": 1550.0, \"avg_churn_percentage\": 66.66666666666666, \"Nombre_Clients\": 3}, {\"points_in_wallet_rounded\": 1575.0, \"avg_churn_percentage\": 40.0, \"Nombre_Clients\": 5}, {\"points_in_wallet_rounded\": 1600.0, \"avg_churn_percentage\": 100.0, \"Nombre_Clients\": 2}, {\"points_in_wallet_rounded\": 1625.0, \"avg_churn_percentage\": 0.0, \"Nombre_Clients\": 3}, {\"points_in_wallet_rounded\": 1650.0, \"avg_churn_percentage\": 40.0, \"Nombre_Clients\": 5}, {\"points_in_wallet_rounded\": 1675.0, \"avg_churn_percentage\": 20.0, \"Nombre_Clients\": 5}, {\"points_in_wallet_rounded\": 1700.0, \"avg_churn_percentage\": 0.0, \"Nombre_Clients\": 2}, {\"points_in_wallet_rounded\": 1725.0, \"avg_churn_percentage\": 100.0, \"Nombre_Clients\": 2}, {\"points_in_wallet_rounded\": 1750.0, \"avg_churn_percentage\": 50.0, \"Nombre_Clients\": 2}, {\"points_in_wallet_rounded\": 1775.0, \"avg_churn_percentage\": 100.0, \"Nombre_Clients\": 1}, {\"points_in_wallet_rounded\": 1825.0, \"avg_churn_percentage\": 100.0, \"Nombre_Clients\": 1}, {\"points_in_wallet_rounded\": 2075.0, \"avg_churn_percentage\": 0.0, \"Nombre_Clients\": 1}]}}, {\"mode\": \"vega-lite\"});\n",
              "</script>"
            ],
            "text/plain": [
              "alt.Chart(...)"
            ]
          },
          "execution_count": 31,
          "metadata": {},
          "output_type": "execute_result"
        }
      ],
      "source": [
        "df_churn = df_spark_clean.withColumn(\"points_in_wallet_rounded\", round(col(\"points_in_wallet\")/25)*25)\n",
        "df_churn = df_churn.groupBy(\"points_in_wallet_rounded\").agg((avg(\"churn_risk_score\") * 100).alias(\"avg_churn_percentage\"), count(\"churn_risk_score\").alias(\"Nombre_Clients\"))\n",
        "df_churn = df_churn.orderBy('points_in_wallet_rounded')\n",
        "\n",
        "data_pd = df_churn.toPandas()\n",
        "\n",
        "# Histogramme\n",
        "alt.Chart(data_pd).mark_bar().encode(\n",
        "    x=alt.X('points_in_wallet_rounded:Q', axis=alt.Axis(title=\"Points dans son portefeuille\")),\n",
        "    y=alt.Y('avg_churn_percentage:Q', axis=alt.Axis(title=\"Pourcentage de clients avec un risque de désabonnement\")),\n",
        "    tooltip=['points_in_wallet_rounded:Q', 'avg_churn_percentage:Q', 'Nombre_Clients:Q'], # Afficher les informations de chaque point au survol\n",
        "    color='Nombre_Clients:Q'\n",
        ").properties(\n",
        "    width=800, # Taille du graphique\n",
        "    height=400,\n",
        "    title=\"Histogramme du risque de désabonnement selon le nombre de point dans le portefeuille des clients\", # Titre du graphique\n",
        ").interactive() # Pouvoir zoomer sur le graphique\n"
      ]
    },
    {
      "cell_type": "markdown",
      "metadata": {
        "id": "cTRFKUIb7P6f"
      },
      "source": [
        "On constate que nos valeurs sont fortement concentré entre 500 et 820. On remarque alors qu'au début nos clients ont un très grande tendance à se désabonner et pas la suite à rester fidèle."
      ]
    },
    {
      "cell_type": "markdown",
      "metadata": {
        "id": "jSw7XY4faTx3"
      },
      "source": [
        "# Description de problème sous forme ML"
      ]
    },
    {
      "cell_type": "markdown",
      "metadata": {
        "id": "iIDfTh_HFCMk"
      },
      "source": [
        "Après avoir analyser nos données, on peut maintenant construire notre modèle de prédiction"
      ]
    },
    {
      "cell_type": "markdown",
      "metadata": {
        "id": "HOx3R6C8HtyL"
      },
      "source": [
        "Dans un premier temps nous allons importer les bibliothèques nécessaires"
      ]
    },
    {
      "cell_type": "code",
      "execution_count": null,
      "metadata": {
        "id": "bRLfEfzlE_-p"
      },
      "outputs": [],
      "source": [
        "from pyspark.sql.functions import col, when\n",
        "from pyspark.sql.types import DoubleType\n",
        "from pyspark.ml.feature import VectorAssembler, StringIndexer, StandardScaler, OneHotEncoder\n",
        "from pyspark.ml import Pipeline\n",
        "from pyspark.ml.classification import (LogisticRegression, RandomForestClassifier,\n",
        "                                       GBTClassifier, DecisionTreeClassifier,\n",
        "                                       NaiveBayes, LinearSVC)\n",
        "from pyspark.ml.tuning import ParamGridBuilder, CrossValidator\n",
        "from pyspark.ml.evaluation import BinaryClassificationEvaluator, MulticlassClassificationEvaluator\n",
        "import pandas as pd\n",
        "import matplotlib.pyplot as plt\n",
        "from sklearn.metrics import roc_curve, auc\n",
        "import numpy as np"
      ]
    },
    {
      "cell_type": "markdown",
      "metadata": {
        "id": "mw7QfgFpJhWA"
      },
      "source": [
        "Nous allons préparer et transformer nos données pour le Modèle"
      ]
    },
    {
      "cell_type": "code",
      "execution_count": null,
      "metadata": {
        "id": "4ty5o35bJUJl"
      },
      "outputs": [],
      "source": [
        "# Converti les valeurs de la colonne en type double\n",
        "df_spark_clean = df_spark_clean.withColumn(\"avg_frequency_login_days\",col(\"avg_frequency_login_days\").cast(DoubleType()))\n",
        "\n",
        "# Indexation et Encodage des Colonnes de Type String\n",
        "string_cols = [col_name for col_name, dtype in df_spark_clean.dtypes if dtype == \"string\"]\n",
        "indexers = [StringIndexer(inputCol=col, outputCol=col+\"_index\", handleInvalid=\"skip\") for col in string_cols]\n",
        "encoders = [OneHotEncoder(inputCol=indexer.getOutputCol(), outputCol=indexer.getOutputCol() + \"_ohe\") for indexer in indexers]\n",
        "pipeline_encoder = Pipeline(stages=indexers + encoders)\n",
        "df_spark_encoded = pipeline_encoder.fit(df_spark_clean).transform(df_spark_clean)\n",
        "\n",
        "# selection des colonnes\n",
        "feature_columns = [col + \"_index_ohe\" for col in string_cols if col + \"_index_ohe\" in df_spark_encoded.columns] + [\n",
        "    \"age\",\n",
        "    \"avg_frequency_login_days\",\n",
        "    \"avg_time_spent\",\n",
        "    \"avg_transaction_value\",\n",
        "    \"days_since_last_login\",\n",
        "    \"points_in_wallet\",\n",
        "    \"month_joining_date\"\n",
        "]\n",
        "\n",
        "# Assembler les colonnes de caractéristiques en un vecteur\n",
        "assembler = VectorAssembler(inputCols=feature_columns, outputCol=\"ass_features\")\n",
        "df_spark_assembled = assembler.transform(df_spark_encoded)\n",
        "# Normaliser les caractéristiques\n",
        "scaler = StandardScaler(inputCol=\"ass_features\", outputCol=\"scaled_features\")\n",
        "df_spark_scaled = scaler.fit(df_spark_assembled).transform(df_spark_assembled)\n"
      ]
    },
    {
      "cell_type": "markdown",
      "metadata": {
        "id": "Hm23hgzIMd0p"
      },
      "source": [
        "On peut maintenant séparer notre jeu de données en 3 : TrainingSet, ValidationSet et TestSet"
      ]
    },
    {
      "cell_type": "code",
      "execution_count": null,
      "metadata": {
        "id": "e2FSwrAVM2S1"
      },
      "outputs": [],
      "source": [
        "# entraînement, de validation et de test (75%, 15%, 10%)\n",
        "train_data, val_data, test_data = df_spark_scaled.randomSplit([0.75, 0.15, 0.10], seed=42)\n",
        "\n",
        "# Sélectionner les colonnes de labels et de caractéristiques pour l'entraînement\n",
        "train_data_final = train_data.select(col(\"scaled_features\"), col(\"churn_risk_score\").alias(\"label\"))\n",
        "val_data_final = val_data.select(col(\"scaled_features\"), col(\"churn_risk_score\").alias(\"label\"))"
      ]
    },
    {
      "cell_type": "markdown",
      "metadata": {
        "id": "dwAFE5tsNRlt"
      },
      "source": [
        "On definit ici les différents modèles que nous allons essayer et on fait varier leurs hyperparamètres à l'aide des Grilles"
      ]
    },
    {
      "cell_type": "code",
      "execution_count": null,
      "metadata": {
        "id": "9XSAlMsyNoEK"
      },
      "outputs": [],
      "source": [
        "models = {\n",
        "    \"LogisticRegression\": LogisticRegression(featuresCol='scaled_features', labelCol='label'),\n",
        "    \"RandomForest\": RandomForestClassifier(featuresCol='scaled_features', labelCol='label'),\n",
        "    \"GradientBoostedTrees\": GBTClassifier(featuresCol='scaled_features', labelCol='label'),\n",
        "    \"DecisionTree\": DecisionTreeClassifier(featuresCol='scaled_features', labelCol='label'),\n",
        "    \"NaiveBayes\": NaiveBayes(featuresCol='scaled_features', labelCol='label'),\n",
        "    \"LinearSVC\": LinearSVC(featuresCol='scaled_features', labelCol='label')\n",
        "}\n",
        "\n",
        "# grilles de paramètres pour chaque modèle\n",
        "param_grids = {\n",
        "    \"LogisticRegression\": ParamGridBuilder().addGrid(models[\"LogisticRegression\"].regParam, [0.1, 0.01]).addGrid(models[\"LogisticRegression\"].elasticNetParam, [0.0, 0.5, 1.0]).build(),\n",
        "    \"RandomForest\": ParamGridBuilder().addGrid(models[\"RandomForest\"].numTrees, [10, 20, 30]).addGrid(models[\"RandomForest\"].maxDepth, [5, 10, 15]).build(),\n",
        "    \"GradientBoostedTrees\": ParamGridBuilder().addGrid(models[\"GradientBoostedTrees\"].maxIter, [10, 20, 30]).addGrid(models[\"GradientBoostedTrees\"].maxDepth, [5, 10, 15]).build(),\n",
        "    \"DecisionTree\": ParamGridBuilder().addGrid(models[\"DecisionTree\"].maxDepth, [5, 10, 15]).addGrid(models[\"DecisionTree\"].maxBins, [32, 64]).build(),\n",
        "    \"NaiveBayes\": ParamGridBuilder().addGrid(models[\"NaiveBayes\"].smoothing, [0.0, 1.0, 10.0]).build(),\n",
        "    \"LinearSVC\": ParamGridBuilder().addGrid(models[\"LinearSVC\"].regParam, [0.1, 0.01]).build()\n",
        "}"
      ]
    },
    {
      "cell_type": "markdown",
      "metadata": {
        "id": "eCjiL0TpOLQn"
      },
      "source": [
        "On crée des evaluateurs qui permettrons de calculer les métriques de nos modèles"
      ]
    },
    {
      "cell_type": "code",
      "execution_count": null,
      "metadata": {
        "id": "MKrsR3B-ORnr"
      },
      "outputs": [],
      "source": [
        "# Évaluateurs pour les métriques\n",
        "evaluator = BinaryClassificationEvaluator(rawPredictionCol=\"rawPrediction\", labelCol=\"label\")\n",
        "evaluator_accuracy = MulticlassClassificationEvaluator(labelCol=\"label\", predictionCol=\"prediction\", metricName=\"accuracy\")\n",
        "evaluator_precision = MulticlassClassificationEvaluator(labelCol=\"label\", predictionCol=\"prediction\", metricName=\"weightedPrecision\")\n",
        "evaluator_recall = MulticlassClassificationEvaluator(labelCol=\"label\", predictionCol=\"prediction\", metricName=\"weightedRecall\")\n",
        "evaluator_f1 = MulticlassClassificationEvaluator(labelCol=\"label\", predictionCol=\"prediction\", metricName=\"f1\")"
      ]
    },
    {
      "cell_type": "markdown",
      "metadata": {
        "id": "X7Nd7D3lOZO4"
      },
      "source": [
        "On va done entrainer et calculer les performances de nos modèles"
      ]
    },
    {
      "cell_type": "code",
      "execution_count": null,
      "metadata": {
        "colab": {
          "base_uri": "https://localhost:8080/"
        },
        "id": "1wE527S9vyKL",
        "outputId": "f4daa4f0-1dbb-4c06-f0a9-8fe023f04547"
      },
      "outputs": [
        {
          "name": "stdout",
          "output_type": "stream",
          "text": [
            "Training LogisticRegression...\n",
            "Training RandomForest...\n",
            "Training GradientBoostedTrees...\n",
            "Training DecisionTree...\n",
            "Training NaiveBayes...\n",
            "Training LinearSVC...\n"
          ]
        }
      ],
      "source": [
        "results = []\n",
        "\n",
        "for model_name, model in models.items():\n",
        "    print(f\"Training {model_name}...\")\n",
        "    param_grid = param_grids[model_name]\n",
        "    crossval = CrossValidator(estimator=model, estimatorParamMaps=param_grid, evaluator=evaluator, numFolds=5)\n",
        "\n",
        "    #TRaining\n",
        "    cv_model = crossval.fit(train_data_final)\n",
        "    # prédictions sur l'ensemble de validation\n",
        "    val_predictions = cv_model.transform(val_data_final)\n",
        "\n",
        "    # Évaluer\n",
        "    accuracy = evaluator_accuracy.evaluate(val_predictions)\n",
        "    precision = evaluator_precision.evaluate(val_predictions)\n",
        "    recall = evaluator_recall.evaluate(val_predictions)\n",
        "    f1 = evaluator_f1.evaluate(val_predictions)\n",
        "    roc_auc = evaluator.evaluate(val_predictions)\n",
        "\n",
        "    # résultats\n",
        "    results.append({\n",
        "        \"Model\": model_name,\n",
        "        \"BestModel\": cv_model.bestModel,\n",
        "        \"Predictions\": val_predictions,\n",
        "        \"Accuracy\": accuracy,\n",
        "        \"Precision\": precision,\n",
        "        \"Recall\": recall,\n",
        "        \"F1 Score\": f1,\n",
        "        \"ROC AUC\": roc_auc,\n",
        "        \"Moyenne Cross Validation\": np.mean(cv_model.avgMetrics),\n",
        "        \"Ecart type\": np.std(cv_model.avgMetrics)\n",
        "    })\n"
      ]
    },
    {
      "cell_type": "markdown",
      "metadata": {
        "id": "4vAgiYTXOzA_"
      },
      "source": [
        "On compare donc nos résultats"
      ]
    },
    {
      "cell_type": "code",
      "execution_count": null,
      "metadata": {
        "colab": {
          "base_uri": "https://localhost:8080/"
        },
        "id": "0B3AtEY4O4LH",
        "outputId": "4bbf5390-e2ac-4369-c182-6ebcf4eabc33"
      },
      "outputs": [
        {
          "name": "stdout",
          "output_type": "stream",
          "text": [
            "                  Model  Accuracy  Precision    Recall  F1 Score   ROC AUC  \\\n",
            "0    LogisticRegression  0.845081   0.862164  0.845081  0.844851  0.956112   \n",
            "1          RandomForest  0.935451   0.935887  0.935451  0.935512  0.975889   \n",
            "2  GradientBoostedTrees  0.939324   0.940108  0.939324  0.939400  0.977154   \n",
            "3          DecisionTree  0.926414   0.926471  0.926414  0.926337  0.959165   \n",
            "4            NaiveBayes  0.782856   0.782593  0.782856  0.782288  0.699251   \n",
            "5             LinearSVC  0.848180   0.875806  0.848180  0.847330  0.948130   \n",
            "\n",
            "   Moyenne Cross Validation  Ecart type  \n",
            "0                  0.947996    0.011817  \n",
            "1                  0.967596    0.005114  \n",
            "2                  0.968434    0.007340  \n",
            "3                  0.890574    0.088222  \n",
            "4                  0.691863    0.006341  \n",
            "5                  0.939414    0.009945  \n"
          ]
        }
      ],
      "source": [
        "results_df = pd.DataFrame([{\n",
        "    \"Model\": result[\"Model\"],\n",
        "    \"Accuracy\": result[\"Accuracy\"],\n",
        "    \"Precision\": result[\"Precision\"],\n",
        "    \"Recall\": result[\"Recall\"],\n",
        "    \"F1 Score\": result[\"F1 Score\"],\n",
        "    \"ROC AUC\": result[\"ROC AUC\"],\n",
        "    \"Moyenne Cross Validation\": result[\"Moyenne Cross Validation\"],\n",
        "    \"Ecart type\": result[\"Ecart type\"]\n",
        "} for result in results])\n",
        "\n",
        "print(results_df)"
      ]
    },
    {
      "cell_type": "markdown",
      "metadata": {
        "id": "C-KiaCVuO8Hf"
      },
      "source": [
        "On constate que notre meilleur modèle est GBTClassifier.\n",
        "\n",
        "On va vérifier ça en affichant notre modèle avec le meilleur f1score et on va également afficher ses hyperparamètres."
      ]
    },
    {
      "cell_type": "code",
      "execution_count": null,
      "metadata": {
        "colab": {
          "base_uri": "https://localhost:8080/"
        },
        "id": "C0_hr6JuJuAI",
        "outputId": "759c3c64-8590-458c-b2be-bc72dac7fb66"
      },
      "outputs": [
        {
          "name": "stdout",
          "output_type": "stream",
          "text": [
            "Hyperparamètres pour le modèle GradientBoostedTrees avec le plus grand F1 score :\n",
            "\n",
            "    cacheNodeIds: False\n",
            "    checkpointInterval: 10\n",
            "    featureSubsetStrategy: all\n",
            "    featuresCol: scaled_features\n",
            "    impurity: variance\n",
            "    labelCol: label\n",
            "    leafCol: \n",
            "    lossType: logistic\n",
            "    maxBins: 32\n",
            "    maxDepth: 5\n",
            "    maxIter: 30\n",
            "    maxMemoryInMB: 256\n",
            "    minInfoGain: 0.0\n",
            "    minInstancesPerNode: 1\n",
            "    minWeightFractionPerNode: 0.0\n",
            "    predictionCol: prediction\n",
            "    probabilityCol: probability\n",
            "    rawPredictionCol: rawPrediction\n",
            "    seed: -5727026145477880835\n",
            "    stepSize: 0.1\n",
            "    subsamplingRate: 1.0\n",
            "    validationTol: 0.01\n"
          ]
        }
      ],
      "source": [
        "import numpy as np\n",
        "\n",
        "F1_values = [result[\"F1 Score\"] for result in results]\n",
        "best_F1_index = np.argmax(F1_values)\n",
        "# modèle avec le plus grand F1 Score\n",
        "best_F1_model_results = results[best_F1_index]\n",
        "\n",
        "# récupérer les hyperparamètres\n",
        "hyperparameters = best_F1_model_results[\"BestModel\"].extractParamMap()\n",
        "print(f\"Hyperparamètres pour le modèle {best_F1_model_results['Model']} avec le plus grand F1 score :\\n\")\n",
        "for param_name, param_value in hyperparameters.items():\n",
        "    print(f\"    {param_name.name}: {param_value}\")"
      ]
    },
    {
      "cell_type": "markdown",
      "metadata": {
        "id": "DlFPyfwWQfYe"
      },
      "source": [
        "On stock ainsi dans une variable notre meilleur modèle"
      ]
    },
    {
      "cell_type": "code",
      "execution_count": null,
      "metadata": {
        "id": "OOL-PRsmQkW3"
      },
      "outputs": [],
      "source": [
        "model_best = best_F1_model_results[\"BestModel\"]\n",
        "\n",
        "# Si on devait recréer notre modèle :\n",
        "model_recree = GBTClassifier(cacheNodeIds=False,\n",
        "                      checkpointInterval=10,\n",
        "                      featureSubsetStrategy='all',\n",
        "                      featuresCol='scaled_features',\n",
        "                      labelCol='label',\n",
        "                      lossType='logistic',\n",
        "                      maxBins=32,\n",
        "                      maxDepth=5,\n",
        "                      maxIter=30,\n",
        "                      maxMemoryInMB=256,\n",
        "                      minInfoGain=0.0,\n",
        "                      minInstancesPerNode=1,\n",
        "                      minWeightFractionPerNode=0.0,\n",
        "                      predictionCol='prediction',\n",
        "                      seed=1806664815509264457,\n",
        "                      stepSize=0.1,\n",
        "                      subsamplingRate=1.0,\n",
        "                      validationTol=0.01)"
      ]
    },
    {
      "cell_type": "markdown",
      "metadata": {
        "id": "xNqgQkUOREXy"
      },
      "source": [
        "Dans le but d'ameliorer nos performances, nous allons contruire un modèle d'ensemble learninng avec nos 3 meilleurs modèles (selon le F1score) que l'on affiche"
      ]
    },
    {
      "cell_type": "code",
      "execution_count": null,
      "metadata": {
        "colab": {
          "base_uri": "https://localhost:8080/"
        },
        "id": "hpl4LA5_uave",
        "outputId": "e2b3494a-27c2-4dc3-de2b-85007d70e11d"
      },
      "outputs": [
        {
          "name": "stdout",
          "output_type": "stream",
          "text": [
            "['DecisionTree', 'RandomForest', 'GradientBoostedTrees']\n",
            "Ensemble Model Metrics:\n",
            "Accuracy: 0.9375161373612187\n",
            "Precision: 0.9381054205113633\n",
            "Recall: 0.9375161373612187\n",
            "F1 Score: 0.9375852172940284\n",
            "AUC-ROC: 0.9383952233974642\n"
          ]
        }
      ],
      "source": [
        "from pyspark.sql.functions import expr, monotonically_increasing_id, col, udf\n",
        "from pyspark.sql.types import IntegerType, DoubleType\n",
        "import numpy as np\n",
        "from pyspark.ml.evaluation import MulticlassClassificationEvaluator, BinaryClassificationEvaluator\n",
        "\n",
        "val_data_final = val_data_final.withColumn(\"index\", monotonically_increasing_id())\n",
        "\n",
        "# meilleurs modèles\n",
        "f1_scores = [result[\"F1 Score\"] for result in results]\n",
        "best_model_indices = np.argsort(f1_scores)[-3:]\n",
        "best_models = [results[i][\"BestModel\"] for i in best_model_indices]\n",
        "print([results[i][\"Model\"] for i in best_model_indices])\n",
        "\n",
        "# prédictions sur chaque modèle\n",
        "val_predictions_list = [model.transform(val_data_final).select(\"index\", \"prediction\").withColumnRenamed(\"prediction\", f\"prediction_{i}\")\n",
        "                        for i, model in enumerate(best_models)]\n",
        "\n",
        "# jointure sur 1 seul dataframe\n",
        "val_predictions_combined = val_data_final\n",
        "for i, val_pred in enumerate(val_predictions_list):\n",
        "    val_predictions_combined = val_predictions_combined.join(val_pred, on=\"index\")\n",
        "\n",
        "# défini la prédiction à faire en fonction des autres modèles\n",
        "def majority_vote(*predictions):\n",
        "    return int(np.argmax(np.bincount([int(pred) for pred in predictions])))\n",
        "\n",
        "# Enregistrer la fonction de vote majoritaire comme UDF\n",
        "majority_vote_udf = udf(lambda *predictions: majority_vote(*predictions), IntegerType())\n",
        "val_predictions_combined = val_predictions_combined.withColumn(\n",
        "    \"ensemble_prediction\",\n",
        "    majority_vote_udf(col(\"prediction_0\"), col(\"prediction_1\"), col(\"prediction_2\"))\n",
        ")\n",
        "val_predictions_combined = val_predictions_combined.withColumn(\n",
        "    \"ensemble_prediction\", col(\"ensemble_prediction\").cast(DoubleType())\n",
        ")\n",
        "\n",
        "# Évaluateurs pour les métriques\n",
        "evaluator = BinaryClassificationEvaluator(rawPredictionCol=\"ensemble_prediction\", labelCol=\"label\")\n",
        "evaluator_accuracy = MulticlassClassificationEvaluator(labelCol=\"label\", predictionCol=\"ensemble_prediction\", metricName=\"accuracy\")\n",
        "evaluator_precision = MulticlassClassificationEvaluator(labelCol=\"label\", predictionCol=\"ensemble_prediction\", metricName=\"weightedPrecision\")\n",
        "evaluator_recall = MulticlassClassificationEvaluator(labelCol=\"label\", predictionCol=\"ensemble_prediction\", metricName=\"weightedRecall\")\n",
        "evaluator_f1 = MulticlassClassificationEvaluator(labelCol=\"label\", predictionCol=\"ensemble_prediction\", metricName=\"f1\")\n",
        "\n",
        "# Calculer les métriques d'évaluation\n",
        "accuracy = evaluator_accuracy.evaluate(val_predictions_combined)\n",
        "precision = evaluator_precision.evaluate(val_predictions_combined)\n",
        "recall = evaluator_recall.evaluate(val_predictions_combined)\n",
        "f1_score = evaluator_f1.evaluate(val_predictions_combined)\n",
        "auc_roc = evaluator.evaluate(val_predictions_combined)\n",
        "\n",
        "print(\"Ensemble Model Metrics:\")\n",
        "print(\"Accuracy:\", accuracy)\n",
        "print(\"Precision:\", precision)\n",
        "print(\"Recall:\", recall)\n",
        "print(\"F1 Score:\", f1_score)\n",
        "print(\"AUC-ROC:\", auc_roc)\n"
      ]
    },
    {
      "cell_type": "markdown",
      "metadata": {
        "id": "TOXqqZ1kVBQF"
      },
      "source": [
        " # Visualiser et interpreter les résultats"
      ]
    },
    {
      "cell_type": "markdown",
      "metadata": {
        "id": "vd3sW9IvT3-B"
      },
      "source": [
        "On constate que notre modèle d'ensemble learning possède des performances légèrement moin bien que notre GBTClassifier, qui est notre meilleur modèles puisqu'il possède le meilleur F1SCORE.\n",
        "\n",
        "On va donc garder ce dernier dans le but de faire des tests pour un futur mise en production."
      ]
    },
    {
      "cell_type": "code",
      "execution_count": null,
      "metadata": {
        "id": "qbcr_LpzzwTY"
      },
      "outputs": [],
      "source": []
    },
    {
      "cell_type": "code",
      "execution_count": null,
      "metadata": {
        "colab": {
          "base_uri": "https://localhost:8080/"
        },
        "id": "KejccvKK2RXC",
        "outputId": "49b1977c-cd55-43b9-df4b-39458fb7c9aa"
      },
      "outputs": [
        {
          "name": "stdout",
          "output_type": "stream",
          "text": [
            "Ensemble Model Metrics:\n",
            "Accuracy: 0.9383959705540488\n",
            "Precision: 0.939370239645748\n",
            "Recall: 0.9383959705540488\n",
            "F1 Score: 0.9384866146752275\n",
            "AUC-ROC: 0.9397737484770018\n"
          ]
        }
      ],
      "source": [
        "from sklearn.metrics import classification_report, confusion_matrix\n",
        "from pyspark.sql.functions import col\n",
        "import numpy as np\n",
        "\n",
        "test_data_final = test_data.select(col(\"scaled_features\"), col(\"churn_risk_score\").alias(\"label\"))\n",
        "y_pred = model_best.transform(test_data_final).withColumnRenamed(\"prediction\", \"test_prediction\")\n",
        "\n",
        "# Évaluateurs pour les métriques\n",
        "evaluator_accuracy = MulticlassClassificationEvaluator(labelCol=\"label\", predictionCol=\"test_prediction\", metricName=\"accuracy\")\n",
        "evaluator_precision = MulticlassClassificationEvaluator(labelCol=\"label\", predictionCol=\"test_prediction\", metricName=\"weightedPrecision\")\n",
        "evaluator_recall = MulticlassClassificationEvaluator(labelCol=\"label\", predictionCol=\"test_prediction\", metricName=\"weightedRecall\")\n",
        "evaluator_f1 = MulticlassClassificationEvaluator(labelCol=\"label\", predictionCol=\"test_prediction\", metricName=\"f1\")\n",
        "evaluator_roc_auc = BinaryClassificationEvaluator(rawPredictionCol=\"test_prediction\", labelCol=\"label\", metricName=\"areaUnderROC\")\n",
        "# Calculer les métriques d'évaluation\n",
        "accuracy = evaluator_accuracy.evaluate(y_pred)\n",
        "precision = evaluator_precision.evaluate(y_pred)\n",
        "recall = evaluator_recall.evaluate(y_pred)\n",
        "f1_score = evaluator_f1.evaluate(y_pred)\n",
        "auc_roc = evaluator_roc_auc.evaluate(y_pred)\n",
        "\n",
        "print(\"Ensemble Model Metrics:\")\n",
        "print(\"Accuracy:\", accuracy)\n",
        "print(\"Precision:\", precision)\n",
        "print(\"Recall:\", recall)\n",
        "print(\"F1 Score:\", f1_score)\n",
        "print(\"AUC-ROC:\", auc_roc)"
      ]
    },
    {
      "cell_type": "markdown",
      "metadata": {
        "id": "EG5ojZ4DUxWX"
      },
      "source": [
        "On peut donc afficher nos résultats sous forme d'une matrice de confusion"
      ]
    },
    {
      "cell_type": "code",
      "execution_count": null,
      "metadata": {
        "colab": {
          "base_uri": "https://localhost:8080/",
          "height": 472
        },
        "id": "L3_DWEg4UxJZ",
        "outputId": "39bfbba7-ffec-4b54-cc94-bac15e4e4a3e"
      },
      "outputs": [
        {
          "data": {
            "image/png": "[encoded data removed]",
            "text/plain": [
              "<Figure size 640x480 with 2 Axes>"
            ]
          },
          "metadata": {},
          "output_type": "display_data"
        }
      ],
      "source": [
        "y_true_list = test_data_final.select(\"label\").rdd.flatMap(lambda x: x).collect()\n",
        "y_pred_list = y_pred.select(\"test_prediction\").rdd.flatMap(lambda x: x).collect()\n",
        "\n",
        "conf_matrix = confusion_matrix(y_true_list, y_pred_list)\n",
        "\n",
        "# Afficher la matrice de confusion\n",
        "sns.heatmap(conf_matrix, annot=True, fmt='d', cmap='Blues')\n",
        "plt.xlabel('Predicted')\n",
        "plt.ylabel('Actual')\n",
        "plt.title('Confusion Matrix')\n",
        "plt.show()"
      ]
    },
    {
      "cell_type": "markdown",
      "metadata": {
        "id": "TFegx_4oVdiD"
      },
      "source": [
        "Cette matrice confirme nos bon résultats\n",
        "\n",
        "On peut faire un affichage semblable sous forme d'histogramme"
      ]
    },
    {
      "cell_type": "code",
      "execution_count": null,
      "metadata": {
        "colab": {
          "base_uri": "https://localhost:8080/",
          "height": 472
        },
        "id": "81WcFKSZILvp",
        "outputId": "b313829c-adb3-44dd-952b-f4c6f96ca7df"
      },
      "outputs": [
        {
          "data": {
            "image/png": "[encoded data removed]",
            "text/plain": [
              "<Figure size 640x480 with 1 Axes>"
            ]
          },
          "metadata": {},
          "output_type": "display_data"
        }
      ],
      "source": [
        "import seaborn as sns\n",
        "\n",
        "# Créer un DataFrame pour les données réelles et prédites\n",
        "df = pd.DataFrame({'Actual': y_true_list, 'Predicted': y_pred_list})\n",
        "\n",
        "# Plot\n",
        "sns.countplot(x='Predicted', hue='Actual', data=df)\n",
        "plt.title('Predicted vs Actual')\n",
        "plt.show()\n"
      ]
    },
    {
      "cell_type": "markdown",
      "metadata": {
        "id": "2teDc7XpVq4R"
      },
      "source": [
        "On affiche Ici notre courbe ROC, celle ci ne possède pas enormément de point mais met en avant que notre résultat possède de bonne performance"
      ]
    },
    {
      "cell_type": "code",
      "execution_count": null,
      "metadata": {
        "colab": {
          "base_uri": "https://localhost:8080/",
          "height": 385
        },
        "id": "ijAvuYQjJdmv",
        "outputId": "90ff3779-d6af-467e-ba53-3a163b6c77ea"
      },
      "outputs": [
        {
          "data": {
            "text/html": [
              "\n",
              "<div id=\"altair-viz-2e59c0edf33a44d8b7713973b49a7035\"></div>\n",
              "<script type=\"text/javascript\">\n",
              "  var VEGA_DEBUG = (typeof VEGA_DEBUG == \"undefined\") ? {} : VEGA_DEBUG;\n",
              "  (function(spec, embedOpt){\n",
              "    let outputDiv = document.currentScript.previousElementSibling;\n",
              "    if (outputDiv.id !== \"altair-viz-2e59c0edf33a44d8b7713973b49a7035\") {\n",
              "      outputDiv = document.getElementById(\"altair-viz-2e59c0edf33a44d8b7713973b49a7035\");\n",
              "    }\n",
              "    const paths = {\n",
              "      \"vega\": \"https://cdn.jsdelivr.net/npm//vega@5?noext\",\n",
              "      \"vega-lib\": \"https://cdn.jsdelivr.net/npm//vega-lib?noext\",\n",
              "      \"vega-lite\": \"https://cdn.jsdelivr.net/npm//vega-lite@4.17.0?noext\",\n",
              "      \"vega-embed\": \"https://cdn.jsdelivr.net/npm//vega-embed@6?noext\",\n",
              "    };\n",
              "\n",
              "    function maybeLoadScript(lib, version) {\n",
              "      var key = `${lib.replace(\"-\", \"\")}_version`;\n",
              "      return (VEGA_DEBUG[key] == version) ?\n",
              "        Promise.resolve(paths[lib]) :\n",
              "        new Promise(function(resolve, reject) {\n",
              "          var s = document.createElement('script');\n",
              "          document.getElementsByTagName(\"head\")[0].appendChild(s);\n",
              "          s.async = true;\n",
              "          s.onload = () => {\n",
              "            VEGA_DEBUG[key] = version;\n",
              "            return resolve(paths[lib]);\n",
              "          };\n",
              "          s.onerror = () => reject(`Error loading script: ${paths[lib]}`);\n",
              "          s.src = paths[lib];\n",
              "        });\n",
              "    }\n",
              "\n",
              "    function showError(err) {\n",
              "      outputDiv.innerHTML = `<div class=\"error\" style=\"color:red;\">${err}</div>`;\n",
              "      throw err;\n",
              "    }\n",
              "\n",
              "    function displayChart(vegaEmbed) {\n",
              "      vegaEmbed(outputDiv, spec, embedOpt)\n",
              "        .catch(err => showError(`Javascript Error: ${err.message}<br>This usually means there's a typo in your chart specification. See the javascript console for the full traceback.`));\n",
              "    }\n",
              "\n",
              "    if(typeof define === \"function\" && define.amd) {\n",
              "      requirejs.config({paths});\n",
              "      require([\"vega-embed\"], displayChart, err => showError(`Error loading script: ${err.message}`));\n",
              "    } else {\n",
              "      maybeLoadScript(\"vega\", \"5\")\n",
              "        .then(() => maybeLoadScript(\"vega-lite\", \"4.17.0\"))\n",
              "        .then(() => maybeLoadScript(\"vega-embed\", \"6\"))\n",
              "        .catch(showError)\n",
              "        .then(() => displayChart(vegaEmbed));\n",
              "    }\n",
              "  })({\"config\": {\"view\": {\"continuousWidth\": 400, \"continuousHeight\": 300}}, \"data\": {\"name\": \"data-b8fac9350abff123fa6fef1964f532c1\"}, \"mark\": \"line\", \"encoding\": {\"tooltip\": [{\"field\": \"False Positive Rate\", \"type\": \"quantitative\"}, {\"field\": \"True Positive Rate\", \"type\": \"quantitative\"}], \"x\": {\"field\": \"False Positive Rate\", \"type\": \"quantitative\"}, \"y\": {\"field\": \"True Positive Rate\", \"type\": \"quantitative\"}}, \"selection\": {\"selector009\": {\"type\": \"interval\", \"bind\": \"scales\", \"encodings\": [\"x\", \"y\"]}}, \"title\": \"ROC Curve\", \"$schema\": \"https://vega.github.io/schema/vega-lite/v4.17.0.json\", \"datasets\": {\"data-b8fac9350abff123fa6fef1964f532c1\": [{\"False Positive Rate\": 0.0, \"True Positive Rate\": 0.0}, {\"False Positive Rate\": 0.04522184300341297, \"True Positive Rate\": 0.9247693399574166}, {\"False Positive Rate\": 1.0, \"True Positive Rate\": 1.0}]}}, {\"mode\": \"vega-lite\"});\n",
              "</script>"
            ],
            "text/plain": [
              "alt.Chart(...)"
            ]
          },
          "execution_count": 61,
          "metadata": {},
          "output_type": "execute_result"
        }
      ],
      "source": [
        "#ROC croube\n",
        "import altair as alt\n",
        "from sklearn.metrics import roc_curve\n",
        "\n",
        "fpr, tpr, thresholds = roc_curve(y_true_list, y_pred_list)\n",
        "\n",
        "roc_data = pd.DataFrame({'False Positive Rate': fpr, 'True Positive Rate': tpr})\n",
        "\n",
        "alt.Chart(roc_data).mark_line().encode(\n",
        "    x='False Positive Rate',\n",
        "    y='True Positive Rate',\n",
        "    tooltip=['False Positive Rate', 'True Positive Rate']\n",
        ").properties(\n",
        "    title='ROC Curve'\n",
        ").interactive()\n",
        "\n"
      ]
    },
    {
      "cell_type": "markdown",
      "metadata": {
        "id": "vHxmEDrbV7hv"
      },
      "source": [
        "De même pour notre courbe Precision-Recall qui montre bien que ces 2 valeurs possèdent de très bonnes métriques"
      ]
    },
    {
      "cell_type": "code",
      "execution_count": null,
      "metadata": {
        "colab": {
          "base_uri": "https://localhost:8080/",
          "height": 385
        },
        "id": "wSvETXRzmSEW",
        "outputId": "e776e360-e58a-4b12-c64f-a8b2b9a3df1d"
      },
      "outputs": [
        {
          "data": {
            "text/html": [
              "\n",
              "<div id=\"altair-viz-8af8ff83d9a64eefa441186fe546e08b\"></div>\n",
              "<script type=\"text/javascript\">\n",
              "  var VEGA_DEBUG = (typeof VEGA_DEBUG == \"undefined\") ? {} : VEGA_DEBUG;\n",
              "  (function(spec, embedOpt){\n",
              "    let outputDiv = document.currentScript.previousElementSibling;\n",
              "    if (outputDiv.id !== \"altair-viz-8af8ff83d9a64eefa441186fe546e08b\") {\n",
              "      outputDiv = document.getElementById(\"altair-viz-8af8ff83d9a64eefa441186fe546e08b\");\n",
              "    }\n",
              "    const paths = {\n",
              "      \"vega\": \"https://cdn.jsdelivr.net/npm//vega@5?noext\",\n",
              "      \"vega-lib\": \"https://cdn.jsdelivr.net/npm//vega-lib?noext\",\n",
              "      \"vega-lite\": \"https://cdn.jsdelivr.net/npm//vega-lite@4.17.0?noext\",\n",
              "      \"vega-embed\": \"https://cdn.jsdelivr.net/npm//vega-embed@6?noext\",\n",
              "    };\n",
              "\n",
              "    function maybeLoadScript(lib, version) {\n",
              "      var key = `${lib.replace(\"-\", \"\")}_version`;\n",
              "      return (VEGA_DEBUG[key] == version) ?\n",
              "        Promise.resolve(paths[lib]) :\n",
              "        new Promise(function(resolve, reject) {\n",
              "          var s = document.createElement('script');\n",
              "          document.getElementsByTagName(\"head\")[0].appendChild(s);\n",
              "          s.async = true;\n",
              "          s.onload = () => {\n",
              "            VEGA_DEBUG[key] = version;\n",
              "            return resolve(paths[lib]);\n",
              "          };\n",
              "          s.onerror = () => reject(`Error loading script: ${paths[lib]}`);\n",
              "          s.src = paths[lib];\n",
              "        });\n",
              "    }\n",
              "\n",
              "    function showError(err) {\n",
              "      outputDiv.innerHTML = `<div class=\"error\" style=\"color:red;\">${err}</div>`;\n",
              "      throw err;\n",
              "    }\n",
              "\n",
              "    function displayChart(vegaEmbed) {\n",
              "      vegaEmbed(outputDiv, spec, embedOpt)\n",
              "        .catch(err => showError(`Javascript Error: ${err.message}<br>This usually means there's a typo in your chart specification. See the javascript console for the full traceback.`));\n",
              "    }\n",
              "\n",
              "    if(typeof define === \"function\" && define.amd) {\n",
              "      requirejs.config({paths});\n",
              "      require([\"vega-embed\"], displayChart, err => showError(`Error loading script: ${err.message}`));\n",
              "    } else {\n",
              "      maybeLoadScript(\"vega\", \"5\")\n",
              "        .then(() => maybeLoadScript(\"vega-lite\", \"4.17.0\"))\n",
              "        .then(() => maybeLoadScript(\"vega-embed\", \"6\"))\n",
              "        .catch(showError)\n",
              "        .then(() => displayChart(vegaEmbed));\n",
              "    }\n",
              "  })({\"config\": {\"view\": {\"continuousWidth\": 400, \"continuousHeight\": 300}}, \"data\": {\"name\": \"data-568d179a4716410862c4b8c3409f737f\"}, \"mark\": \"line\", \"encoding\": {\"tooltip\": [{\"field\": \"Precision\", \"type\": \"quantitative\"}, {\"field\": \"Recall\", \"type\": \"quantitative\"}], \"x\": {\"field\": \"Recall\", \"type\": \"quantitative\"}, \"y\": {\"field\": \"Precision\", \"type\": \"quantitative\"}}, \"selection\": {\"selector010\": {\"type\": \"interval\", \"bind\": \"scales\", \"encodings\": [\"x\", \"y\"]}}, \"title\": \"Precision-Recall Curve\", \"$schema\": \"https://vega.github.io/schema/vega-lite/v4.17.0.json\", \"datasets\": {\"data-568d179a4716410862c4b8c3409f737f\": [{\"Precision\": 0.545912437039907, \"Recall\": 1.0}, {\"Precision\": 0.9609144542772862, \"Recall\": 0.9247693399574166}]}}, {\"mode\": \"vega-lite\"});\n",
              "</script>"
            ],
            "text/plain": [
              "alt.Chart(...)"
            ]
          },
          "execution_count": 62,
          "metadata": {},
          "output_type": "execute_result"
        }
      ],
      "source": [
        "#Courbe de Précision-Rappel\n",
        "from sklearn.metrics import precision_recall_curve\n",
        "\n",
        "precision, recall, thresholds = precision_recall_curve(y_true_list, y_pred_list)\n",
        "\n",
        "pr_data = pd.DataFrame({'Precision': precision[:-1], 'Recall': recall[:-1]})\n",
        "\n",
        "alt.Chart(pr_data).mark_line().encode(\n",
        "    x='Recall',\n",
        "    y='Precision',\n",
        "    tooltip=['Precision', 'Recall']\n",
        ").properties(\n",
        "    title='Precision-Recall Curve'\n",
        ").interactive()\n"
      ]
    },
    {
      "cell_type": "markdown",
      "metadata": {
        "id": "oHJ8ncGlYMhb"
      },
      "source": [
        "En conclusion, nous avons bien reussi à constuire un modèle de prédiction du risque de désabonnement chez les utilisateurs de notre service internet avec une très bonne perfomance. Ce qui permettra à notre équipe de marketing de mettre en oeuvre des techniques adaptées pour conserver nos clients."
      ]
    }
  ],
  "metadata": {
    "colab": {
      "provenance": []
    },
    "kernelspec": {
      "display_name": "Python 3",
      "name": "python3"
    },
    "language_info": {
      "name": "python"
    }
  },
  "nbformat": 4,
  "nbformat_minor": 0
}
